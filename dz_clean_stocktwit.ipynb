{
 "cells": [
  {
   "cell_type": "code",
   "execution_count": 1,
   "metadata": {
    "collapsed": true
   },
   "outputs": [],
   "source": [
    "import os"
   ]
  },
  {
   "cell_type": "markdown",
   "metadata": {},
   "source": [
    "# Merge all csv files"
   ]
  },
  {
   "cell_type": "code",
   "execution_count": null,
   "metadata": {
    "collapsed": true
   },
   "outputs": [],
   "source": [
    "path = 'data'\n",
    "directory = os.path.join(\"c:\\\\\",\"path\")\n",
    "for root,dirs,files in os.walk(directory):\n",
    "    for file in files:\n",
    "       if file.endswith(\".csv\"):\n",
    "            fout=open(\"out.csv\",\"a\")\n",
    "            # first file:\n",
    "            for line in open(\"sh1.csv\"):\n",
    "                fout.write(line)\n",
    "            # now the rest:    \n",
    "            for num in range(2,201):\n",
    "                f = open(\"sh\"+str(num)+\".csv\")\n",
    "                f.next() # skip the header\n",
    "                for line in f:\n",
    "                     fout.write(line)\n",
    "                f.close() # not really needed\n",
    "            fout.close()"
   ]
  }
 ],
 "metadata": {
  "anaconda-cloud": {},
  "kernelspec": {
   "display_name": "Python [conda root]",
   "language": "python",
   "name": "conda-root-py"
  },
  "language_info": {
   "codemirror_mode": {
    "name": "ipython",
    "version": 2
   },
   "file_extension": ".py",
   "mimetype": "text/x-python",
   "name": "python",
   "nbconvert_exporter": "python",
   "pygments_lexer": "ipython2",
   "version": "2.7.12"
  }
 },
 "nbformat": 4,
 "nbformat_minor": 1
}
