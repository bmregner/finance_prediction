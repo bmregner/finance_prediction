{
 "cells": [
  {
   "cell_type": "markdown",
   "metadata": {},
   "source": [
    "# Time price prediction"
   ]
  },
  {
   "cell_type": "markdown",
   "metadata": {},
   "source": [
    "# Random Forest"
   ]
  },
  {
   "cell_type": "code",
   "execution_count": 1,
   "metadata": {
    "collapsed": true
   },
   "outputs": [],
   "source": [
    "import pandas as pd\n",
    "import ijson\n",
    "import json\n",
    "import gensim\n",
    "import re\n",
    "import numpy as np\n",
    "\n",
    "from nltk.corpus import stopwords\n",
    "from nltk.tokenize import RegexpTokenizer\n",
    "from nltk.stem.porter import PorterStemmer\n",
    "from nltk.stem.snowball import SnowballStemmer\n",
    "from nltk.stem.lancaster import LancasterStemmer\n",
    "from nltk.stem.wordnet import WordNetLemmatizer\n",
    "from sklearn.feature_extraction.text import CountVectorizer\n",
    "from sklearn.feature_extraction.text import TfidfVectorizer\n",
    "from sklearn.ensemble import RandomForestClassifier"
   ]
  },
  {
   "cell_type": "markdown",
   "metadata": {},
   "source": [
    "### Test articles from 2 days"
   ]
  },
  {
   "cell_type": "code",
   "execution_count": 33,
   "metadata": {
    "collapsed": true
   },
   "outputs": [],
   "source": [
    "Jan25_article = 'Earnings_Preview_Facebook_Inc_NASDAQFB_moved_up_10_times_out_of_last_17_quarters__The_Independent_Republic.json'\n",
    "Jan26_article = 'Facebook_Inc_FB_Hires_Former_Google_Exec_to_Lead_Oculus.json'"
   ]
  },
  {
   "cell_type": "markdown",
   "metadata": {},
   "source": [
    "### Create dataframe from JSON files"
   ]
  },
  {
   "cell_type": "code",
   "execution_count": 6,
   "metadata": {
    "collapsed": false
   },
   "outputs": [
    {
     "data": {
      "text/plain": [
       "['Earnings_Preview_Facebook_Inc_NASDAQFB_moved_up_10_times_out_of_last_17_quarters__The_Independent_Republic.json',\n",
       " 'Facebook_Inc_FB_Hires_Former_Google_Exec_to_Lead_Oculus.json']"
      ]
     },
     "execution_count": 6,
     "metadata": {},
     "output_type": "execute_result"
    }
   ],
   "source": [
    "articlelist = [Jan25_article, Jan26_article]\n",
    "articlelist"
   ]
  },
  {
   "cell_type": "code",
   "execution_count": 142,
   "metadata": {
    "collapsed": true
   },
   "outputs": [],
   "source": [
    "def read_Google_articles(articlelist):\n",
    "    \"\"\" \n",
    "    Converts Google News JSON file into a data frame. Takes in\n",
    "    a .json file and returns a dataframe using the json's dictionary-like\n",
    "    structure \n",
    "    \"\"\"\n",
    "    \n",
    "    with open(articlelist[0],'r') as first:\n",
    "        firstdict = json.load(first)\n",
    "        combined_df = pd.DataFrame.from_dict(firstdict, orient = 'index')\n",
    "        combined_df = combined_df.T\n",
    "    \n",
    "    for article in articlelist:\n",
    "        with open(article, 'r') as fin:\n",
    "            mydict = json.load(fin)\n",
    "        current_df = pd.DataFrame.from_dict(mydict, orient = 'index')\n",
    "        current_df = current_df.T\n",
    "    \n",
    "    final_df = pd.concat([combined_df, current_df])\n",
    "#     combined_df = pd.concat([pd.read_json(file, orient = 'frame') for file in articlelist], ignore_index=True)\n",
    "        \n",
    "    return final_df"
   ]
  },
  {
   "cell_type": "code",
   "execution_count": 144,
   "metadata": {
    "collapsed": false
   },
   "outputs": [
    {
     "data": {
      "text/html": [
       "<div>\n",
       "<table border=\"1\" class=\"dataframe\">\n",
       "  <thead>\n",
       "    <tr style=\"text-align: right;\">\n",
       "      <th></th>\n",
       "      <th>body</th>\n",
       "      <th>category</th>\n",
       "      <th>title</th>\n",
       "    </tr>\n",
       "  </thead>\n",
       "  <tbody>\n",
       "    <tr>\n",
       "      <th>0</th>\n",
       "      <td>Facebook, Inc. (NASDAQ:FB) is projected to dec...</td>\n",
       "      <td>Facebook</td>\n",
       "      <td>Earnings Preview: Facebook, Inc. (NASDAQ:FB) m...</td>\n",
       "    </tr>\n",
       "    <tr>\n",
       "      <th>0</th>\n",
       "      <td>Facebook Inc’s (NASDAQ: ) virtual reality divi...</td>\n",
       "      <td>Facebook 1-26-17</td>\n",
       "      <td>Facebook Inc (FB) Hires Former Google Exec to ...</td>\n",
       "    </tr>\n",
       "  </tbody>\n",
       "</table>\n",
       "</div>"
      ],
      "text/plain": [
       "                                                body          category  \\\n",
       "0  Facebook, Inc. (NASDAQ:FB) is projected to dec...          Facebook   \n",
       "0  Facebook Inc’s (NASDAQ: ) virtual reality divi...  Facebook 1-26-17   \n",
       "\n",
       "                                               title  \n",
       "0  Earnings Preview: Facebook, Inc. (NASDAQ:FB) m...  \n",
       "0  Facebook Inc (FB) Hires Former Google Exec to ...  "
      ]
     },
     "execution_count": 144,
     "metadata": {},
     "output_type": "execute_result"
    }
   ],
   "source": [
    "all_articles_df = read_Google_articles(articlelist)\n",
    "all_articles_df"
   ]
  },
  {
   "cell_type": "code",
   "execution_count": null,
   "metadata": {
    "collapsed": true
   },
   "outputs": [],
   "source": []
  },
  {
   "cell_type": "code",
   "execution_count": null,
   "metadata": {
    "collapsed": true
   },
   "outputs": [],
   "source": []
  },
  {
   "cell_type": "code",
   "execution_count": null,
   "metadata": {
    "collapsed": true
   },
   "outputs": [],
   "source": []
  },
  {
   "cell_type": "code",
   "execution_count": 111,
   "metadata": {
    "collapsed": false,
    "scrolled": true
   },
   "outputs": [],
   "source": [
    "mydf2 = mydf2.T"
   ]
  },
  {
   "cell_type": "code",
   "execution_count": 114,
   "metadata": {
    "collapsed": false
   },
   "outputs": [
    {
     "data": {
      "text/html": [
       "<div>\n",
       "<table border=\"1\" class=\"dataframe\">\n",
       "  <thead>\n",
       "    <tr style=\"text-align: right;\">\n",
       "      <th></th>\n",
       "      <th>body</th>\n",
       "      <th>category</th>\n",
       "      <th>title</th>\n",
       "    </tr>\n",
       "  </thead>\n",
       "  <tbody>\n",
       "    <tr>\n",
       "      <th>0</th>\n",
       "      <td>Facebook, Inc. (NASDAQ:FB) is projected to dec...</td>\n",
       "      <td>Facebook</td>\n",
       "      <td>Earnings Preview: Facebook, Inc. (NASDAQ:FB) m...</td>\n",
       "    </tr>\n",
       "    <tr>\n",
       "      <th>0</th>\n",
       "      <td>Facebook Inc’s (NASDAQ: ) virtual reality divi...</td>\n",
       "      <td>Facebook 1-26-17</td>\n",
       "      <td>Facebook Inc (FB) Hires Former Google Exec to ...</td>\n",
       "    </tr>\n",
       "  </tbody>\n",
       "</table>\n",
       "</div>"
      ],
      "text/plain": [
       "                                                body          category  \\\n",
       "0  Facebook, Inc. (NASDAQ:FB) is projected to dec...          Facebook   \n",
       "0  Facebook Inc’s (NASDAQ: ) virtual reality divi...  Facebook 1-26-17   \n",
       "\n",
       "                                               title  \n",
       "0  Earnings Preview: Facebook, Inc. (NASDAQ:FB) m...  \n",
       "0  Facebook Inc (FB) Hires Former Google Exec to ...  "
      ]
     },
     "execution_count": 114,
     "metadata": {},
     "output_type": "execute_result"
    }
   ],
   "source": [
    "# USE CONCAT WITH .APPEND DOESN'T WORK!!!\n",
    "pd.concat([mydf1,mydf2], ignore_index=False)"
   ]
  },
  {
   "cell_type": "markdown",
   "metadata": {},
   "source": [
    "### Preprocess these articles"
   ]
  },
  {
   "cell_type": "code",
   "execution_count": null,
   "metadata": {
    "collapsed": true
   },
   "outputs": [],
   "source": [
    "def preprocess_article_content(text_df):\n",
    "    \"\"\"\n",
    "    Simple preprocessing pipeline which uses RegExp, sets basic token requirements, and removes stop words.\n",
    "    Set up to work with df files created from JSONs\n",
    "    \"\"\"\n",
    "    print 'preprocessing article text...'\n",
    "\n",
    "    # tokenizer, stops, and stemmer\n",
    "    tokenizer = RegexpTokenizer(r'\\w+')\n",
    "    stop_words = set(stopwords.words('english'))  # can add more stop words to this set\n",
    "    stemmer = SnowballStemmer('english')\n",
    "\n",
    "    # process articles\n",
    "    article_list = []\n",
    "    for row, article in enumerate(text_df['full_text']):\n",
    "        cleaned_tokens = []\n",
    "\n",
    "        letters_only = re.sub(\"[^a-zA-Z]\", \" \", article)\n",
    "        lower_case = letters_only.lower()\n",
    "        tokens = re_tokenizer.tokenize(lower_case)\n",
    "\n",
    "    #         tokens = tokenizer.tokenize(article.decode('utf-8').lower())\n",
    "        for token in tokens:\n",
    "            if token not in stop_words:\n",
    "                if len(token) > 0 and len(token) < 20: # removes non words\n",
    "                    if not token[0].isdigit() and not token[-1].isdigit(): # removes numbers\n",
    "                        stemmed_tokens = stemmer.stem(token)\n",
    "                        cleaned_tokens.append(stemmed_tokens)\n",
    "        # add process article\n",
    "        article_list.append(' '.join(wd for wd in cleaned_tokens))\n",
    "\n",
    "    # echo results and return\n",
    "    print 'preprocessed content for %d articles' % len(article_list)\n",
    "    return article_list"
   ]
  }
 ],
 "metadata": {
  "anaconda-cloud": {},
  "kernelspec": {
   "display_name": "Python [conda root]",
   "language": "python",
   "name": "conda-root-py"
  },
  "language_info": {
   "codemirror_mode": {
    "name": "ipython",
    "version": 2
   },
   "file_extension": ".py",
   "mimetype": "text/x-python",
   "name": "python",
   "nbconvert_exporter": "python",
   "pygments_lexer": "ipython2",
   "version": "2.7.12"
  }
 },
 "nbformat": 4,
 "nbformat_minor": 1
}
