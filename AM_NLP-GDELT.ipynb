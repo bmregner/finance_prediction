{
 "cells": [
  {
   "cell_type": "code",
   "execution_count": 2,
   "metadata": {
    "collapsed": true
   },
   "outputs": [],
   "source": [
    "import csv\n",
    "import pandas as pd\n",
    "import nltk"
   ]
  },
  {
   "cell_type": "code",
   "execution_count": 3,
   "metadata": {
    "collapsed": false,
    "scrolled": true
   },
   "outputs": [
    {
     "name": "stdout",
     "output_type": "stream",
     "text": [
      "['Date', 'Source', 'Target', 'CAMEOCode', 'NumEvents', 'NumArts', 'QuadClass', 'Goldstein', 'SourceGeoType', 'SourceGeoLat', 'SourceGeoLong', 'TargetGeoType', 'TargetGeoLat', 'TargetGeoLong', 'ActionGeoType', 'ActionGeoLat', 'ActionGeoLong']\n"
     ]
    }
   ],
   "source": [
    "with open('GDELT.MASTERREDUCEDV2.csv') as csvfile:\n",
    "    reader=csv.reader(csvfile,delimiter='\\t')\n",
    "    row1=next(reader)\n",
    "    print(row1)"
   ]
  },
  {
   "cell_type": "code",
   "execution_count": 4,
   "metadata": {
    "collapsed": false
   },
   "outputs": [
    {
     "name": "stdout",
     "output_type": "stream",
     "text": [
      "['253461011', '20030404', '200304', '2003', '2003.2575', 'AFG', 'AFGHANISTAN', 'AFG', '', '', '', '', '', '', '', ' UIS', 'THE INTERNATIONAL COMMUNITY', '', '', '', '', '', 'UIS', '', '', '0', '043', '043', '04', '1', '2.8', '6', '1', '6', '0', '1', 'Algeria', 'AG', 'AG', '28', '3', 'AG', '1', 'Algeria', 'AG', 'AG', '28', '3', 'AG', '1', 'Algeria', 'AG', 'AG', '28', '3', 'AG', '20130401', 'BBC Monitoring']\n",
      "['253461012', '20030404', '200304', '2003', '2003.2575', 'AUS', 'AUSTRALIA', 'AUS', '', '', '', '', '', '', '', ' CVL', 'MIGRANT', '', '', '', '', '', 'CVL', '', '', '1', '043', '043', '04', '1', '2.8', '10', '1', '10', '2.22222222222222', '1', 'Australia', 'AS', 'AS', '-27', '133', 'AS', '1', 'Australia', 'AS', 'AS', '-27', '133', 'AS', '1', 'Australia', 'AS', 'AS', '-27', '133', 'AS', '20130401', 'http://www.bangkokpost.com/breakingnews/343522/australia-people-smuggling-rising']\n",
      "['253461013', '20030404', '200304', '2003', '2003.2575', 'BUS', 'SHOP OWNER', '', '', '', '', '', 'BUS', '', '', ' CVL', 'NEIGHBORHOOD', '', '', '', '', '', 'CVL', '', '', '1', '172', '172', '17', '4', '-5.0', '8', '1', '8', '2.16736905478627', '4', 'Tai Hang, Hong Kong (general), Hong Kong', 'HK', 'HK00', '22.4667', '114.15', '-1354145', '4', 'Tai Hang, Hong Kong (general), Hong Kong', 'HK', 'HK00', '22.4667', '114.15', '-1354145', '4', 'Tai Hang, Hong Kong (general), Hong Kong', 'HK', 'HK00', '22.4667', '114.15', '-1354145', '20130401', 'http://www.bloomberg.com/news/2013-04-01/hong-kong-businesses-vanish-as-rents-soar-real-estate.html']\n"
     ]
    }
   ],
   "source": [
    "with open('20130401.export.csv') as csvfile:\n",
    "    reader=csv.reader(csvfile,delimiter='\\t')\n",
    "    for i in range(3):\n",
    "        row1=next(reader)\n",
    "        print(row1)"
   ]
  },
  {
   "cell_type": "code",
   "execution_count": null,
   "metadata": {
    "collapsed": false
   },
   "outputs": [],
   "source": [
    "df=pd.read_csv('GDELT.MASTERREDUCEDV2.csv',delimiter='\\t')"
   ]
  },
  {
   "cell_type": "code",
   "execution_count": 6,
   "metadata": {
    "collapsed": true
   },
   "outputs": [],
   "source": [
    "header1=pd.read_csv('CSV.header.dailyupdates.txt',delimiter='\\t')"
   ]
  },
  {
   "cell_type": "code",
   "execution_count": 22,
   "metadata": {
    "collapsed": false
   },
   "outputs": [],
   "source": [
    "header2=pd.read_csv('CSV.header.historical.txt',delimiter='\\t')"
   ]
  },
  {
   "cell_type": "code",
   "execution_count": 5,
   "metadata": {
    "collapsed": true
   },
   "outputs": [],
   "source": [
    "df=pd.read_csv('20130401.export.CSV',delimiter='\\t')"
   ]
  },
  {
   "cell_type": "code",
   "execution_count": 7,
   "metadata": {
    "collapsed": false
   },
   "outputs": [],
   "source": [
    "df.columns=list(header1)"
   ]
  },
  {
   "cell_type": "code",
   "execution_count": 8,
   "metadata": {
    "collapsed": false
   },
   "outputs": [
    {
     "data": {
      "text/plain": [
       "'women-tourists-avoid-india-following-sexual-assaults-study-says.html'"
      ]
     },
     "execution_count": 8,
     "metadata": {},
     "output_type": "execute_result"
    }
   ],
   "source": [
    "df.iloc[400,-1].split('/')[-1].lower()"
   ]
  },
  {
   "cell_type": "code",
   "execution_count": 9,
   "metadata": {
    "collapsed": true
   },
   "outputs": [],
   "source": [
    "from nltk.tokenize import RegexpTokenizer\n",
    "re_tokenizer = RegexpTokenizer(r'\\w+')\n",
    "\n",
    "nyt_re_tokens = re_tokenizer.tokenize(df.iloc[400,-1].lower())"
   ]
  },
  {
   "cell_type": "code",
   "execution_count": 30,
   "metadata": {
    "collapsed": false
   },
   "outputs": [
    {
     "name": "stdout",
     "output_type": "stream",
     "text": [
      "['http://www.bangkokpost.', 'breakingnews/343522/australia-people-smuggling-rising']\n",
      "['http://www.bloomberg.', 'news/2013-04-01/hong-kong-businesses-vanish-as-rents-soar-real-estate.html']\n",
      "['http://www.bloomberg.', 'news/2013-04-01/hong-kong-businesses-vanish-as-rents-soar-real-estate.html']\n",
      "['http://www.bangkokpost.', 'breakingnews/343522/australia-people-smuggling-rising']\n",
      "['http://www.startribune.', 'nation/200818961.html']\n",
      "['BBC Monitoring']\n",
      "['http://www.philippinetimes.', 'index.php/sid/213539349/scat/2411cd3571b4f088']\n",
      "['http://www.theglobeandmail.', 'life/health-and-fitness/health/number-of-us-adhd-diagnoses-astronomical/article10606200/?cmpid=rss1']\n",
      "['http://www.theglobeandmail.', 'life/health-and-fitness/health/number-of-us-adhd-diagnoses-astronomical/article10606200/?cmpid=rss1']\n",
      "['http://www.channelnewsasia.', 'news/world/us-urges-serbia-kosovo-to-reach-agreemen/624136.html']\n"
     ]
    }
   ],
   "source": [
    "for i in range(10):\n",
    "    print(df.iloc[i,-1].split('com/'))"
   ]
  },
  {
   "cell_type": "code",
   "execution_count": 36,
   "metadata": {
    "collapsed": false
   },
   "outputs": [],
   "source": [
    "icom=0\n",
    "iBBC=0\n",
    "iit=0\n",
    "iru=0\n",
    "inet=0\n",
    "for i in range(len(df)):\n",
    "    url=df.iloc[i,-1]\n",
    "    if 'BBC Monitoring'==url:\n",
    "        iBBC+=1\n",
    "    elif '.com/' in url:\n",
    "        icom+=1\n",
    "    elif '.it/' in url:\n",
    "        iit+=1\n",
    "    elif '.ru/' in url:\n",
    "        iru+=1\n",
    "    elif '.net/' in url:\n",
    "        inet+=1"
   ]
  },
  {
   "cell_type": "code",
   "execution_count": 37,
   "metadata": {
    "collapsed": false
   },
   "outputs": [
    {
     "data": {
      "text/plain": [
       "(27757, 17961, 2300, 13, 135, 502)"
      ]
     },
     "execution_count": 37,
     "metadata": {},
     "output_type": "execute_result"
    }
   ],
   "source": [
    "len(df),icom,iBBC,iit,iru,inet"
   ]
  },
  {
   "cell_type": "code",
   "execution_count": 14,
   "metadata": {
    "collapsed": true
   },
   "outputs": [],
   "source": [
    "from nltk.corpus import stopwords\n",
    "import re"
   ]
  },
  {
   "cell_type": "code",
   "execution_count": 15,
   "metadata": {
    "collapsed": false
   },
   "outputs": [],
   "source": [
    "punctuation = re.compile(r'[-.?!,\":;()|0-9]')"
   ]
  },
  {
   "cell_type": "code",
   "execution_count": 24,
   "metadata": {
    "collapsed": false
   },
   "outputs": [
    {
     "name": "stdout",
     "output_type": "stream",
     "text": [
      "http\n",
      "www\n",
      "bloomberg\n",
      "com\n",
      "news\n",
      "\n",
      "\n",
      "\n",
      "women\n",
      "tourists\n",
      "avoid\n",
      "india\n",
      "following\n",
      "sexual\n",
      "assaults\n",
      "study\n",
      "says\n",
      "html\n"
     ]
    }
   ],
   "source": [
    "for word in nyt_re_tokens:\n",
    "    print(punctuation.sub(\"\", word))"
   ]
  },
  {
   "cell_type": "code",
   "execution_count": 17,
   "metadata": {
    "collapsed": false
   },
   "outputs": [
    {
     "ename": "TypeError",
     "evalue": "'_sre.SRE_Pattern' object is not iterable",
     "output_type": "error",
     "traceback": [
      "\u001b[0;31m---------------------------------------------------------------------------\u001b[0m",
      "\u001b[0;31mTypeError\u001b[0m                                 Traceback (most recent call last)",
      "\u001b[0;32m<ipython-input-17-4ca3e3895cfc>\u001b[0m in \u001b[0;36m<module>\u001b[0;34m()\u001b[0m\n\u001b[0;32m----> 1\u001b[0;31m \u001b[0mlist\u001b[0m\u001b[0;34m(\u001b[0m\u001b[0mpunctuation\u001b[0m\u001b[0;34m)\u001b[0m\u001b[0;34m\u001b[0m\u001b[0m\n\u001b[0m",
      "\u001b[0;31mTypeError\u001b[0m: '_sre.SRE_Pattern' object is not iterable"
     ]
    }
   ],
   "source": [
    "list(punctuation)"
   ]
  },
  {
   "cell_type": "code",
   "execution_count": 22,
   "metadata": {
    "collapsed": true
   },
   "outputs": [
    {
     "data": {
      "text/plain": [
       "['и',\n",
       " 'в',\n",
       " 'во',\n",
       " 'не',\n",
       " 'что',\n",
       " 'он',\n",
       " 'на',\n",
       " 'я',\n",
       " 'с',\n",
       " 'со',\n",
       " 'как',\n",
       " 'а',\n",
       " 'то',\n",
       " 'все',\n",
       " 'она',\n",
       " 'так',\n",
       " 'его',\n",
       " 'но',\n",
       " 'да',\n",
       " 'ты',\n",
       " 'к',\n",
       " 'у',\n",
       " 'же',\n",
       " 'вы',\n",
       " 'за',\n",
       " 'бы',\n",
       " 'по',\n",
       " 'только',\n",
       " 'ее',\n",
       " 'мне',\n",
       " 'было',\n",
       " 'вот',\n",
       " 'от',\n",
       " 'меня',\n",
       " 'еще',\n",
       " 'нет',\n",
       " 'о',\n",
       " 'из',\n",
       " 'ему',\n",
       " 'теперь',\n",
       " 'когда',\n",
       " 'даже',\n",
       " 'ну',\n",
       " 'вдруг',\n",
       " 'ли',\n",
       " 'если',\n",
       " 'уже',\n",
       " 'или',\n",
       " 'ни',\n",
       " 'быть',\n",
       " 'был',\n",
       " 'него',\n",
       " 'до',\n",
       " 'вас',\n",
       " 'нибудь',\n",
       " 'опять',\n",
       " 'уж',\n",
       " 'вам',\n",
       " 'ведь',\n",
       " 'там',\n",
       " 'потом',\n",
       " 'себя',\n",
       " 'ничего',\n",
       " 'ей',\n",
       " 'может',\n",
       " 'они',\n",
       " 'тут',\n",
       " 'где',\n",
       " 'есть',\n",
       " 'надо',\n",
       " 'ней',\n",
       " 'для',\n",
       " 'мы',\n",
       " 'тебя',\n",
       " 'их',\n",
       " 'чем',\n",
       " 'была',\n",
       " 'сам',\n",
       " 'чтоб',\n",
       " 'без',\n",
       " 'будто',\n",
       " 'чего',\n",
       " 'раз',\n",
       " 'тоже',\n",
       " 'себе',\n",
       " 'под',\n",
       " 'будет',\n",
       " 'ж',\n",
       " 'тогда',\n",
       " 'кто',\n",
       " 'этот',\n",
       " 'того',\n",
       " 'потому',\n",
       " 'этого',\n",
       " 'какой',\n",
       " 'совсем',\n",
       " 'ним',\n",
       " 'здесь',\n",
       " 'этом',\n",
       " 'один',\n",
       " 'почти',\n",
       " 'мой',\n",
       " 'тем',\n",
       " 'чтобы',\n",
       " 'нее',\n",
       " 'сейчас',\n",
       " 'были',\n",
       " 'куда',\n",
       " 'зачем',\n",
       " 'всех',\n",
       " 'никогда',\n",
       " 'можно',\n",
       " 'при',\n",
       " 'наконец',\n",
       " 'два',\n",
       " 'об',\n",
       " 'другой',\n",
       " 'хоть',\n",
       " 'после',\n",
       " 'над',\n",
       " 'больше',\n",
       " 'тот',\n",
       " 'через',\n",
       " 'эти',\n",
       " 'нас',\n",
       " 'про',\n",
       " 'всего',\n",
       " 'них',\n",
       " 'какая',\n",
       " 'много',\n",
       " 'разве',\n",
       " 'три',\n",
       " 'эту',\n",
       " 'моя',\n",
       " 'впрочем',\n",
       " 'хорошо',\n",
       " 'свою',\n",
       " 'этой',\n",
       " 'перед',\n",
       " 'иногда',\n",
       " 'лучше',\n",
       " 'чуть',\n",
       " 'том',\n",
       " 'нельзя',\n",
       " 'такой',\n",
       " 'им',\n",
       " 'более',\n",
       " 'всегда',\n",
       " 'конечно',\n",
       " 'всю',\n",
       " 'между']"
      ]
     },
     "execution_count": 22,
     "metadata": {},
     "output_type": "execute_result"
    }
   ],
   "source": [
    "stopwords.words('russian')"
   ]
  },
  {
   "cell_type": "code",
   "execution_count": 23,
   "metadata": {
    "collapsed": false
   },
   "outputs": [
    {
     "data": {
      "text/plain": [
       "['http',\n",
       " 'www',\n",
       " 'bloomberg',\n",
       " 'com',\n",
       " 'news',\n",
       " '2013',\n",
       " '04',\n",
       " '01',\n",
       " 'women',\n",
       " 'tourists',\n",
       " 'avoid',\n",
       " 'india',\n",
       " 'following',\n",
       " 'sexual',\n",
       " 'assaults',\n",
       " 'study',\n",
       " 'says',\n",
       " 'html']"
      ]
     },
     "execution_count": 23,
     "metadata": {},
     "output_type": "execute_result"
    }
   ],
   "source": [
    "nyt_re_tokens"
   ]
  },
  {
   "cell_type": "code",
   "execution_count": 16,
   "metadata": {
    "collapsed": false
   },
   "outputs": [
    {
     "data": {
      "text/html": [
       "<div>\n",
       "<table border=\"1\" class=\"dataframe\">\n",
       "  <thead>\n",
       "    <tr style=\"text-align: right;\">\n",
       "      <th></th>\n",
       "      <th>615051871</th>\n",
       "      <th>20160109</th>\n",
       "      <th>201601</th>\n",
       "      <th>2016</th>\n",
       "      <th>2016.0247</th>\n",
       "      <th>BUS</th>\n",
       "      <th>BUSINESS</th>\n",
       "      <th>Unnamed: 7</th>\n",
       "      <th>Unnamed: 8</th>\n",
       "      <th>Unnamed: 9</th>\n",
       "      <th>...</th>\n",
       "      <th>HA.5</th>\n",
       "      <th>1.3</th>\n",
       "      <th>Haiti.2</th>\n",
       "      <th>HA.6</th>\n",
       "      <th>HA.7</th>\n",
       "      <th>19.2</th>\n",
       "      <th>-72.4167.2</th>\n",
       "      <th>HA.8</th>\n",
       "      <th>20170108</th>\n",
       "      <th>http://www.foxnews.com/world/2012/05/11/prospectors-ready-to-tap-haiti-buried-gold.html</th>\n",
       "    </tr>\n",
       "  </thead>\n",
       "  <tbody>\n",
       "    <tr>\n",
       "      <th>0</th>\n",
       "      <td>615051872</td>\n",
       "      <td>20160109</td>\n",
       "      <td>201601</td>\n",
       "      <td>2016</td>\n",
       "      <td>2016.0247</td>\n",
       "      <td>BUS</td>\n",
       "      <td>BUSINESS</td>\n",
       "      <td>NaN</td>\n",
       "      <td>NaN</td>\n",
       "      <td>NaN</td>\n",
       "      <td>...</td>\n",
       "      <td>HA</td>\n",
       "      <td>1</td>\n",
       "      <td>Haiti</td>\n",
       "      <td>HA</td>\n",
       "      <td>HA</td>\n",
       "      <td>19.0</td>\n",
       "      <td>-72.4167</td>\n",
       "      <td>HA</td>\n",
       "      <td>20170108</td>\n",
       "      <td>http://www.foxnews.com/world/2012/05/11/prospe...</td>\n",
       "    </tr>\n",
       "  </tbody>\n",
       "</table>\n",
       "<p>1 rows × 58 columns</p>\n",
       "</div>"
      ],
      "text/plain": [
       "   615051871  20160109  201601  2016  2016.0247  BUS  BUSINESS Unnamed: 7  \\\n",
       "0  615051872  20160109  201601  2016  2016.0247  BUS  BUSINESS        NaN   \n",
       "\n",
       "  Unnamed: 8 Unnamed: 9  \\\n",
       "0        NaN        NaN   \n",
       "\n",
       "                                            ...                                            \\\n",
       "0                                           ...                                             \n",
       "\n",
       "  HA.5 1.3 Haiti.2 HA.6 HA.7  19.2 -72.4167.2 HA.8  20170108  \\\n",
       "0   HA   1   Haiti   HA   HA  19.0   -72.4167   HA  20170108   \n",
       "\n",
       "  http://www.foxnews.com/world/2012/05/11/prospectors-ready-to-tap-haiti-buried-gold.html  \n",
       "0  http://www.foxnews.com/world/2012/05/11/prospe...                                       \n",
       "\n",
       "[1 rows x 58 columns]"
      ]
     },
     "execution_count": 16,
     "metadata": {},
     "output_type": "execute_result"
    }
   ],
   "source": [
    "df.head(1)"
   ]
  }
 ],
 "metadata": {
  "anaconda-cloud": {},
  "kernelspec": {
   "display_name": "Python [py3k]",
   "language": "python",
   "name": "Python [py3k]"
  },
  "language_info": {
   "codemirror_mode": {
    "name": "ipython",
    "version": 3
   },
   "file_extension": ".py",
   "mimetype": "text/x-python",
   "name": "python",
   "nbconvert_exporter": "python",
   "pygments_lexer": "ipython3",
   "version": "3.5.2"
  }
 },
 "nbformat": 4,
 "nbformat_minor": 0
}
