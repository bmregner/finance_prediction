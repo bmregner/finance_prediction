{
 "cells": [
  {
   "cell_type": "markdown",
   "metadata": {},
   "source": [
    "# Introduction\n",
    "\n",
    "Predicting financial indicators is definitely a holy grail for our society at its present stage. There is a vast literature on how to do this and the general approach is a time-series one, that is, predict the future of one quantity based on that quantity's past.\n",
    "\n",
    "We are trying to see if it's possible to complement this approach with data coming from news sources, reasoning that news from the world should directly and indirectly weigh on the performance of such indicators as stocks, employment rate, or inflation.\n",
    "\n",
    "Please keep in mind that we do not expect to make any significant improvement over state-of-the-art financial analyses (which involve much more complex and refined models). Rather, we are interested in building a scalable and dynamic pipeline that in the future might supplement those already-existing models or give interesting insights.\n",
    "\n",
    "### This notebook\n",
    "\n",
    "This is a walkthrough illustrating the typical usage of our package. We will try to predict future S&P500 closing values based on past S&P500 values along with NLP features extracted from the daily-updted GDELT 1.0 (http://www.gdeltproject.org/) event database.\n",
    "\n",
    "In particular, to scope down the analysis to a minimally viable scalable pipeline, I extract features from the source urls contained in the database (one associated to each event).\n",
    "\n",
    "For each day, all urls get parsed, tokenized, and stemmed, and then conflated together into a single bag of words. This will constitute one document. After that I may apply a tf-idf or word2vec vectorization (this latter being much favored).\n",
    "\n",
    "I use the extracted features (plus the same day's closing S&P500) to try and fit various regression models to predict the next day's S&P500 and compare them to a benchmark model (a simple naive model predicting the same for tomorrow as today, plus the average increase or decrease over the last few days).\n",
    "\n",
    "I also try to predict if tomorrow's index value will rise or fall, given today's news.\n",
    "\n",
    "For both tasks random forest regressors/classifiers seem promising approaches."
   ]
  },
  {
   "cell_type": "code",
   "execution_count": 1,
   "metadata": {
    "collapsed": true
   },
   "outputs": [],
   "source": [
    "import importlib\n",
    "import sys\n",
    "import os\n",
    "sourcedir=os.getcwd()+\"/../source\"\n",
    "if sourcedir not in sys.path:\n",
    "    sys.path.append(sourcedir)\n",
    "import numpy as np"
   ]
  },
  {
   "cell_type": "code",
   "execution_count": 2,
   "metadata": {
    "collapsed": false
   },
   "outputs": [
    {
     "data": {
      "text/plain": [
       "<module 'model_training' from '/Users/Maxos/Desktop/Insight_stuff/bigsnippyrepo/maqro/notebooks/../source/model_training.py'>"
      ]
     },
     "execution_count": 2,
     "metadata": {},
     "output_type": "execute_result"
    }
   ],
   "source": [
    "#importing our nlp proprocessing module, the reload command is for development\n",
    "import nlp_preprocessing as nlpp\n",
    "importlib.reload(nlpp)\n",
    "#importing our model training module, the reload command is for development\n",
    "import model_training as mdlt\n",
    "importlib.reload(mdlt)"
   ]
  },
  {
   "cell_type": "markdown",
   "metadata": {},
   "source": [
    "## The nlp-preprocessing module\n",
    "\n",
    "The module has two classes for now: one deals with the nlp preprocessing of Google News articles, which are talked about in much more depth in another notebook; the other is the analog for GDELT url data.\n",
    "\n",
    "Let's explore these classes and their contents."
   ]
  },
  {
   "cell_type": "markdown",
   "metadata": {},
   "source": [
    "### The CorpusGoogleNews class"
   ]
  },
  {
   "cell_type": "code",
   "execution_count": 13,
   "metadata": {
    "collapsed": false
   },
   "outputs": [],
   "source": [
    "#del datagnews\n",
    "datagnews=nlpp.CorpusGoogleNews() # nlpp.CorpusGoogleNews('some/data/directory') "
   ]
  },
  {
   "cell_type": "markdown",
   "metadata": {},
   "source": [
    "These are the attributes of the initialized class"
   ]
  },
  {
   "cell_type": "code",
   "execution_count": 4,
   "metadata": {
    "collapsed": false
   },
   "outputs": [
    {
     "data": {
      "text/plain": [
       "{}"
      ]
     },
     "execution_count": 4,
     "metadata": {},
     "output_type": "execute_result"
    }
   ],
   "source": [
    "datagnews.raw_articles"
   ]
  },
  {
   "cell_type": "code",
   "execution_count": 5,
   "metadata": {
    "collapsed": false
   },
   "outputs": [
    {
     "data": {
      "text/plain": [
       "'../data/'"
      ]
     },
     "execution_count": 5,
     "metadata": {},
     "output_type": "execute_result"
    }
   ],
   "source": [
    "datagnews.datadirectory"
   ]
  },
  {
   "cell_type": "markdown",
   "metadata": {},
   "source": [
    "There is one public method for now: it loads files from the data folder"
   ]
  },
  {
   "cell_type": "code",
   "execution_count": 6,
   "metadata": {
    "collapsed": false
   },
   "outputs": [
    {
     "name": "stdout",
     "output_type": "stream",
     "text": [
      "Apple Inc\n",
      "Apple Inc 1-26-17\n",
      "Apple Inc 1-27-17\n",
      "Apple Inc 1-30-17\n",
      "Apple Inc 1-31-17\n",
      "Apple Inc 2-1-17\n"
     ]
    }
   ],
   "source": [
    "datagnews.data_directory_crawl('AAPL',verbose=1)"
   ]
  },
  {
   "cell_type": "markdown",
   "metadata": {},
   "source": [
    "which populates datagnews.raw_articles with dataframes like this:"
   ]
  },
  {
   "cell_type": "code",
   "execution_count": 7,
   "metadata": {
    "collapsed": false
   },
   "outputs": [
    {
     "data": {
      "text/html": [
       "<div>\n",
       "<table border=\"1\" class=\"dataframe\">\n",
       "  <thead>\n",
       "    <tr style=\"text-align: right;\">\n",
       "      <th></th>\n",
       "      <th>body</th>\n",
       "      <th>category</th>\n",
       "      <th>title</th>\n",
       "    </tr>\n",
       "  </thead>\n",
       "  <tbody>\n",
       "    <tr>\n",
       "      <th>0</th>\n",
       "      <td>The first day of public trading with President...</td>\n",
       "      <td>Apple Inc</td>\n",
       "      <td>3 Stocks to Watch on Tuesday: Apple Inc. (AAPL...</td>\n",
       "    </tr>\n",
       "    <tr>\n",
       "      <th>1</th>\n",
       "      <td>The first day of public trading with President...</td>\n",
       "      <td>Apple Inc</td>\n",
       "      <td>3 Stocks to Watch on Tuesday: Apple Inc. (AAPL...</td>\n",
       "    </tr>\n",
       "    <tr>\n",
       "      <th>2</th>\n",
       "      <td>The smart home market continues to heat up, an...</td>\n",
       "      <td>Apple Inc</td>\n",
       "      <td>Alphabet Inc (GOOGL) Steals AI Expert Back Fro...</td>\n",
       "    </tr>\n",
       "    <tr>\n",
       "      <th>3</th>\n",
       "      <td>Reportedly, Apple Inc.’s AAPL management is sc...</td>\n",
       "      <td>Apple Inc</td>\n",
       "      <td>Apple (AAPL) Set to Meet Government Officials ...</td>\n",
       "    </tr>\n",
       "    <tr>\n",
       "      <th>4</th>\n",
       "      <td>Apple Inc. (AAPL) executives were in India tod...</td>\n",
       "      <td>Apple Inc</td>\n",
       "      <td>Apple Close to Signing Deal With Indian Govern...</td>\n",
       "    </tr>\n",
       "  </tbody>\n",
       "</table>\n",
       "</div>"
      ],
      "text/plain": [
       "                                                body   category  \\\n",
       "0  The first day of public trading with President...  Apple Inc   \n",
       "1  The first day of public trading with President...  Apple Inc   \n",
       "2  The smart home market continues to heat up, an...  Apple Inc   \n",
       "3  Reportedly, Apple Inc.’s AAPL management is sc...  Apple Inc   \n",
       "4  Apple Inc. (AAPL) executives were in India tod...  Apple Inc   \n",
       "\n",
       "                                               title  \n",
       "0  3 Stocks to Watch on Tuesday: Apple Inc. (AAPL...  \n",
       "1  3 Stocks to Watch on Tuesday: Apple Inc. (AAPL...  \n",
       "2  Alphabet Inc (GOOGL) Steals AI Expert Back Fro...  \n",
       "3  Apple (AAPL) Set to Meet Government Officials ...  \n",
       "4  Apple Close to Signing Deal With Indian Govern...  "
      ]
     },
     "execution_count": 7,
     "metadata": {},
     "output_type": "execute_result"
    }
   ],
   "source": [
    "datagnews.raw_articles['Apple Inc 1-30-17'].head()"
   ]
  },
  {
   "cell_type": "markdown",
   "metadata": {},
   "source": [
    "### The CorpusGDELT class"
   ]
  },
  {
   "cell_type": "markdown",
   "metadata": {},
   "source": [
    "Let's initialize the class"
   ]
  },
  {
   "cell_type": "code",
   "execution_count": 3,
   "metadata": {
    "collapsed": false
   },
   "outputs": [],
   "source": [
    "#del datagdelt\n",
    "datagdelt=nlpp.CorpusGDELT(min_ment=500) # min_ment defaults to 1 and cuts off events that have a low number of mentions"
   ]
  },
  {
   "cell_type": "markdown",
   "metadata": {},
   "source": [
    "Let's have a look at the several attributes that the class contains."
   ]
  },
  {
   "cell_type": "code",
   "execution_count": 4,
   "metadata": {
    "collapsed": false
   },
   "outputs": [
    {
     "name": "stdout",
     "output_type": "stream",
     "text": [
      "Minimum number of mentions: 500\n",
      "Current directory: ../data/GDELT_1.0/\n",
      "Dates loaded so far: []\n",
      "Corpus of raw urls []\n",
      "Corpus of tfidf-vectorized docs:\n",
      "Empty DataFrame\n",
      "Columns: []\n",
      "Index: []\n"
     ]
    }
   ],
   "source": [
    "#minimum number of mentions for one event to be used\n",
    "print('Minimum number of mentions:',datagdelt.minimum_ment)\n",
    "print('Current directory:',datagdelt.currentdir) # current directory\n",
    "print('Dates loaded so far:',datagdelt.dates) # dates for which data has been loaded so far\n",
    "print('Corpus of raw urls',datagdelt.url_corpus)\n",
    "print('Corpus of tfidf-vectorized docs:')\n",
    "print(datagdelt.vect_corpus_tfidf)"
   ]
  },
  {
   "cell_type": "code",
   "execution_count": 5,
   "metadata": {
    "collapsed": false
   },
   "outputs": [
    {
     "name": "stdout",
     "output_type": "stream",
     "text": [
      "Vowels: ['a', 'e', 'i', 'o', 'u', 'y']\n",
      "Consonants: ['b', 'c', 'd', 'f', 'g', 'h', 'j', 'k', 'l', 'm', 'n', 'p', 'q', 'r', 's', 't', 'v', 'w', 'x', 'z'] \n",
      "Stemmer: <PorterStemmer>\n",
      "Punctuation: re.compile('[-.?!,\":;()|0-9]')\n",
      "Tokenizer: RegexpTokenizer(pattern='\\\\w+', gaps=False, discard_empty=True, flags=56)\n",
      "Filter for spurious url beginnings: re.compile('idind.|idus.|iduk.')\n",
      "Filter for stop words: {'they', '', 'before', 'o', 'than', 'couldn', 'isn', 'shouldn', 'm', 'until', 'their', 'a', 'my', 'but', 'in', 'hadn', 'them', 'now', 'for', 'most', 'doesn', 'again', 'won', 'wouldn', 'while', 'how', 'himself', 'ourselves', 'have', 'any', 'between', 'who', 'why', 'should', 'shan', 'whom', 'just', 'it', 'not', 'the', 'does', 'you', 'ours', 'here', 'its', 'these', 'yours', 'am', 'nor', 'which', 'about', 'has', 'over', 'on', 'having', 'd', 'she', 'out', 'down', 'mightn', 'll', 've', 'at', 'all', 'her', 'hasn', 'doing', 'did', 'too', 'we', 'so', 's', 'wasn', 'yourselves', 'during', 'needn', 'further', 'do', 'don', 'be', 'as', 'if', 'up', 'is', 'where', 'i', 'those', 'under', 'same', 'into', 'when', 'only', 'mustn', 'from', 'had', 'own', 'haven', 'that', 'been', 'each', 'ain', 'me', 'with', 'weren', 'him', 'ma', 'herself', 'will', 'through', 'are', 'above', 'after', 'once', 'themselves', 'and', 'of', 'then', 'what', 'this', 'your', 'was', 'being', 'or', 'theirs', 'by', 'both', 'off', 'there', 't', 'didn', 'against', 'few', 'itself', 'more', 'hers', 'such', 'other', 'some', 'yourself', 'his', 'myself', 're', 'aren', 'to', 'no', 'very', 'y', 'below', 'because', 'our', 'were', 'can', 'he', 'an'}\n"
     ]
    }
   ],
   "source": [
    "#vowels and consonants\n",
    "print('Vowels:',datagdelt.vowels)\n",
    "print('Consonants:',datagdelt.consonants,end=' ')\n",
    "print()\n",
    "print('Stemmer:',datagdelt.porter) #stemmer of choice\n",
    "print('Punctuation:',datagdelt.punctuation) #punctuation regular expression\n",
    "print('Tokenizer:',datagdelt.re_tokenizer) \n",
    "print('Filter for spurious url beginnings:',datagdelt.spurious_beginnings)\n",
    "print('Filter for stop words:',datagdelt.stop_words)"
   ]
  },
  {
   "cell_type": "code",
   "execution_count": 6,
   "metadata": {
    "collapsed": false,
    "scrolled": true
   },
   "outputs": [
    {
     "name": "stdout",
     "output_type": "stream",
     "text": [
      "['GLOBALEVENTID', 'SQLDATE', 'MonthYear', 'Year', 'FractionDate', 'Actor1Code', 'Actor1Name', 'Actor1CountryCode', 'Actor1KnownGroupCode', 'Actor1EthnicCode', 'Actor1Religion1Code', 'Actor1Religion2Code', 'Actor1Type1Code', 'Actor1Type2Code', 'Actor1Type3Code', 'Actor2Code', 'Actor2Name', 'Actor2CountryCode', 'Actor2KnownGroupCode', 'Actor2EthnicCode', 'Actor2Religion1Code', 'Actor2Religion2Code', 'Actor2Type1Code', 'Actor2Type2Code', 'Actor2Type3Code', 'IsRootEvent', 'EventCode', 'EventBaseCode', 'EventRootCode', 'QuadClass', 'GoldsteinScale', 'NumMentions', 'NumSources', 'NumArticles', 'AvgTone', 'Actor1Geo_Type', 'Actor1Geo_FullName', 'Actor1Geo_CountryCode', 'Actor1Geo_ADM1Code', 'Actor1Geo_Lat', 'Actor1Geo_Long', 'Actor1Geo_FeatureID', 'Actor2Geo_Type', 'Actor2Geo_FullName', 'Actor2Geo_CountryCode', 'Actor2Geo_ADM1Code', 'Actor2Geo_Lat', 'Actor2Geo_Long', 'Actor2Geo_FeatureID', 'ActionGeo_Type', 'ActionGeo_FullName', 'ActionGeo_CountryCode', 'ActionGeo_ADM1Code', 'ActionGeo_Lat', 'ActionGeo_Long', 'ActionGeo_FeatureID', 'DATEADDED', 'SOURCEURL'] "
     ]
    }
   ],
   "source": [
    "print(datagdelt.header,end=' ') #GDELT csv files header, notice the last field has the urls"
   ]
  },
  {
   "cell_type": "markdown",
   "metadata": {},
   "source": [
    "Now let's see what methods are available and what the pipeline is like.\n",
    "\n",
    "First we load the urls."
   ]
  },
  {
   "cell_type": "code",
   "execution_count": 4,
   "metadata": {
    "collapsed": false,
    "scrolled": true
   },
   "outputs": [
    {
     "name": "stdout",
     "output_type": "stream",
     "text": [
      " Done!"
     ]
    }
   ],
   "source": [
    "datagdelt.load_urls('20161001','20170220') #the earliest available date is April 1st 2013 = 20130401"
   ]
  },
  {
   "cell_type": "markdown",
   "metadata": {},
   "source": [
    "Now let's look at what the url_corpus attribute looks like"
   ]
  },
  {
   "cell_type": "code",
   "execution_count": 8,
   "metadata": {
    "collapsed": false
   },
   "outputs": [
    {
     "name": "stdout",
     "output_type": "stream",
     "text": [
      "There are 142 elements in it, because we loaded 142 days!\n",
      "The loaded day n. 5 had 653 events in it that were mentioned more than 500 times:\n",
      " [[1972, 'http://www.philippinetimes.com/index.php/sid/248243461'], [1115, 'http://www.capradio.org/news/npr/story?storyid=496552413'], [970, 'http://thecabin.net/news/2016-10-04/dazzle-daze-raffle-tickets-sale'], [660, 'http://www.princegeorgecitizen.com/celebrity-chef-jamie-oliver-hopes-to-discuss-child-health-issues-with-trudeau-1.2358050'], [748, 'http://1045snx.iheart.com/articles/trending-104650/spencer-pratt-mocks-kim-kardashian-robbery-15169059/'], [746, 'https://in.news.yahoo.com/may-woo-labour-voters-pitch-britains-center-ground-230645420.html'], [754, 'http://www.stuff.co.nz/entertainment/84945059/Veteran-broadcaster-Mark-Sainsbury-takes-Rocky-Horror-Stage-in-Hamilton'], [1951, 'http://www.whio.com/news/national-govt--politics/clinton-reaches-out-women-while-trump-defends-taxes/xnmN5QugmLzeGkEBR64y9I/'], [1965, 'http://wgno.com/2016/10/04/this-robot-is-so-realistic-that-it-helps-train-first-responders/'], [1012, 'https://www.stgeorgeutah.com/news/archive/2016/10/04/bureau-of-indian-affairs-discussion-kicks-off-free-brown-bag-lecture-series-full-schedule/']] \n",
      " etc...\n",
      "The first event was mentioned 1972 times, the second 1115 times, etc...\n"
     ]
    }
   ],
   "source": [
    "day=5 #select one day\n",
    "print('There are',len(datagdelt.url_corpus),'elements in it, because we loaded',len(datagdelt.dates),'days!')\n",
    "print('The loaded day n.',day,'had',len(datagdelt.url_corpus[day-1]) ,'events in it that were mentioned more than',datagdelt.minimum_ment,'times:\\n', datagdelt.url_corpus[day-1][:10],'\\n etc...')\n",
    "print('The first event was mentioned',datagdelt.url_corpus[day-1][0][0],'times, the second',datagdelt.url_corpus[day-1][1][0],'times, etc...')"
   ]
  },
  {
   "cell_type": "markdown",
   "metadata": {},
   "source": [
    "We see that many of those urls contain wordings that can be very informative on what's happening in the world and therefore might tell us something about the near future of the markets!!"
   ]
  },
  {
   "cell_type": "markdown",
   "metadata": {},
   "source": [
    "Now, let's process these messy raw urls! Let's use word2vec:"
   ]
  },
  {
   "cell_type": "code",
   "execution_count": 5,
   "metadata": {
    "collapsed": false,
    "scrolled": true
   },
   "outputs": [
    {
     "name": "stdout",
     "output_type": "stream",
     "text": [
      "Using word2vec vectorization procedure\n"
     ]
    },
    {
     "name": "stderr",
     "output_type": "stream",
     "text": [
      "2017-02-21 07:47:13,423 : INFO : collecting all words and their counts\n",
      "2017-02-21 07:47:13,425 : INFO : PROGRESS: at sentence #0, processed 0 words, keeping 0 word types\n",
      "2017-02-21 07:47:13,532 : INFO : collected 20544 word types from a corpus of 491097 raw words and 143 sentences\n",
      "2017-02-21 07:47:13,533 : INFO : Loading a fresh vocabulary\n",
      "2017-02-21 07:47:13,615 : INFO : min_count=1 retains 20544 unique words (100% of original 20544, drops 0)\n",
      "2017-02-21 07:47:13,616 : INFO : min_count=1 leaves 491097 word corpus (100% of original 491097, drops 0)\n",
      "2017-02-21 07:47:13,726 : INFO : deleting the raw counts dictionary of 20544 items\n",
      "2017-02-21 07:47:13,730 : INFO : sample=0.001 downsamples 24 most-common words\n",
      "2017-02-21 07:47:13,731 : INFO : downsampling leaves estimated 466367 word corpus (95.0% of prior 491097)\n",
      "2017-02-21 07:47:13,732 : INFO : estimated required memory for 20544 words and 16 dimensions: 12901632 bytes\n",
      "2017-02-21 07:47:13,817 : INFO : resetting layer weights\n",
      "2017-02-21 07:47:14,368 : INFO : training model with 3 workers on 20544 vocabulary and 16 features, using sg=0 hs=0 sample=0.001 negative=5 window=5\n",
      "2017-02-21 07:47:14,368 : INFO : expecting 143 sentences, matching count from corpus used for vocabulary survey\n",
      "2017-02-21 07:47:15,445 : INFO : PROGRESS: at 61.12% examples, 1415619 words/s, in_qsize 5, out_qsize 0\n",
      "2017-02-21 07:47:15,956 : INFO : worker thread finished; awaiting finish of 2 more threads\n",
      "2017-02-21 07:47:15,964 : INFO : worker thread finished; awaiting finish of 1 more threads\n",
      "2017-02-21 07:47:15,967 : INFO : worker thread finished; awaiting finish of 0 more threads\n",
      "2017-02-21 07:47:15,968 : INFO : training on 2455485 raw words (2331617 effective words) took 1.5s, 1526636 effective words/s\n"
     ]
    }
   ],
   "source": [
    "datagdelt.gdelt_preprocess(vectrz='word2vec',size_w2v=16)"
   ]
  },
  {
   "cell_type": "markdown",
   "metadata": {},
   "source": [
    "which gives"
   ]
  },
  {
   "cell_type": "code",
   "execution_count": 76,
   "metadata": {
    "collapsed": false
   },
   "outputs": [
    {
     "data": {
      "text/html": [
       "<div>\n",
       "<table border=\"1\" class=\"dataframe\">\n",
       "  <thead>\n",
       "    <tr style=\"text-align: right;\">\n",
       "      <th></th>\n",
       "      <th>w2v_1</th>\n",
       "      <th>w2v_10</th>\n",
       "      <th>w2v_11</th>\n",
       "      <th>w2v_12</th>\n",
       "      <th>w2v_13</th>\n",
       "      <th>w2v_14</th>\n",
       "      <th>w2v_15</th>\n",
       "      <th>w2v_16</th>\n",
       "      <th>w2v_2</th>\n",
       "      <th>w2v_3</th>\n",
       "      <th>w2v_4</th>\n",
       "      <th>w2v_5</th>\n",
       "      <th>w2v_6</th>\n",
       "      <th>w2v_7</th>\n",
       "      <th>w2v_8</th>\n",
       "      <th>w2v_9</th>\n",
       "    </tr>\n",
       "    <tr>\n",
       "      <th>news_date</th>\n",
       "      <th></th>\n",
       "      <th></th>\n",
       "      <th></th>\n",
       "      <th></th>\n",
       "      <th></th>\n",
       "      <th></th>\n",
       "      <th></th>\n",
       "      <th></th>\n",
       "      <th></th>\n",
       "      <th></th>\n",
       "      <th></th>\n",
       "      <th></th>\n",
       "      <th></th>\n",
       "      <th></th>\n",
       "      <th></th>\n",
       "      <th></th>\n",
       "    </tr>\n",
       "  </thead>\n",
       "  <tbody>\n",
       "    <tr>\n",
       "      <th>20161001</th>\n",
       "      <td>0.147216</td>\n",
       "      <td>0.251865</td>\n",
       "      <td>-0.284941</td>\n",
       "      <td>0.242540</td>\n",
       "      <td>-0.057002</td>\n",
       "      <td>-0.311548</td>\n",
       "      <td>-0.222425</td>\n",
       "      <td>0.012351</td>\n",
       "      <td>0.428797</td>\n",
       "      <td>-0.112210</td>\n",
       "      <td>-0.136568</td>\n",
       "      <td>-0.124081</td>\n",
       "      <td>0.324815</td>\n",
       "      <td>-0.007943</td>\n",
       "      <td>-0.526253</td>\n",
       "      <td>0.109189</td>\n",
       "    </tr>\n",
       "    <tr>\n",
       "      <th>20161002</th>\n",
       "      <td>0.158100</td>\n",
       "      <td>0.275931</td>\n",
       "      <td>-0.292214</td>\n",
       "      <td>0.221198</td>\n",
       "      <td>-0.063839</td>\n",
       "      <td>-0.238000</td>\n",
       "      <td>-0.198797</td>\n",
       "      <td>0.050775</td>\n",
       "      <td>0.394337</td>\n",
       "      <td>-0.160199</td>\n",
       "      <td>-0.185486</td>\n",
       "      <td>-0.124969</td>\n",
       "      <td>0.319291</td>\n",
       "      <td>-0.027109</td>\n",
       "      <td>-0.570227</td>\n",
       "      <td>0.051987</td>\n",
       "    </tr>\n",
       "    <tr>\n",
       "      <th>20161003</th>\n",
       "      <td>0.112319</td>\n",
       "      <td>0.248640</td>\n",
       "      <td>-0.288407</td>\n",
       "      <td>0.243337</td>\n",
       "      <td>-0.062513</td>\n",
       "      <td>-0.260392</td>\n",
       "      <td>-0.213616</td>\n",
       "      <td>0.061955</td>\n",
       "      <td>0.419636</td>\n",
       "      <td>-0.137138</td>\n",
       "      <td>-0.166626</td>\n",
       "      <td>-0.125741</td>\n",
       "      <td>0.359496</td>\n",
       "      <td>-0.035961</td>\n",
       "      <td>-0.539379</td>\n",
       "      <td>0.045304</td>\n",
       "    </tr>\n",
       "    <tr>\n",
       "      <th>20161004</th>\n",
       "      <td>0.079911</td>\n",
       "      <td>0.236776</td>\n",
       "      <td>-0.299086</td>\n",
       "      <td>0.234542</td>\n",
       "      <td>-0.073904</td>\n",
       "      <td>-0.277271</td>\n",
       "      <td>-0.237542</td>\n",
       "      <td>0.077051</td>\n",
       "      <td>0.432817</td>\n",
       "      <td>-0.129468</td>\n",
       "      <td>-0.155965</td>\n",
       "      <td>-0.137235</td>\n",
       "      <td>0.345620</td>\n",
       "      <td>-0.006399</td>\n",
       "      <td>-0.528726</td>\n",
       "      <td>0.045705</td>\n",
       "    </tr>\n",
       "    <tr>\n",
       "      <th>20161005</th>\n",
       "      <td>0.118022</td>\n",
       "      <td>0.250526</td>\n",
       "      <td>-0.301300</td>\n",
       "      <td>0.235911</td>\n",
       "      <td>-0.077778</td>\n",
       "      <td>-0.268216</td>\n",
       "      <td>-0.250419</td>\n",
       "      <td>0.051513</td>\n",
       "      <td>0.445433</td>\n",
       "      <td>-0.120880</td>\n",
       "      <td>-0.173388</td>\n",
       "      <td>-0.118524</td>\n",
       "      <td>0.305604</td>\n",
       "      <td>0.029072</td>\n",
       "      <td>-0.526389</td>\n",
       "      <td>0.071140</td>\n",
       "    </tr>\n",
       "    <tr>\n",
       "      <th>20161006</th>\n",
       "      <td>0.108711</td>\n",
       "      <td>0.253770</td>\n",
       "      <td>-0.271948</td>\n",
       "      <td>0.228161</td>\n",
       "      <td>-0.059861</td>\n",
       "      <td>-0.272070</td>\n",
       "      <td>-0.190920</td>\n",
       "      <td>0.027294</td>\n",
       "      <td>0.414371</td>\n",
       "      <td>-0.127463</td>\n",
       "      <td>-0.167927</td>\n",
       "      <td>-0.137831</td>\n",
       "      <td>0.325411</td>\n",
       "      <td>-0.050473</td>\n",
       "      <td>-0.580435</td>\n",
       "      <td>0.049772</td>\n",
       "    </tr>\n",
       "    <tr>\n",
       "      <th>20161007</th>\n",
       "      <td>0.099313</td>\n",
       "      <td>0.252881</td>\n",
       "      <td>-0.290870</td>\n",
       "      <td>0.219011</td>\n",
       "      <td>-0.082661</td>\n",
       "      <td>-0.266230</td>\n",
       "      <td>-0.225134</td>\n",
       "      <td>0.043306</td>\n",
       "      <td>0.444375</td>\n",
       "      <td>-0.116432</td>\n",
       "      <td>-0.179524</td>\n",
       "      <td>-0.130188</td>\n",
       "      <td>0.299229</td>\n",
       "      <td>-0.002966</td>\n",
       "      <td>-0.555643</td>\n",
       "      <td>0.069679</td>\n",
       "    </tr>\n",
       "    <tr>\n",
       "      <th>20161008</th>\n",
       "      <td>0.131393</td>\n",
       "      <td>0.226722</td>\n",
       "      <td>-0.272162</td>\n",
       "      <td>0.239536</td>\n",
       "      <td>-0.099648</td>\n",
       "      <td>-0.239402</td>\n",
       "      <td>-0.193977</td>\n",
       "      <td>0.138558</td>\n",
       "      <td>0.422528</td>\n",
       "      <td>-0.182143</td>\n",
       "      <td>-0.195920</td>\n",
       "      <td>-0.097964</td>\n",
       "      <td>0.312344</td>\n",
       "      <td>-0.071248</td>\n",
       "      <td>-0.558480</td>\n",
       "      <td>0.039902</td>\n",
       "    </tr>\n",
       "    <tr>\n",
       "      <th>20161009</th>\n",
       "      <td>0.135325</td>\n",
       "      <td>0.211436</td>\n",
       "      <td>-0.296153</td>\n",
       "      <td>0.213354</td>\n",
       "      <td>-0.060613</td>\n",
       "      <td>-0.310289</td>\n",
       "      <td>-0.223064</td>\n",
       "      <td>0.063030</td>\n",
       "      <td>0.457677</td>\n",
       "      <td>-0.098836</td>\n",
       "      <td>-0.123826</td>\n",
       "      <td>-0.110151</td>\n",
       "      <td>0.392299</td>\n",
       "      <td>-0.109209</td>\n",
       "      <td>-0.480465</td>\n",
       "      <td>0.081842</td>\n",
       "    </tr>\n",
       "    <tr>\n",
       "      <th>20161010</th>\n",
       "      <td>0.134120</td>\n",
       "      <td>0.192204</td>\n",
       "      <td>-0.274212</td>\n",
       "      <td>0.229794</td>\n",
       "      <td>-0.183149</td>\n",
       "      <td>-0.183614</td>\n",
       "      <td>-0.241103</td>\n",
       "      <td>0.211734</td>\n",
       "      <td>0.413509</td>\n",
       "      <td>-0.222729</td>\n",
       "      <td>-0.233110</td>\n",
       "      <td>-0.070725</td>\n",
       "      <td>0.256338</td>\n",
       "      <td>-0.009385</td>\n",
       "      <td>-0.548543</td>\n",
       "      <td>0.014687</td>\n",
       "    </tr>\n",
       "  </tbody>\n",
       "</table>\n",
       "</div>"
      ],
      "text/plain": [
       "              w2v_1    w2v_10    w2v_11    w2v_12    w2v_13    w2v_14  \\\n",
       "news_date                                                               \n",
       "20161001   0.147216  0.251865 -0.284941  0.242540 -0.057002 -0.311548   \n",
       "20161002   0.158100  0.275931 -0.292214  0.221198 -0.063839 -0.238000   \n",
       "20161003   0.112319  0.248640 -0.288407  0.243337 -0.062513 -0.260392   \n",
       "20161004   0.079911  0.236776 -0.299086  0.234542 -0.073904 -0.277271   \n",
       "20161005   0.118022  0.250526 -0.301300  0.235911 -0.077778 -0.268216   \n",
       "20161006   0.108711  0.253770 -0.271948  0.228161 -0.059861 -0.272070   \n",
       "20161007   0.099313  0.252881 -0.290870  0.219011 -0.082661 -0.266230   \n",
       "20161008   0.131393  0.226722 -0.272162  0.239536 -0.099648 -0.239402   \n",
       "20161009   0.135325  0.211436 -0.296153  0.213354 -0.060613 -0.310289   \n",
       "20161010   0.134120  0.192204 -0.274212  0.229794 -0.183149 -0.183614   \n",
       "\n",
       "             w2v_15    w2v_16     w2v_2     w2v_3     w2v_4     w2v_5  \\\n",
       "news_date                                                               \n",
       "20161001  -0.222425  0.012351  0.428797 -0.112210 -0.136568 -0.124081   \n",
       "20161002  -0.198797  0.050775  0.394337 -0.160199 -0.185486 -0.124969   \n",
       "20161003  -0.213616  0.061955  0.419636 -0.137138 -0.166626 -0.125741   \n",
       "20161004  -0.237542  0.077051  0.432817 -0.129468 -0.155965 -0.137235   \n",
       "20161005  -0.250419  0.051513  0.445433 -0.120880 -0.173388 -0.118524   \n",
       "20161006  -0.190920  0.027294  0.414371 -0.127463 -0.167927 -0.137831   \n",
       "20161007  -0.225134  0.043306  0.444375 -0.116432 -0.179524 -0.130188   \n",
       "20161008  -0.193977  0.138558  0.422528 -0.182143 -0.195920 -0.097964   \n",
       "20161009  -0.223064  0.063030  0.457677 -0.098836 -0.123826 -0.110151   \n",
       "20161010  -0.241103  0.211734  0.413509 -0.222729 -0.233110 -0.070725   \n",
       "\n",
       "              w2v_6     w2v_7     w2v_8     w2v_9  \n",
       "news_date                                          \n",
       "20161001   0.324815 -0.007943 -0.526253  0.109189  \n",
       "20161002   0.319291 -0.027109 -0.570227  0.051987  \n",
       "20161003   0.359496 -0.035961 -0.539379  0.045304  \n",
       "20161004   0.345620 -0.006399 -0.528726  0.045705  \n",
       "20161005   0.305604  0.029072 -0.526389  0.071140  \n",
       "20161006   0.325411 -0.050473 -0.580435  0.049772  \n",
       "20161007   0.299229 -0.002966 -0.555643  0.069679  \n",
       "20161008   0.312344 -0.071248 -0.558480  0.039902  \n",
       "20161009   0.392299 -0.109209 -0.480465  0.081842  \n",
       "20161010   0.256338 -0.009385 -0.548543  0.014687  "
      ]
     },
     "execution_count": 76,
     "metadata": {},
     "output_type": "execute_result"
    }
   ],
   "source": [
    "datagdelt.word2vec_corpus.head(10)"
   ]
  },
  {
   "cell_type": "code",
   "execution_count": 98,
   "metadata": {
    "collapsed": false
   },
   "outputs": [
    {
     "data": {
      "text/plain": [
       "<matplotlib.axes._subplots.AxesSubplot at 0x11c518a20>"
      ]
     },
     "execution_count": 98,
     "metadata": {},
     "output_type": "execute_result"
    },
    {
     "data": {
      "image/png": "[encoded data removed]",
      "text/plain": [
       "<matplotlib.figure.Figure at 0x188360e80>"
      ]
     },
     "metadata": {},
     "output_type": "display_data"
    }
   ],
   "source": [
    "datagdelt.word2vec_corpus['w2v_16'].rolling(window=5,center=False).mean().plot()"
   ]
  },
  {
   "cell_type": "code",
   "execution_count": 18,
   "metadata": {
    "collapsed": true
   },
   "outputs": [],
   "source": [
    "import pandas as pd"
   ]
  },
  {
   "cell_type": "code",
   "execution_count": 99,
   "metadata": {
    "collapsed": false
   },
   "outputs": [
    {
     "data": {
      "text/plain": [
       "<matplotlib.axes._subplots.AxesSubplot at 0x13a7d67b8>"
      ]
     },
     "execution_count": 99,
     "metadata": {},
     "output_type": "execute_result"
    },
    {
     "data": {
      "image/png": "[encoded data removed]",
      "text/plain": [
       "<matplotlib.figure.Figure at 0x1b7d2c630>"
      ]
     },
     "metadata": {},
     "output_type": "display_data"
    }
   ],
   "source": [
    "%matplotlib inline\n",
    "#datagdelt.word2vec_corpus.plot()\n",
    "datagdelt.word2vec_corpus.rolling(window=5,center=False).mean().plot(legend=False)"
   ]
  },
  {
   "cell_type": "code",
   "execution_count": 138,
   "metadata": {
    "collapsed": true
   },
   "outputs": [],
   "source": [
    "from sklearn.preprocessing import scale"
   ]
  },
  {
   "cell_type": "code",
   "execution_count": 154,
   "metadata": {
    "collapsed": false
   },
   "outputs": [],
   "source": [
    "aa=np.array(list(zip(tet.xdata['word2vec'][:,7],tet.ydata['word2vec'][:,2])))"
   ]
  },
  {
   "cell_type": "code",
   "execution_count": 136,
   "metadata": {
    "collapsed": true
   },
   "outputs": [
    {
     "data": {
      "text/plain": [
       "array([[ 0.00526955, -0.03865752],\n",
       "       [ 0.00633352, -0.05855961],\n",
       "       [ 0.00778081,  0.05052215],\n",
       "       [ 0.00544328,  0.0056867 ],\n",
       "       [ 0.00297754, -0.03843859],\n",
       "       [ 0.00636313,  0.05423986],\n",
       "       [ 0.02077838, -0.14724669],\n",
       "       [ 0.00996109,  0.01339578],\n",
       "       [ 0.01218168, -0.03625068],\n",
       "       [ 0.00904509,  0.00235076],\n",
       "       [ 0.00356711, -0.03543105],\n",
       "       [ 0.00191747,  0.07162833],\n",
       "       [ 0.00794639,  0.02564352],\n",
       "       [ 0.00939213, -0.01612966],\n",
       "       [ 0.00823105, -0.00098516],\n",
       "       [ 0.00042605,  0.05560814],\n",
       "       [ 0.0071996 , -0.04467259],\n",
       "       [ 0.00415225, -0.02039468],\n",
       "       [ 0.0085867 , -0.03493847],\n",
       "       [ 0.00678405, -0.03625201],\n",
       "       [ 0.01050382, -0.00142168],\n",
       "       [ 0.0093706 , -0.07889955],\n",
       "       [ 0.01260253, -0.07534604],\n",
       "       [ 0.00688435, -0.05074107],\n",
       "       [ 0.00972573, -0.01902773],\n",
       "       [ 0.00116689,  0.25337698],\n",
       "       [ 0.01203185,  0.04396109],\n",
       "       [ 0.01393189,  0.1295859 ],\n",
       "       [ 0.02791836,  0.02307383],\n",
       "       [ 0.02069111, -0.0165675 ],\n",
       "       [ 0.0122637 , -0.00136694],\n",
       "       [ 0.01774783,  0.08852289],\n",
       "       [ 0.01568376, -0.01886355],\n",
       "       [ 0.0112766 ,  0.05566287],\n",
       "       [ 0.01271126, -0.02854294],\n",
       "       [ 0.01045958,  0.08901547],\n",
       "       [ 0.00867882,  0.02602664],\n",
       "       [ 0.00862509,  0.0097328 ],\n",
       "       [ 0.00279745,  0.04718756],\n",
       "       [ 0.00791166, -0.06359087],\n",
       "       [ 0.01098904,  0.01607492],\n",
       "       [ 0.00836689, -0.03198566],\n",
       "       [ 0.01153099, -0.04226576],\n",
       "       [ 0.00767784,  0.00475627],\n",
       "       [ 0.00424488,  0.06976881],\n",
       "       [ 0.01013826,  0.04111774],\n",
       "       [ 0.00779379,  0.15922213],\n",
       "       [ 0.0060849 ,  0.02646315],\n",
       "       [ 0.00850067,  0.07294054],\n",
       "       [ 0.00766123, -0.01405254],\n",
       "       [ 0.00788972,  0.08070435],\n",
       "       [ 0.01515656, -0.10082538],\n",
       "       [ 0.01039635,  0.04784299],\n",
       "       [ 0.00800842, -0.02165216],\n",
       "       [ 0.00304085,  0.02438604],\n",
       "       [ 0.01068051,  0.04499965],\n",
       "       [ 0.00642277, -0.03051059],\n",
       "       [ 0.00626136, -0.02307383],\n",
       "       [ 0.00392966,  0.01547422],\n",
       "       [ 0.00772449,  0.0278301 ],\n",
       "       [ 0.00936666, -0.10366872],\n",
       "       [ 0.01034018, -0.00360825],\n",
       "       [ 0.00759024, -0.05702848],\n",
       "       [-0.00126694,  0.10388764],\n",
       "       [ 0.00915829,  0.07064317],\n",
       "       [ 0.01357783, -0.0095686 ],\n",
       "       [ 0.01267465,  0.0436327 ],\n",
       "       [ 0.00245911, -0.04418001],\n",
       "       [ 0.00455104,  0.        ],\n",
       "       [ 0.01244994,  0.035104  ],\n",
       "       [ 0.01399174, -0.02668342],\n",
       "       [ 0.0145364 ,  0.02296437],\n",
       "       [ 0.01074774, -0.03690745],\n",
       "       [ 0.00924997,  0.02187108],\n",
       "       [ 0.01064703, -0.04483546],\n",
       "       [ 0.01338702,  0.04166506],\n",
       "       [ 0.01836731, -0.03340867],\n",
       "       [ 0.01122121,  0.08130639],\n",
       "       [ 0.01212658,  0.10006047],\n",
       "       [ 0.01731114, -0.00924154],\n",
       "       [ 0.01561299, -0.01088081],\n",
       "       [ 0.02020774, -0.07540077],\n",
       "       [ 0.0148725 , -0.0110984 ],\n",
       "       [ 0.01836578,  0.00371771],\n",
       "       [ 0.01801668,  0.00710837],\n",
       "       [ 0.01361536,  0.0906    ],\n",
       "       [ 0.02115778, -0.02657262],\n",
       "       [ 0.01487139,  0.00284334],\n",
       "       [ 0.01823877,  0.0086929 ],\n",
       "       [ 0.01611164,  0.07217564],\n",
       "       [ 0.01774879,  0.04499965],\n",
       "       [ 0.00775955,  0.06643288],\n",
       "       [ 0.01196541,  0.05101473],\n",
       "       [ 0.01613292,  0.06380846],\n",
       "       [ 0.01437161, -0.01109973],\n",
       "       [ 0.00864503,  0.02154269]])"
      ]
     },
     "execution_count": 136,
     "metadata": {},
     "output_type": "execute_result"
    }
   ],
   "source": [
    "scale()"
   ]
  },
  {
   "cell_type": "code",
   "execution_count": 155,
   "metadata": {
    "collapsed": false,
    "scrolled": true
   },
   "outputs": [
    {
     "data": {
      "text/plain": [
       "<matplotlib.axes._subplots.AxesSubplot at 0x175e39748>"
      ]
     },
     "execution_count": 155,
     "metadata": {},
     "output_type": "execute_result"
    },
    {
     "data": {
      "image/png": "[encoded data removed]",
      "text/plain": [
       "<matplotlib.figure.Figure at 0x1272970b8>"
      ]
     },
     "metadata": {},
     "output_type": "display_data"
    }
   ],
   "source": [
    "pd.DataFrame(scale(aa)).rolling(window=5,center=False).mean().plot()"
   ]
  },
  {
   "cell_type": "code",
   "execution_count": 56,
   "metadata": {
    "collapsed": false
   },
   "outputs": [
    {
     "data": {
      "text/plain": [
       "<matplotlib.axes._subplots.AxesSubplot at 0x16b11f978>"
      ]
     },
     "execution_count": 56,
     "metadata": {},
     "output_type": "execute_result"
    },
    {
     "data": {
      "image/png": "[encoded data removed]",
      "text/plain": [
       "<matplotlib.figure.Figure at 0x16b0fcba8>"
      ]
     },
     "metadata": {},
     "output_type": "display_data"
    }
   ],
   "source": [
    "pd.DataFrame(tet.ydata['word2vec'][:,2]).rolling(window=10,center=False).mean().plot()"
   ]
  },
  {
   "cell_type": "code",
   "execution_count": 30,
   "metadata": {
    "collapsed": false
   },
   "outputs": [],
   "source": [
    "tet.prepare_data('word2vec')"
   ]
  },
  {
   "cell_type": "markdown",
   "metadata": {},
   "source": [
    "BOOM! Now we have all of our datapoints with their nlp features neatly arranged in a pandas dataframe, ready for processing. Mission accomplished!"
   ]
  },
  {
   "cell_type": "markdown",
   "metadata": {},
   "source": [
    "If we try to run this expensive preprocessing again on the same exact data..."
   ]
  },
  {
   "cell_type": "code",
   "execution_count": 8,
   "metadata": {
    "collapsed": false
   },
   "outputs": [
    {
     "name": "stdout",
     "output_type": "stream",
     "text": [
      "Using word2vec vectorization procedure\n",
      "Nothing to be done, dataframes are up to date\n"
     ]
    }
   ],
   "source": [
    "datagdelt.gdelt_preprocess(vectrz='word2vec',size_w2v=8)"
   ]
  },
  {
   "cell_type": "markdown",
   "metadata": {},
   "source": [
    "Yay for savings!"
   ]
  },
  {
   "cell_type": "markdown",
   "metadata": {},
   "source": [
    "Now we initialize the model training class, feeding it the dataframe from the nlp processing"
   ]
  },
  {
   "cell_type": "markdown",
   "metadata": {
    "collapsed": false
   },
   "source": [
    "## The model training module\n",
    "This section covers model training, validation, and testing, from our model_training module"
   ]
  },
  {
   "cell_type": "markdown",
   "metadata": {},
   "source": [
    "We initialize a class instance by loading into it two lists: one of names of your choosing and one of dataframes, which in this case is the output form the previous module above, datagdelt.vect_corpus_tfidf."
   ]
  },
  {
   "cell_type": "code",
   "execution_count": 6,
   "metadata": {
    "collapsed": false
   },
   "outputs": [],
   "source": [
    "import model_training as mdlt\n",
    "importlib.reload(mdlt)\n",
    "tet=mdlt.StockPrediction([['word2vec'],[datagdelt.word2vec_corpus],[datagdelt.w2vec_model]],update=True)"
   ]
  },
  {
   "cell_type": "markdown",
   "metadata": {},
   "source": [
    "Let's try an L1 linear regressor which is trying to predict the increase/decrease of tomorrow's S&P index over today's. We test on the last 20 days out of 50 and validate/tune, for every testing case, over the previous 10 days. As for the hyperparameters, we are letting our regularization parameter be searched for in the 0.001-3000 range and we allow for 40 iterations of the optimal parameter search."
   ]
  },
  {
   "cell_type": "code",
   "execution_count": 7,
   "metadata": {
    "collapsed": false
   },
   "outputs": [
    {
     "name": "stdout",
     "output_type": "stream",
     "text": [
      "96\n",
      "20\n",
      "30\n",
      "20\n"
     ]
    },
    {
     "name": "stderr",
     "output_type": "stream",
     "text": [
      "//anaconda/envs/py3k/lib/python3.5/site-packages/sklearn/linear_model/coordinate_descent.py:484: ConvergenceWarning: Objective did not converge. You might want to increase the number of iterations. Fitting data with very small alpha may cause precision problems.\n",
      "  ConvergenceWarning)\n"
     ]
    },
    {
     "name": "stdout",
     "output_type": "stream",
     "text": [
      "best parameter choices: (777.7786666666666,)\n",
      "model_test_rmse: 7.466 benchmark_test_rmse: 7.466\n",
      "best parameter choices: (777.7786666666666,)\n",
      "model_test_rmse: 13.611 benchmark_test_rmse: 13.611\n",
      "best parameter choices: (777.7786666666666,)\n",
      "model_test_rmse: 16.867 benchmark_test_rmse: 16.867\n",
      "best parameter choices: (777.7786666666666,)\n",
      "model_test_rmse: 3.337 benchmark_test_rmse: 3.337\n",
      "best parameter choices: (777.7786666666666,)\n",
      "model_test_rmse: 3.595 benchmark_test_rmse: 3.595\n",
      "best parameter choices: (777.7786666666666,)\n",
      "model_test_rmse: 15.351 benchmark_test_rmse: 15.351\n",
      "best parameter choices: (777.7786666666666,)\n",
      "model_test_rmse: 3.403 benchmark_test_rmse: 3.403\n",
      "best parameter choices: (777.7786666666666,)\n",
      "model_test_rmse: 0.653 benchmark_test_rmse: 0.653\n",
      "best parameter choices: (777.7786666666666,)\n",
      "model_test_rmse: 0.025 benchmark_test_rmse: 0.025\n",
      "best parameter choices: (777.7786666666666,)\n",
      "model_test_rmse: 15.245 benchmark_test_rmse: 15.245\n",
      "best parameter choices: (777.7786666666666,)\n",
      "model_test_rmse: 6.362 benchmark_test_rmse: 6.362\n",
      "best parameter choices: (777.7786666666666,)\n",
      "model_test_rmse: 0.909 benchmark_test_rmse: 0.909\n",
      "best parameter choices: (777.7786666666666,)\n",
      "model_test_rmse: 0.172 benchmark_test_rmse: 0.172\n",
      "best parameter choices: (777.7786666666666,)\n",
      "model_test_rmse: 11.780 benchmark_test_rmse: 11.780\n",
      "best parameter choices: (777.7786666666666,)\n",
      "model_test_rmse: 6.679 benchmark_test_rmse: 6.679\n",
      "best parameter choices: (777.7786666666666,)\n",
      "model_test_rmse: 10.525 benchmark_test_rmse: 10.525\n",
      "best parameter choices: (777.7786666666666,)\n",
      "model_test_rmse: 7.591 benchmark_test_rmse: 7.591\n",
      "best parameter choices: (777.7786666666666,)\n",
      "model_test_rmse: 9.849 benchmark_test_rmse: 9.849\n",
      "best parameter choices: (777.7786666666666,)\n",
      "model_test_rmse: 3.955 benchmark_test_rmse: 3.955\n",
      "best parameter choices: (777.7786666666666,)\n",
      "model_test_rmse: 2.056 benchmark_test_rmse: 2.056\n"
     ]
    },
    {
     "data": {
      "text/plain": [
       "[(6.9715473175452187, 5.3271630939674157),\n",
       " (6.9715473175452187, 5.3271630939674157)]"
      ]
     },
     "execution_count": 7,
     "metadata": {},
     "output_type": "execute_result"
    }
   ],
   "source": [
    "tet.auto_ts_val_test_reg('word2vec','lasso',[['alpha',[0.001,7000.,60.]]],parm_search_iter=50,n_folds_val=20,\n",
    "                         past_depth=30,n_folds_test=20,scaling=True,differential=True,notest=False,verbose=False,\n",
    "                         eqdiff=False)"
   ]
  },
  {
   "cell_type": "markdown",
   "metadata": {},
   "source": [
    "Well, the model clearly falls back on the benchmark, thanks to heavy L1 regularization. The coefficients are:"
   ]
  },
  {
   "cell_type": "code",
   "execution_count": 192,
   "metadata": {
    "collapsed": false
   },
   "outputs": [
    {
     "data": {
      "text/plain": [
       "array([-0.,  0., -0.,  0.,  0., -0.,  0., -0., -0.,  0.,  0., -0.,  0.,\n",
       "       -0., -0.,  0.,  0.,  0.])"
      ]
     },
     "execution_count": 192,
     "metadata": {},
     "output_type": "execute_result"
    }
   ],
   "source": [
    "feat_imp=tet.models['word2vec'].coef_\n",
    "feat_imp\n",
    "#these are the feature importances for the lasso classifier"
   ]
  },
  {
   "cell_type": "markdown",
   "metadata": {},
   "source": [
    "...which isn't surprising. As we said at the beginning, the most important feature should have been today's closing, and it was, entirely offuscating everything else. (Except for the engineered after_weekend feature)"
   ]
  },
  {
   "cell_type": "markdown",
   "metadata": {},
   "source": [
    "If one had gotten a reasonable result, they might want to play with feature importances to try and see which stems actually were the most significant. It can be done as follows"
   ]
  },
  {
   "cell_type": "code",
   "execution_count": 160,
   "metadata": {
    "collapsed": false
   },
   "outputs": [
    {
     "name": "stderr",
     "output_type": "stream",
     "text": [
      "2017-02-20 12:13:06,546 : INFO : precomputing L2-norms of word weight vectors\n"
     ]
    },
    {
     "data": {
      "text/plain": [
       "[('iron', 0.9956756830215454),\n",
       " ('payment', 0.9955439567565918),\n",
       " ('auction', 0.9943109750747681),\n",
       " ('ipo', 0.9936873912811279),\n",
       " ('acquir', 0.992712676525116),\n",
       " ('diabet', 0.9926916360855103),\n",
       " ('app', 0.9923841953277588),\n",
       " ('exist', 0.9921814799308777),\n",
       " ('amazon', 0.9919903874397278),\n",
       " ('plebiscit', 0.9913445711135864)]"
      ]
     },
     "execution_count": 160,
     "metadata": {},
     "output_type": "execute_result"
    }
   ],
   "source": [
    "model=tet.w2v_models['word2vec']\n",
    "model.similar_by_word('appl')"
   ]
  },
  {
   "cell_type": "code",
   "execution_count": 162,
   "metadata": {
    "collapsed": false
   },
   "outputs": [
    {
     "data": {
      "text/plain": [
       "[('palest', 0.6947636604309082),\n",
       " ('perrin', 0.6724652051925659),\n",
       " ('boynton', 0.671480655670166),\n",
       " ('seaman', 0.6704562902450562),\n",
       " ('handout', 0.6542955040931702),\n",
       " ('bother', 0.6467409729957581),\n",
       " ('ware', 0.6328902244567871),\n",
       " ('phinea', 0.618262767791748),\n",
       " ('aebaa', 0.6165940761566162),\n",
       " ('terro', 0.616300642490387)]"
      ]
     },
     "execution_count": 162,
     "metadata": {},
     "output_type": "execute_result"
    }
   ],
   "source": [
    "model.wv.similar_by_vector(-feat_imp[:-2])"
   ]
  },
  {
   "cell_type": "code",
   "execution_count": 8,
   "metadata": {
    "collapsed": false
   },
   "outputs": [
    {
     "name": "stdout",
     "output_type": "stream",
     "text": [
      "96\n",
      "20\n",
      "50\n",
      "20\n",
      "best parameter choices: (17849999.97550003,)\n",
      "model_test_rmse: 7.466 benchmark_test_rmse: 7.466\n",
      "best parameter choices: (17849999.97550003,)\n",
      "model_test_rmse: 13.611 benchmark_test_rmse: 13.611\n",
      "best parameter choices: (17849999.97550003,)\n",
      "model_test_rmse: 16.867 benchmark_test_rmse: 16.867\n",
      "best parameter choices: (17849999.97550003,)\n",
      "model_test_rmse: 3.337 benchmark_test_rmse: 3.337\n",
      "best parameter choices: (17849999.97550003,)\n",
      "model_test_rmse: 3.595 benchmark_test_rmse: 3.595\n",
      "best parameter choices: (17849999.97550003,)\n",
      "model_test_rmse: 15.351 benchmark_test_rmse: 15.351\n",
      "best parameter choices: (17849999.97550003,)\n",
      "model_test_rmse: 3.403 benchmark_test_rmse: 3.403\n",
      "best parameter choices: (17849999.97550003,)\n",
      "model_test_rmse: 0.653 benchmark_test_rmse: 0.653\n",
      "best parameter choices: (999.695178472794,)\n",
      "model_test_rmse: 1.012 benchmark_test_rmse: 0.025\n",
      "best parameter choices: (1739.7768459256142,)\n",
      "model_test_rmse: 15.632 benchmark_test_rmse: 15.245\n",
      "best parameter choices: (1764.0773058050095,)\n",
      "model_test_rmse: 5.769 benchmark_test_rmse: 6.362\n",
      "best parameter choices: (1739.6094866588421,)\n",
      "model_test_rmse: 0.345 benchmark_test_rmse: 0.909\n",
      "best parameter choices: (871.5628413508995,)\n",
      "model_test_rmse: 1.072 benchmark_test_rmse: 0.172\n",
      "best parameter choices: (872.809216326655,)\n",
      "model_test_rmse: 12.613 benchmark_test_rmse: 11.780\n",
      "best parameter choices: (872.809216326655,)\n",
      "model_test_rmse: 7.361 benchmark_test_rmse: 6.679\n",
      "best parameter choices: (924.3712902853221,)\n",
      "model_test_rmse: 10.334 benchmark_test_rmse: 10.525\n",
      "best parameter choices: (924.3712902853221,)\n",
      "model_test_rmse: 7.749 benchmark_test_rmse: 7.591\n",
      "best parameter choices: (924.3712902853221,)\n",
      "model_test_rmse: 10.291 benchmark_test_rmse: 9.849\n",
      "best parameter choices: (924.3712902853221,)\n",
      "model_test_rmse: 3.808 benchmark_test_rmse: 3.955\n",
      "best parameter choices: (924.3712902853221,)\n",
      "model_test_rmse: 1.745 benchmark_test_rmse: 2.056\n"
     ]
    },
    {
     "data": {
      "text/plain": [
       "[(7.1007497983829584, 5.3493104432500003),\n",
       " (6.9715473175452187, 5.3271630939674157)]"
      ]
     },
     "execution_count": 8,
     "metadata": {},
     "output_type": "execute_result"
    }
   ],
   "source": [
    "tet.auto_ts_val_test_reg('word2vec','ridge',[['alpha',[0.001,700000.,60.]]],parm_search_iter=50,n_folds_val=20,\n",
    "                         past_depth=50,n_folds_test=20,scaling=True,differential=True,notest=False,verbose=False,\n",
    "                         eqdiff=False)"
   ]
  },
  {
   "cell_type": "code",
   "execution_count": 9,
   "metadata": {
    "collapsed": false
   },
   "outputs": [
    {
     "name": "stdout",
     "output_type": "stream",
     "text": [
      "96\n",
      "0\n",
      "50\n",
      "20\n"
     ]
    },
    {
     "data": {
      "text/plain": [
       "array([ 2351.29976527])"
      ]
     },
     "execution_count": 9,
     "metadata": {},
     "output_type": "execute_result"
    }
   ],
   "source": [
    "tet.auto_ts_val_test_reg('word2vec','ridge',[['alpha',[0.001,7000.,60.]]],parm_search_iter=50,n_folds_val=20,\n",
    "                         past_depth=50,n_folds_test=20,scaling=False,differential=False,notest=True,verbose=False,\n",
    "                         eqdiff=False)"
   ]
  },
  {
   "cell_type": "markdown",
   "metadata": {},
   "source": [
    "Hmmm... Not sure what to make of this"
   ]
  },
  {
   "cell_type": "markdown",
   "metadata": {},
   "source": [
    "How about we try a random forest regressor instead? We are letting our tuning select any combination among 5 values for the number of estimators, 5 for the maximum number of features used for splitting, and we allow a maximum depth from 5 to 7."
   ]
  },
  {
   "cell_type": "code",
   "execution_count": 218,
   "metadata": {
    "collapsed": false
   },
   "outputs": [
    {
     "name": "stdout",
     "output_type": "stream",
     "text": [
      "best parameter choices: (10, 5, 4)\n",
      "model_test_rmse: 1.612 benchmark_test_rmse: 7.466\n",
      "best parameter choices: (10, 7, 5)\n",
      "model_test_rmse: 14.001 benchmark_test_rmse: 13.611\n",
      "best parameter choices: (10, 10, 7)\n",
      "model_test_rmse: 17.706 benchmark_test_rmse: 16.867\n",
      "best parameter choices: (10, 10, 6)\n",
      "model_test_rmse: 5.229 benchmark_test_rmse: 3.337\n",
      "best parameter choices: (10, 6, 6)\n",
      "model_test_rmse: 2.823 benchmark_test_rmse: 3.595\n",
      "best parameter choices: (10, 7, 6)\n",
      "model_test_rmse: 10.927 benchmark_test_rmse: 15.351\n",
      "best parameter choices: (10, 5, 7)\n",
      "model_test_rmse: 5.252 benchmark_test_rmse: 3.403\n",
      "best parameter choices: (10, 7, 8)\n",
      "model_test_rmse: 8.943 benchmark_test_rmse: 0.653\n",
      "best parameter choices: (10, 7, 5)\n",
      "model_test_rmse: 1.406 benchmark_test_rmse: 0.025\n",
      "best parameter choices: (10, 5, 6)\n",
      "model_test_rmse: 13.114 benchmark_test_rmse: 15.245\n",
      "best parameter choices: (10, 8, 4)\n",
      "model_test_rmse: 1.408 benchmark_test_rmse: 6.362\n",
      "best parameter choices: (10, 9, 9)\n",
      "model_test_rmse: 2.703 benchmark_test_rmse: 0.909\n",
      "best parameter choices: (10, 8, 6)\n",
      "model_test_rmse: 0.452 benchmark_test_rmse: 0.172\n",
      "best parameter choices: (10, 6, 5)\n",
      "model_test_rmse: 10.193 benchmark_test_rmse: 11.780\n",
      "best parameter choices: (10, 10, 9)\n",
      "model_test_rmse: 4.202 benchmark_test_rmse: 6.679\n",
      "best parameter choices: (10, 7, 7)\n",
      "model_test_rmse: 16.838 benchmark_test_rmse: 10.525\n",
      "best parameter choices: (10, 6, 4)\n",
      "model_test_rmse: 7.505 benchmark_test_rmse: 7.591\n",
      "best parameter choices: (10, 8, 5)\n",
      "model_test_rmse: 7.903 benchmark_test_rmse: 9.849\n",
      "best parameter choices: (10, 6, 7)\n",
      "model_test_rmse: 6.146 benchmark_test_rmse: 3.955\n",
      "best parameter choices: (10, 10, 6)\n",
      "model_test_rmse: 3.493 benchmark_test_rmse: 2.056\n"
     ]
    },
    {
     "data": {
      "text/plain": [
       "[(7.0927961853484476, 5.1260596225232478),\n",
       " (6.9715473175452187, 5.3271630939674157)]"
      ]
     },
     "execution_count": 218,
     "metadata": {},
     "output_type": "execute_result"
    }
   ],
   "source": [
    "tet.auto_ts_val_test_reg('word2vec','rfreg',[['n_estim',{10,}],['max_feat',{5,6,7,8,9,10}],['max_depth',{4,5,6,7,8,9}]],\n",
    "                         parm_search_iter=1,n_folds_val=25,past_depth=20,n_folds_test=20,scaling=True,differential=True,\n",
    "                         verbose=False,notest=False,eqdiff=False)"
   ]
  },
  {
   "cell_type": "markdown",
   "metadata": {},
   "source": [
    "Now, if we want to get a prediction for today, we toggle the 'notest' attribute to True"
   ]
  },
  {
   "cell_type": "code",
   "execution_count": 10,
   "metadata": {
    "collapsed": false
   },
   "outputs": [
    {
     "name": "stdout",
     "output_type": "stream",
     "text": [
      "96\n",
      "0\n",
      "20\n",
      "25\n"
     ]
    },
    {
     "data": {
      "text/plain": [
       "array([ 2359.4078854])"
      ]
     },
     "execution_count": 10,
     "metadata": {},
     "output_type": "execute_result"
    }
   ],
   "source": [
    "tet.auto_ts_val_test_reg('word2vec','rfreg',[['n_estim',{10,}],['max_feat',{5,6,7,8,9,10}],['max_depth',{4,5,6,7,8,9}]],\n",
    "                         parm_search_iter=1,n_folds_val=25,past_depth=20,n_folds_test=20,scaling=True,differential=True,\n",
    "                         verbose=False,notest=True,eqdiff=False)"
   ]
  },
  {
   "cell_type": "code",
   "execution_count": 221,
   "metadata": {
    "collapsed": false
   },
   "outputs": [
    {
     "data": {
      "text/plain": [
       "array([ 0.06367856,  0.20311588,  0.04593268,  0.12812747,  0.00645739,\n",
       "        0.0082692 ,  0.01786857,  0.05933176,  0.05816249,  0.11486349,\n",
       "        0.04174018,  0.12358353,  0.00782916,  0.02930216,  0.01698054,\n",
       "        0.00402597,  0.04262157,  0.02810939])"
      ]
     },
     "execution_count": 221,
     "metadata": {},
     "output_type": "execute_result"
    }
   ],
   "source": [
    "feat_imp=tet.models['word2vec'].feature_importances_\n",
    "feat_imp\n",
    "#these are the feature importances for a random forest classifier"
   ]
  },
  {
   "cell_type": "code",
   "execution_count": 1,
   "metadata": {
    "collapsed": false
   },
   "outputs": [
    {
     "data": {
      "text/plain": [
       "datetime.datetime(2017, 2, 22, 0, 31, 45, 410865)"
      ]
     },
     "execution_count": 1,
     "metadata": {},
     "output_type": "execute_result"
    }
   ],
   "source": [
    "import datetime\n",
    "print(datetime.datetime.utcnow())\n",
    "print(datetime.date.today())\n",
    "\n",
    "\n",
    "\n"
   ]
  },
  {
   "cell_type": "code",
   "execution_count": 14,
   "metadata": {
    "collapsed": false
   },
   "outputs": [
    {
     "data": {
      "text/plain": [
       "'2017-02-22'"
      ]
     },
     "execution_count": 14,
     "metadata": {},
     "output_type": "execute_result"
    }
   ],
   "source": [
    "datetime.datetime.utcnow().strftime(\"%Y-%m-%d\")"
   ]
  },
  {
   "cell_type": "code",
   "execution_count": 8,
   "metadata": {
    "collapsed": false
   },
   "outputs": [
    {
     "ename": "TypeError",
     "evalue": "today() takes no arguments (1 given)",
     "output_type": "error",
     "traceback": [
      "\u001b[0;31m---------------------------------------------------------------------------\u001b[0m",
      "\u001b[0;31mTypeError\u001b[0m                                 Traceback (most recent call last)",
      "\u001b[0;32m<ipython-input-8-907b87a31470>\u001b[0m in \u001b[0;36m<module>\u001b[0;34m()\u001b[0m\n\u001b[0;32m----> 1\u001b[0;31m \u001b[0mdatetime\u001b[0m\u001b[0;34m.\u001b[0m\u001b[0mdate\u001b[0m\u001b[0;34m.\u001b[0m\u001b[0mtoday\u001b[0m\u001b[0;34m(\u001b[0m\u001b[0;34m'utc'\u001b[0m\u001b[0;34m)\u001b[0m\u001b[0;34m\u001b[0m\u001b[0m\n\u001b[0m",
      "\u001b[0;31mTypeError\u001b[0m: today() takes no arguments (1 given)"
     ]
    }
   ],
   "source": [
    "datetime.date."
   ]
  },
  {
   "cell_type": "code",
   "execution_count": 11,
   "metadata": {
    "collapsed": false
   },
   "outputs": [
    {
     "name": "stdout",
     "output_type": "stream",
     "text": [
      "96\n",
      "35\n",
      "20\n",
      "15\n",
      "best parameter choices: (10,)\n",
      "model_test_rmse: 3.694 benchmark_test_rmse: 1.998\n",
      "best parameter choices: (10,)\n",
      "model_test_rmse: 12.462 benchmark_test_rmse: 11.736\n",
      "best parameter choices: (10,)\n",
      "model_test_rmse: 18.602 benchmark_test_rmse: 17.880\n",
      "best parameter choices: (10,)\n",
      "model_test_rmse: 12.478 benchmark_test_rmse: 11.521\n",
      "best parameter choices: (10,)\n",
      "model_test_rmse: 2.183 benchmark_test_rmse: 3.327\n",
      "best parameter choices: (10,)\n",
      "model_test_rmse: 7.532 benchmark_test_rmse: 6.454\n",
      "best parameter choices: (10,)\n",
      "model_test_rmse: 13.321 benchmark_test_rmse: 9.703\n",
      "best parameter choices: (10,)\n",
      "model_test_rmse: 3.278 benchmark_test_rmse: 1.480\n",
      "best parameter choices: (10,)\n",
      "model_test_rmse: 3.377 benchmark_test_rmse: 4.962\n",
      "best parameter choices: (10,)\n",
      "model_test_rmse: 5.701 benchmark_test_rmse: 6.409\n",
      "best parameter choices: (10,)\n",
      "model_test_rmse: 5.804 benchmark_test_rmse: 2.761\n",
      "best parameter choices: (10,)\n",
      "model_test_rmse: 10.472 benchmark_test_rmse: 8.227\n",
      "best parameter choices: (10,)\n",
      "model_test_rmse: 2.365 benchmark_test_rmse: 2.635\n",
      "best parameter choices: (10,)\n",
      "model_test_rmse: 10.109 benchmark_test_rmse: 9.600\n",
      "best parameter choices: (10,)\n",
      "model_test_rmse: 1.372 benchmark_test_rmse: 6.348\n",
      "best parameter choices: (10,)\n",
      "model_test_rmse: 2.776 benchmark_test_rmse: 7.466\n",
      "best parameter choices: (10,)\n",
      "model_test_rmse: 14.960 benchmark_test_rmse: 13.611\n",
      "best parameter choices: (10,)\n",
      "model_test_rmse: 17.879 benchmark_test_rmse: 16.867\n",
      "best parameter choices: (6,)\n",
      "model_test_rmse: 7.335 benchmark_test_rmse: 3.337\n",
      "best parameter choices: (10,)\n",
      "model_test_rmse: 4.802 benchmark_test_rmse: 3.595\n",
      "best parameter choices: (10,)\n",
      "model_test_rmse: 16.408 benchmark_test_rmse: 15.351\n",
      "best parameter choices: (10,)\n",
      "model_test_rmse: 4.934 benchmark_test_rmse: 3.403\n",
      "best parameter choices: (6,)\n",
      "model_test_rmse: 2.213 benchmark_test_rmse: 0.653\n",
      "best parameter choices: (6,)\n",
      "model_test_rmse: 2.922 benchmark_test_rmse: 0.025\n",
      "best parameter choices: (6,)\n",
      "model_test_rmse: 15.507 benchmark_test_rmse: 15.245\n",
      "best parameter choices: (6,)\n",
      "model_test_rmse: 5.033 benchmark_test_rmse: 6.362\n",
      "best parameter choices: (6,)\n",
      "model_test_rmse: 4.473 benchmark_test_rmse: 0.909\n",
      "best parameter choices: (6,)\n",
      "model_test_rmse: 0.440 benchmark_test_rmse: 0.172\n",
      "best parameter choices: (6,)\n",
      "model_test_rmse: 7.764 benchmark_test_rmse: 11.780\n",
      "best parameter choices: (6,)\n",
      "model_test_rmse: 0.858 benchmark_test_rmse: 6.679\n",
      "best parameter choices: (6,)\n",
      "model_test_rmse: 4.370 benchmark_test_rmse: 10.525\n",
      "best parameter choices: (6,)\n",
      "model_test_rmse: 2.765 benchmark_test_rmse: 7.591\n",
      "best parameter choices: (6,)\n",
      "model_test_rmse: 7.765 benchmark_test_rmse: 9.849\n",
      "best parameter choices: (6,)\n",
      "model_test_rmse: 3.307 benchmark_test_rmse: 3.955\n",
      "best parameter choices: (6,)\n",
      "model_test_rmse: 0.325 benchmark_test_rmse: 2.056\n"
     ]
    },
    {
     "data": {
      "text/plain": [
       "[(6.8453165666666536, 5.2300295112219395),\n",
       " (6.9849111052740875, 4.9443270221840132)]"
      ]
     },
     "execution_count": 11,
     "metadata": {},
     "output_type": "execute_result"
    }
   ],
   "source": [
    "tet.auto_ts_val_test_reg('word2vec','knnreg',[['numb_nn',{2,3,4,5,6,7,8,9,10}]],parm_search_iter=1,n_folds_val=15,\n",
    "                         n_folds_test=35,past_depth=20,scaling=True,differential=True,notest=False,verbose=False,\n",
    "                         eqdiff=False)"
   ]
  },
  {
   "cell_type": "code",
   "execution_count": 12,
   "metadata": {
    "collapsed": false
   },
   "outputs": [
    {
     "name": "stdout",
     "output_type": "stream",
     "text": [
      "96\n",
      "0\n",
      "30\n",
      "15\n"
     ]
    },
    {
     "data": {
      "text/plain": [
       "array([ 2356.119873])"
      ]
     },
     "execution_count": 12,
     "metadata": {},
     "output_type": "execute_result"
    }
   ],
   "source": [
    "tet.auto_ts_val_test_reg('word2vec','knnreg',[['numb_nn',{3,4,5,6}]],parm_search_iter=10,n_folds_val=15,\n",
    "                         n_folds_test=15,past_depth=30,scaling=True,differential=True,notest=True,verbose=False)"
   ]
  },
  {
   "cell_type": "code",
   "execution_count": 13,
   "metadata": {
    "collapsed": false
   },
   "outputs": [
    {
     "name": "stdout",
     "output_type": "stream",
     "text": [
      "96\n",
      "20\n",
      "50\n",
      "20\n",
      "best parameter choices: ('l1', 0.0001)\n",
      "test_rec,prec,F1: [1.0, 1.0, 1.0] benchmark_rec,prec,F1: [1.0, 1.0, 1.0]\n",
      "best parameter choices: ('l1', 66.66669999999999)\n",
      "test_rec,prec,F1: [1.0, 1.0, 1.0] benchmark_rec,prec,F1: [0.0, 1.0, 0.0]\n",
      "best parameter choices: ('l1', 44.444500000000005)\n",
      "test_rec,prec,F1: [0.0, 1.0, 0.0] benchmark_rec,prec,F1: [0.0, 1.0, 0.0]\n",
      "best parameter choices: ('l1', 36.89992592592593)\n",
      "test_rec,prec,F1: [1.0, 0.0, 0.0] benchmark_rec,prec,F1: [1.0, 0.0, 0.0]\n",
      "best parameter choices: ('l1', 33.3334)\n",
      "test_rec,prec,F1: [1.0, 0.0, 0.0] benchmark_rec,prec,F1: [1.0, 1.0, 1.0]\n",
      "best parameter choices: ('l1', 55.555600000000005)\n",
      "test_rec,prec,F1: [1.0, 1.0, 1.0] benchmark_rec,prec,F1: [1.0, 1.0, 1.0]\n",
      "best parameter choices: ('l1', 24.965781481481486)\n",
      "test_rec,prec,F1: [1.0, 1.0, 1.0] benchmark_rec,prec,F1: [1.0, 1.0, 1.0]\n",
      "best parameter choices: ('l1', 34.56796666666666)\n",
      "test_rec,prec,F1: [0.0, 1.0, 0.0] benchmark_rec,prec,F1: [0.0, 1.0, 0.0]\n",
      "best parameter choices: ('l1', 29.629700000000003)\n",
      "test_rec,prec,F1: [0.0, 1.0, 0.0] benchmark_rec,prec,F1: [0.0, 1.0, 0.0]\n",
      "best parameter choices: ('l1', 33.3334)\n",
      "test_rec,prec,F1: [1.0, 1.0, 1.0] benchmark_rec,prec,F1: [0.0, 1.0, 0.0]\n",
      "best parameter choices: ('l1', 77.7778)\n",
      "test_rec,prec,F1: [1.0, 0.0, 0.0] benchmark_rec,prec,F1: [1.0, 1.0, 1.0]\n",
      "best parameter choices: ('l1', 35.18522333333333)\n",
      "test_rec,prec,F1: [1.0, 1.0, 1.0] benchmark_rec,prec,F1: [0.0, 1.0, 0.0]\n",
      "best parameter choices: ('l1', 45.95341481481482)\n",
      "test_rec,prec,F1: [1.0, 1.0, 1.0] benchmark_rec,prec,F1: [0.0, 1.0, 0.0]\n",
      "best parameter choices: ('l1', 22.7709962962963)\n",
      "test_rec,prec,F1: [1.0, 1.0, 1.0] benchmark_rec,prec,F1: [1.0, 1.0, 1.0]\n",
      "best parameter choices: ('l1', 34.56796666666666)\n",
      "test_rec,prec,F1: [1.0, 1.0, 1.0] benchmark_rec,prec,F1: [1.0, 1.0, 1.0]\n",
      "best parameter choices: ('l1', 28.395133333333334)\n",
      "test_rec,prec,F1: [0.0, 1.0, 0.0] benchmark_rec,prec,F1: [1.0, 1.0, 1.0]\n",
      "best parameter choices: ('l1', 20.987733333333335)\n",
      "test_rec,prec,F1: [1.0, 1.0, 1.0] benchmark_rec,prec,F1: [1.0, 1.0, 1.0]\n",
      "best parameter choices: ('l1', 29.63835570289082)\n",
      "test_rec,prec,F1: [1.0, 1.0, 1.0] benchmark_rec,prec,F1: [1.0, 1.0, 1.0]\n",
      "best parameter choices: ('l1', 27.211371879286695)\n",
      "test_rec,prec,F1: [1.0, 0.0, 0.0] benchmark_rec,prec,F1: [1.0, 0.0, 0.0]\n",
      "best parameter choices: ('l1', 32.09883333333333)\n",
      "test_rec,prec,F1: [1.0, 1.0, 1.0] benchmark_rec,prec,F1: [1.0, 1.0, 1.0]\n"
     ]
    },
    {
     "data": {
      "text/plain": [
       "[(array([[ 0.8,  0.8,  0.6]]),\n",
       "  array([[ 0.4       ,  0.4       ,  0.48989795]])),\n",
       " (array([[ 0.65,  0.9 ,  0.55]]),\n",
       "  array([[ 0.4769696 ,  0.3       ,  0.49749372]]))]"
      ]
     },
     "execution_count": 13,
     "metadata": {},
     "output_type": "execute_result"
    }
   ],
   "source": [
    "tet.auto_ts_val_test_class('word2vec','logreg',[['l1orl2?',{'l1','l2'}],['C',[0.0001,100.,0.3]]],\n",
    "                           parm_search_iter=30,n_folds_val=20,n_folds_test=20,past_depth=50,scaling=False,notest=False,\n",
    "                           verbose=False)"
   ]
  },
  {
   "cell_type": "code",
   "execution_count": 14,
   "metadata": {
    "collapsed": false
   },
   "outputs": [
    {
     "name": "stdout",
     "output_type": "stream",
     "text": [
      "96\n",
      "0\n",
      "50\n",
      "20\n"
     ]
    },
    {
     "data": {
      "text/plain": [
       "array([ 1.])"
      ]
     },
     "execution_count": 14,
     "metadata": {},
     "output_type": "execute_result"
    }
   ],
   "source": [
    "tet.auto_ts_val_test_class('word2vec','logreg',[['l1orl2?',{'l1','l2'}],['C',[0.0001,100.,0.3]]],\n",
    "                           parm_search_iter=30,n_folds_val=20,n_folds_test=20,past_depth=50,scaling=False,notest=True,\n",
    "                           verbose=False)"
   ]
  },
  {
   "cell_type": "code",
   "execution_count": 21,
   "metadata": {
    "collapsed": false
   },
   "outputs": [
    {
     "name": "stdout",
     "output_type": "stream",
     "text": [
      "[[ -1.25623890e+01   0.00000000e+00   1.45077640e+01  -1.17392325e+01\n",
      "   -5.54032834e+00   0.00000000e+00  -1.78744693e+01  -1.57152561e+01\n",
      "   -4.34425475e+00  -1.65644768e+00   0.00000000e+00   0.00000000e+00\n",
      "    8.33683954e+00   0.00000000e+00   0.00000000e+00  -1.79039296e+01\n",
      "   -9.36753961e-01  -1.05947357e-02   9.04486174e-03  -6.67503162e-03]]\n"
     ]
    },
    {
     "ename": "error",
     "evalue": "failed in converting 1st argument `x' of _fblas.dnrm2 to C/Fortran array",
     "output_type": "error",
     "traceback": [
      "\u001b[0;31m---------------------------------------------------------------------------\u001b[0m",
      "\u001b[0;31merror\u001b[0m                                     Traceback (most recent call last)",
      "\u001b[0;32m<ipython-input-21-92b0f5105e87>\u001b[0m in \u001b[0;36m<module>\u001b[0;34m()\u001b[0m\n\u001b[1;32m      2\u001b[0m \u001b[0mprint\u001b[0m\u001b[0;34m(\u001b[0m\u001b[0mfeat_imp\u001b[0m\u001b[0;34m)\u001b[0m\u001b[0;34m\u001b[0m\u001b[0m\n\u001b[1;32m      3\u001b[0m \u001b[0mmodel\u001b[0m\u001b[0;34m=\u001b[0m\u001b[0mtet\u001b[0m\u001b[0;34m.\u001b[0m\u001b[0mw2v_models\u001b[0m\u001b[0;34m[\u001b[0m\u001b[0;34m'word2vec'\u001b[0m\u001b[0;34m]\u001b[0m\u001b[0;34m\u001b[0m\u001b[0m\n\u001b[0;32m----> 4\u001b[0;31m \u001b[0mmodel\u001b[0m\u001b[0;34m.\u001b[0m\u001b[0mwv\u001b[0m\u001b[0;34m.\u001b[0m\u001b[0msimilar_by_vector\u001b[0m\u001b[0;34m(\u001b[0m\u001b[0mnp\u001b[0m\u001b[0;34m.\u001b[0m\u001b[0marray\u001b[0m\u001b[0;34m(\u001b[0m\u001b[0mfeat_imp\u001b[0m\u001b[0;34m[\u001b[0m\u001b[0;34m:\u001b[0m\u001b[0;34m-\u001b[0m\u001b[0;36m2\u001b[0m\u001b[0;34m]\u001b[0m\u001b[0;34m)\u001b[0m\u001b[0;34m)\u001b[0m\u001b[0;34m\u001b[0m\u001b[0m\n\u001b[0m\u001b[1;32m      5\u001b[0m \u001b[0;31m#these are the feature importances for the lasso classifier\u001b[0m\u001b[0;34m\u001b[0m\u001b[0;34m\u001b[0m\u001b[0m\n",
      "\u001b[0;32m//anaconda/envs/py3k/lib/python3.5/site-packages/gensim/models/keyedvectors.py\u001b[0m in \u001b[0;36msimilar_by_vector\u001b[0;34m(self, vector, topn, restrict_vocab)\u001b[0m\n\u001b[1;32m    298\u001b[0m         \"\"\"\n\u001b[1;32m    299\u001b[0m \u001b[0;34m\u001b[0m\u001b[0m\n\u001b[0;32m--> 300\u001b[0;31m         \u001b[0;32mreturn\u001b[0m \u001b[0mself\u001b[0m\u001b[0;34m.\u001b[0m\u001b[0mmost_similar\u001b[0m\u001b[0;34m(\u001b[0m\u001b[0mpositive\u001b[0m\u001b[0;34m=\u001b[0m\u001b[0;34m[\u001b[0m\u001b[0mvector\u001b[0m\u001b[0;34m]\u001b[0m\u001b[0;34m,\u001b[0m \u001b[0mtopn\u001b[0m\u001b[0;34m=\u001b[0m\u001b[0mtopn\u001b[0m\u001b[0;34m,\u001b[0m \u001b[0mrestrict_vocab\u001b[0m\u001b[0;34m=\u001b[0m\u001b[0mrestrict_vocab\u001b[0m\u001b[0;34m)\u001b[0m\u001b[0;34m\u001b[0m\u001b[0m\n\u001b[0m\u001b[1;32m    301\u001b[0m \u001b[0;34m\u001b[0m\u001b[0m\n\u001b[1;32m    302\u001b[0m     \u001b[0;32mdef\u001b[0m \u001b[0mdoesnt_match\u001b[0m\u001b[0;34m(\u001b[0m\u001b[0mself\u001b[0m\u001b[0;34m,\u001b[0m \u001b[0mwords\u001b[0m\u001b[0;34m)\u001b[0m\u001b[0;34m:\u001b[0m\u001b[0;34m\u001b[0m\u001b[0m\n",
      "\u001b[0;32m//anaconda/envs/py3k/lib/python3.5/site-packages/gensim/models/keyedvectors.py\u001b[0m in \u001b[0;36mmost_similar\u001b[0;34m(self, positive, negative, topn, restrict_vocab, indexer)\u001b[0m\n\u001b[1;32m     98\u001b[0m         \u001b[0;32mif\u001b[0m \u001b[0;32mnot\u001b[0m \u001b[0mmean\u001b[0m\u001b[0;34m:\u001b[0m\u001b[0;34m\u001b[0m\u001b[0m\n\u001b[1;32m     99\u001b[0m             \u001b[0;32mraise\u001b[0m \u001b[0mValueError\u001b[0m\u001b[0;34m(\u001b[0m\u001b[0;34m\"cannot compute similarity with no input\"\u001b[0m\u001b[0;34m)\u001b[0m\u001b[0;34m\u001b[0m\u001b[0m\n\u001b[0;32m--> 100\u001b[0;31m         \u001b[0mmean\u001b[0m \u001b[0;34m=\u001b[0m \u001b[0mmatutils\u001b[0m\u001b[0;34m.\u001b[0m\u001b[0munitvec\u001b[0m\u001b[0;34m(\u001b[0m\u001b[0marray\u001b[0m\u001b[0;34m(\u001b[0m\u001b[0mmean\u001b[0m\u001b[0;34m)\u001b[0m\u001b[0;34m.\u001b[0m\u001b[0mmean\u001b[0m\u001b[0;34m(\u001b[0m\u001b[0maxis\u001b[0m\u001b[0;34m=\u001b[0m\u001b[0;36m0\u001b[0m\u001b[0;34m)\u001b[0m\u001b[0;34m)\u001b[0m\u001b[0;34m.\u001b[0m\u001b[0mastype\u001b[0m\u001b[0;34m(\u001b[0m\u001b[0mREAL\u001b[0m\u001b[0;34m)\u001b[0m\u001b[0;34m\u001b[0m\u001b[0m\n\u001b[0m\u001b[1;32m    101\u001b[0m \u001b[0;34m\u001b[0m\u001b[0m\n\u001b[1;32m    102\u001b[0m         \u001b[0;32mif\u001b[0m \u001b[0mindexer\u001b[0m \u001b[0;32mis\u001b[0m \u001b[0;32mnot\u001b[0m \u001b[0;32mNone\u001b[0m\u001b[0;34m:\u001b[0m\u001b[0;34m\u001b[0m\u001b[0m\n",
      "\u001b[0;32m//anaconda/envs/py3k/lib/python3.5/site-packages/gensim/matutils.py\u001b[0m in \u001b[0;36munitvec\u001b[0;34m(vec, norm)\u001b[0m\n\u001b[1;32m    381\u001b[0m             \u001b[0mveclen\u001b[0m \u001b[0;34m=\u001b[0m \u001b[0mnp\u001b[0m\u001b[0;34m.\u001b[0m\u001b[0msum\u001b[0m\u001b[0;34m(\u001b[0m\u001b[0mnp\u001b[0m\u001b[0;34m.\u001b[0m\u001b[0mabs\u001b[0m\u001b[0;34m(\u001b[0m\u001b[0mvec\u001b[0m\u001b[0;34m)\u001b[0m\u001b[0;34m)\u001b[0m\u001b[0;34m\u001b[0m\u001b[0m\n\u001b[1;32m    382\u001b[0m         \u001b[0;32mif\u001b[0m \u001b[0mnorm\u001b[0m \u001b[0;34m==\u001b[0m \u001b[0;34m'l2'\u001b[0m\u001b[0;34m:\u001b[0m\u001b[0;34m\u001b[0m\u001b[0m\n\u001b[0;32m--> 383\u001b[0;31m             \u001b[0mveclen\u001b[0m \u001b[0;34m=\u001b[0m \u001b[0mblas_nrm2\u001b[0m\u001b[0;34m(\u001b[0m\u001b[0mvec\u001b[0m\u001b[0;34m)\u001b[0m\u001b[0;34m\u001b[0m\u001b[0m\n\u001b[0m\u001b[1;32m    384\u001b[0m         \u001b[0;32mif\u001b[0m \u001b[0mveclen\u001b[0m \u001b[0;34m>\u001b[0m \u001b[0;36m0.0\u001b[0m\u001b[0;34m:\u001b[0m\u001b[0;34m\u001b[0m\u001b[0m\n\u001b[1;32m    385\u001b[0m             \u001b[0;32mreturn\u001b[0m \u001b[0mblas_scal\u001b[0m\u001b[0;34m(\u001b[0m\u001b[0;36m1.0\u001b[0m \u001b[0;34m/\u001b[0m \u001b[0mveclen\u001b[0m\u001b[0;34m,\u001b[0m \u001b[0mvec\u001b[0m\u001b[0;34m)\u001b[0m\u001b[0;34m\u001b[0m\u001b[0m\n",
      "\u001b[0;31merror\u001b[0m: failed in converting 1st argument `x' of _fblas.dnrm2 to C/Fortran array"
     ]
    }
   ],
   "source": [
    "feat_imp=tet.models['word2vec'].coef_\n",
    "print(feat_imp)\n",
    "model=tet.w2v_models['word2vec']\n",
    "model.wv.similar_by_vector(np.array(feat_imp[:-2]))\n",
    "#these are the feature importances for the lasso classifier"
   ]
  },
  {
   "cell_type": "code",
   "execution_count": 20,
   "metadata": {
    "collapsed": false
   },
   "outputs": [
    {
     "data": {
      "text/plain": [
       "[('poo', 1.0),\n",
       " ('beam', 0.9922065138816833),\n",
       " ('toyota', 0.9903239011764526),\n",
       " ('fiji', 0.9890756607055664),\n",
       " ('singh', 0.9884848594665527),\n",
       " ('wast', 0.9880532026290894),\n",
       " ('zika', 0.9878035187721252),\n",
       " ('deserv', 0.9877070188522339),\n",
       " ('religion', 0.9873846769332886),\n",
       " ('harm', 0.9872298240661621)]"
      ]
     },
     "execution_count": 20,
     "metadata": {},
     "output_type": "execute_result"
    }
   ],
   "source": [
    "model.wv.similar_by_vector(np.array([-0.25653017, -0.10820102,  0.0424006 ,0.09318788, -0.06273134,0.02189363, -0.05919369,  0.02997402, -0.0042966 , -0.27152437,0.05229396, -0.00672993, -0.00525654, -0.08703346, -0.09726489,0.10277114]))"
   ]
  },
  {
   "cell_type": "code",
   "execution_count": 179,
   "metadata": {
    "collapsed": false
   },
   "outputs": [
    {
     "name": "stdout",
     "output_type": "stream",
     "text": [
      "best parameter choices: ('l1', 0.0001)\n",
      "test_rec,prec,F1: [1.0, 1.0, 1.0] benchmark_rec,prec,F1: [1.0, 1.0, 1.0]\n",
      "best parameter choices: ('l1', 44.444500000000005)\n",
      "test_rec,prec,F1: [1.0, 1.0, 1.0] benchmark_rec,prec,F1: [0.0, 1.0, 0.0]\n",
      "best parameter choices: ('l1', 44.444500000000005)\n",
      "test_rec,prec,F1: [1.0, 1.0, 1.0] benchmark_rec,prec,F1: [0.0, 1.0, 0.0]\n",
      "best parameter choices: ('l1', 37.0371)\n",
      "test_rec,prec,F1: [1.0, 0.0, 0.0] benchmark_rec,prec,F1: [1.0, 0.0, 0.0]\n",
      "best parameter choices: ('l1', 38.88893)\n",
      "test_rec,prec,F1: [1.0, 1.0, 1.0] benchmark_rec,prec,F1: [1.0, 1.0, 1.0]\n",
      "best parameter choices: ('l1', 66.66669999999999)\n",
      "test_rec,prec,F1: [1.0, 1.0, 1.0] benchmark_rec,prec,F1: [1.0, 1.0, 1.0]\n",
      "best parameter choices: ('l1', 55.555600000000005)\n",
      "test_rec,prec,F1: [1.0, 1.0, 1.0] benchmark_rec,prec,F1: [1.0, 1.0, 1.0]\n",
      "best parameter choices: ('l1', 49.38276666666667)\n",
      "test_rec,prec,F1: [0.0, 1.0, 0.0] benchmark_rec,prec,F1: [0.0, 1.0, 0.0]\n",
      "best parameter choices: ('l1', 44.444500000000005)\n",
      "test_rec,prec,F1: [1.0, 1.0, 1.0] benchmark_rec,prec,F1: [0.0, 1.0, 0.0]\n",
      "best parameter choices: ('l1', 55.555600000000005)\n",
      "test_rec,prec,F1: [1.0, 1.0, 1.0] benchmark_rec,prec,F1: [0.0, 1.0, 0.0]\n",
      "best parameter choices: ('l2', 0.0001)\n",
      "test_rec,prec,F1: [1.0, 0.0, 0.0] benchmark_rec,prec,F1: [1.0, 1.0, 1.0]\n",
      "best parameter choices: ('l1', 0.0001)\n",
      "test_rec,prec,F1: [0.0, 1.0, 0.0] benchmark_rec,prec,F1: [0.0, 1.0, 0.0]\n",
      "best parameter choices: ('l1', 44.444500000000005)\n",
      "test_rec,prec,F1: [1.0, 1.0, 1.0] benchmark_rec,prec,F1: [0.0, 1.0, 0.0]\n",
      "best parameter choices: ('l1', 44.444500000000005)\n",
      "test_rec,prec,F1: [1.0, 1.0, 1.0] benchmark_rec,prec,F1: [1.0, 1.0, 1.0]\n",
      "best parameter choices: ('l2', 88.8889)\n",
      "test_rec,prec,F1: [1.0, 1.0, 1.0] benchmark_rec,prec,F1: [1.0, 1.0, 1.0]\n",
      "best parameter choices: ('l2', 88.8889)\n",
      "test_rec,prec,F1: [0.0, 1.0, 0.0] benchmark_rec,prec,F1: [1.0, 1.0, 1.0]\n",
      "best parameter choices: ('l2', 88.8889)\n",
      "test_rec,prec,F1: [1.0, 1.0, 1.0] benchmark_rec,prec,F1: [1.0, 1.0, 1.0]\n",
      "best parameter choices: ('l1', 22.2223)\n",
      "test_rec,prec,F1: [1.0, 1.0, 1.0] benchmark_rec,prec,F1: [1.0, 1.0, 1.0]\n",
      "best parameter choices: ('l2', 88.8889)\n",
      "test_rec,prec,F1: [1.0, 0.0, 0.0] benchmark_rec,prec,F1: [1.0, 0.0, 0.0]\n",
      "best parameter choices: ('l2', 88.8889)\n",
      "test_rec,prec,F1: [1.0, 1.0, 1.0] benchmark_rec,prec,F1: [1.0, 1.0, 1.0]\n"
     ]
    },
    {
     "data": {
      "text/plain": [
       "[(array([[ 0.85,  0.85,  0.7 ]]),\n",
       "  array([[ 0.35707142,  0.35707142,  0.45825757]])),\n",
       " (array([[ 0.65,  0.9 ,  0.55]]),\n",
       "  array([[ 0.4769696 ,  0.3       ,  0.49749372]]))]"
      ]
     },
     "execution_count": 179,
     "metadata": {},
     "output_type": "execute_result"
    }
   ],
   "source": [
    "tet.auto_ts_val_test_class('word2vec','logreg',[['l1orl2?',{'l1','l2'}],['C',[0.0001,100.,0.3]]],\n",
    "                           parm_search_iter=30,n_folds_val=20,n_folds_test=20,past_depth=50,scaling=False,notest=False,\n",
    "                           verbose=False)"
   ]
  },
  {
   "cell_type": "markdown",
   "metadata": {},
   "source": [
    "Let's see if classifying tomorrow's value going up or down will do us and better...\n",
    "N.B. We need to specify a decision threshold which I recommend leaving at 0.5 for now."
   ]
  },
  {
   "cell_type": "code",
   "execution_count": 171,
   "metadata": {
    "collapsed": false
   },
   "outputs": [
    {
     "name": "stdout",
     "output_type": "stream",
     "text": [
      "best parameter choices: (1, 9, 3)\n",
      "test_rec,prec,F1: [1.0, 1.0, 1.0] benchmark_rec,prec,F1: [1.0, 1.0, 1.0]\n",
      "best parameter choices: (3, 10, 5)\n",
      "test_rec,prec,F1: [1.0, 1.0, 1.0] benchmark_rec,prec,F1: [1.0, 1.0, 1.0]\n",
      "best parameter choices: (1, 9, 3)\n",
      "test_rec,prec,F1: [0.0, 1.0, 0.0] benchmark_rec,prec,F1: [0.0, 1.0, 0.0]\n",
      "best parameter choices: (1, 9, 3)\n",
      "test_rec,prec,F1: [0.0, 1.0, 0.0] benchmark_rec,prec,F1: [0.0, 1.0, 0.0]\n",
      "best parameter choices: (2, 9, 5)\n",
      "test_rec,prec,F1: [1.0, 1.0, 1.0] benchmark_rec,prec,F1: [0.0, 1.0, 0.0]\n",
      "best parameter choices: (3, 8, 5)\n",
      "test_rec,prec,F1: [1.0, 1.0, 1.0] benchmark_rec,prec,F1: [1.0, 1.0, 1.0]\n",
      "best parameter choices: (2, 8, 5)\n",
      "test_rec,prec,F1: [1.0, 1.0, 1.0] benchmark_rec,prec,F1: [0.0, 1.0, 0.0]\n",
      "best parameter choices: (5, 9, 4)\n",
      "test_rec,prec,F1: [0.0, 1.0, 0.0] benchmark_rec,prec,F1: [0.0, 1.0, 0.0]\n",
      "best parameter choices: (3, 9, 4)\n",
      "test_rec,prec,F1: [0.0, 1.0, 0.0] benchmark_rec,prec,F1: [1.0, 1.0, 1.0]\n",
      "best parameter choices: (3, 8, 3)\n",
      "test_rec,prec,F1: [1.0, 1.0, 1.0] benchmark_rec,prec,F1: [1.0, 1.0, 1.0]\n",
      "best parameter choices: (1, 9, 4)\n",
      "test_rec,prec,F1: [1.0, 1.0, 1.0] benchmark_rec,prec,F1: [1.0, 1.0, 1.0]\n",
      "best parameter choices: (3, 8, 3)\n",
      "test_rec,prec,F1: [1.0, 1.0, 1.0] benchmark_rec,prec,F1: [1.0, 1.0, 1.0]\n",
      "best parameter choices: (1, 9, 5)\n",
      "test_rec,prec,F1: [1.0, 1.0, 1.0] benchmark_rec,prec,F1: [1.0, 1.0, 1.0]\n",
      "best parameter choices: (4, 9, 4)\n",
      "test_rec,prec,F1: [1.0, 1.0, 1.0] benchmark_rec,prec,F1: [1.0, 0.0, 0.0]\n",
      "best parameter choices: (3, 10, 2)\n",
      "test_rec,prec,F1: [0.0, 1.0, 0.0] benchmark_rec,prec,F1: [1.0, 1.0, 1.0]\n"
     ]
    },
    {
     "data": {
      "text/plain": [
       "[(array([[ 0.66666667,  1.        ,  0.66666667]]),\n",
       "  array([[ 0.47140452,  0.        ,  0.47140452]])),\n",
       " (array([[ 0.66666667,  0.93333333,  0.6       ]]),\n",
       "  array([[ 0.47140452,  0.24944383,  0.48989795]]))]"
      ]
     },
     "execution_count": 171,
     "metadata": {},
     "output_type": "execute_result"
    }
   ],
   "source": [
    "tet.auto_ts_val_test_class('word2vec','rfclass',[['n_estim',{1,2,3,4,5}],['max_feat',{8,9,10}],\n",
    "                                                 ['max_depth',{2,3,4,5}]],parm_search_iter=1,n_folds_val=20,\n",
    "                           past_depth=40,n_folds_test=15,scaling=False,notest=False,verbose=False)"
   ]
  },
  {
   "cell_type": "markdown",
   "metadata": {},
   "source": [
    "Good! Our model overperform the benchmark as for accuracy (=F1 in this case): 0.67 vs 0.60.\n",
    "\n",
    "Now let's predict what today's closing is going to be!"
   ]
  },
  {
   "cell_type": "code",
   "execution_count": 172,
   "metadata": {
    "collapsed": false
   },
   "outputs": [
    {
     "data": {
      "text/plain": [
       "array([ 1.])"
      ]
     },
     "execution_count": 172,
     "metadata": {},
     "output_type": "execute_result"
    }
   ],
   "source": [
    "tet.auto_ts_val_test_class('word2vec','rfclass',[['n_estim',{1,2,3,4,5}],['max_feat',{8,9,10}],\n",
    "                                                 ['max_depth',{2,3,4,5}]],parm_search_iter=1,n_folds_val=20,\n",
    "                           past_depth=40,n_folds_test=15,scaling=False,notest=True,verbose=False)"
   ]
  },
  {
   "cell_type": "markdown",
   "metadata": {},
   "source": [
    "It will go up, apparently!"
   ]
  },
  {
   "cell_type": "code",
   "execution_count": 175,
   "metadata": {
    "collapsed": false
   },
   "outputs": [
    {
     "data": {
      "text/plain": [
       "array([ 0.01150188,  0.        ,  0.        ,  0.04061601,  0.        ,\n",
       "        0.16298408,  0.32183145,  0.06389972,  0.        ,  0.06375228,\n",
       "        0.12311446,  0.21230012])"
      ]
     },
     "execution_count": 175,
     "metadata": {},
     "output_type": "execute_result"
    }
   ],
   "source": [
    "feat_imp=tet.models['word2vec'].feature_importances_\n",
    "feat_imp\n",
    "#remember: only the first n-2 features are nlp, the (n-1)-th is being after a weekend and the n-th is today's closing"
   ]
  },
  {
   "cell_type": "code",
   "execution_count": null,
   "metadata": {
    "collapsed": true
   },
   "outputs": [],
   "source": []
  },
  {
   "cell_type": "code",
   "execution_count": null,
   "metadata": {
    "collapsed": false
   },
   "outputs": [],
   "source": [
    "tet.auto_ts_val_test_class('word2vec','svmclass',[['C',[0.000001,1.,0.001]],['kernel',{'poly','linear'}]],\n",
    "                           parm_search_iter=15,past_depth=30,n_folds_val=15,n_folds_test=15,scaling=False,notest=False,\n",
    "                           verbose=False)"
   ]
  },
  {
   "cell_type": "code",
   "execution_count": null,
   "metadata": {
    "collapsed": true
   },
   "outputs": [],
   "source": []
  },
  {
   "cell_type": "code",
   "execution_count": null,
   "metadata": {
    "collapsed": true
   },
   "outputs": [],
   "source": []
  },
  {
   "cell_type": "markdown",
   "metadata": {},
   "source": [
    "And now, for the real deal: k-fold training and validation!\n",
    "The following method performs that in a very general manner. It lets you decide what regression model to choose, as well as the values of the hyperparameters (please see the module documentation in model_training.py for details on how to pass the hyperparameters), also you need to supply the number of folds you want your data split into, and a seed, for reproducibility. There is also an option to scale and normalize the features but it doesn't quite perform well in general.\n",
    "\n",
    "The method returns the model average performance over the k training iterations. In short, tuning will consist of choosing the value for the hyperparameters that optimizes avg_validation_rmse (that is minimize the average root mean squared on the validation datasets)"
   ]
  },
  {
   "cell_type": "markdown",
   "metadata": {},
   "source": [
    "By chance, in this one case we outperform the benchmark model with a lower rmse, but this procedure should be performed a couple of time and an average final performance should be quoted instead.\n",
    "\n",
    "Out of curiosity, let's see what the most important features were."
   ]
  },
  {
   "cell_type": "markdown",
   "metadata": {},
   "source": [
    "As you can see, the method returns again average validation performances which are now measured in terms of recall, precision, and F1 score. In lack of a specific metric we want to optimize, we are going to use the F1 score for tuning.\n",
    "\n",
    "The performance plateaus and is optimal for alpha ~1.0"
   ]
  },
  {
   "cell_type": "markdown",
   "metadata": {},
   "source": [
    "Bingo! Our model predicts all 1's. Not much gained...\n",
    "\n",
    "Incidentally anyway, that's how you pull the predictions vector for a specific dataset.\n",
    "In the future I'll give the option to save a specific model run instead of overwriting. Good for free exploration."
   ]
  },
  {
   "cell_type": "code",
   "execution_count": null,
   "metadata": {
    "collapsed": true
   },
   "outputs": [],
   "source": [
    "\n",
    "\n",
    "\n",
    "\n",
    "\n",
    "\n",
    "\n",
    "\n",
    "\n",
    "\n",
    "\n",
    "\n",
    "\n",
    "\n",
    "\n",
    "\n",
    "\n",
    "\n"
   ]
  },
  {
   "cell_type": "markdown",
   "metadata": {},
   "source": [
    "# Scratch from now on, please ignore!!"
   ]
  },
  {
   "cell_type": "markdown",
   "metadata": {},
   "source": [
    "## Trying out different regressors on the data, no luck so far :("
   ]
  }
 ],
 "metadata": {
  "anaconda-cloud": {},
  "kernelspec": {
   "display_name": "Python [py3k]",
   "language": "python",
   "name": "Python [py3k]"
  },
  "language_info": {
   "codemirror_mode": {
    "name": "ipython",
    "version": 3
   },
   "file_extension": ".py",
   "mimetype": "text/x-python",
   "name": "python",
   "nbconvert_exporter": "python",
   "pygments_lexer": "ipython3",
   "version": "3.5.2"
  }
 },
 "nbformat": 4,
 "nbformat_minor": 0
}
