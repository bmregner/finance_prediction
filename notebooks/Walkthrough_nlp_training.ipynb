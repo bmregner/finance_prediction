{
 "cells": [
  {
   "cell_type": "markdown",
   "metadata": {},
   "source": [
    "# Introduction\n",
    "\n",
    "Predicting financial indicators is a holy grail for our society. There is a vast literature on how to do this and the general approach is a time-series one, that is, predict the future of one quantity based on that quantity's past.\n",
    "\n",
    "We are trying to see if it's possible to complement this approach with data coming from news sources, reasoning that news from the world should directly and indirectly weigh on the performance of such indicators as stocks, employment rate, or inflation.\n",
    "\n",
    "Please keep in mind that we do not expect to make any significant improvement over state-of-the-art financial analyses (which involve much more complex and refined models). Rather, we are interested in building a scalable and dynamic pipeline that in the future might supplement those already-existing models or give interesting insights.\n",
    "\n",
    "### This notebook\n",
    "\n",
    "This is a walkthrough illustrating the typical usage of our package. We will try to predict future S&P500 closing values based on past S&P500 values along with NLP features extracted from the daily-updted GDELT 1.0 (http://www.gdeltproject.org/) event database.\n",
    "\n",
    "In particular, to scope down the analysis to a minimally viable scalable pipeline, I extract features from the source urls contained in the database (one associated to each event).\n",
    "\n",
    "For each day, all urls get parsed, tokenized, and stemmed, and then conflated together into a single bag of words. This will constitute one document. After that I may apply a tf-idf or word2vec vectorization (this latter being much favored).\n",
    "\n",
    "I use the extracted features (plus the same day's closing S&P500) to try and fit various regression models to predict the next day's S&P500 and compare them to a benchmark model (a simple naive model predicting the same for tomorrow as today, plus the average increase or decrease over the last few days).\n",
    "\n",
    "I also try to predict if tomorrow's index value will rise or fall, given today's news.\n",
    "\n",
    "For both tasks random forest regressors/classifiers seem promising approaches."
   ]
  },
  {
   "cell_type": "code",
   "execution_count": 1,
   "metadata": {
    "collapsed": true
   },
   "outputs": [],
   "source": [
    "import importlib\n",
    "import sys\n",
    "import os\n",
    "sourcedir=os.getcwd()+\"/../source\"\n",
    "if sourcedir not in sys.path:\n",
    "    sys.path.append(sourcedir)\n",
    "import numpy as np"
   ]
  },
  {
   "cell_type": "code",
   "execution_count": 2,
   "metadata": {
    "collapsed": false
   },
   "outputs": [
    {
     "data": {
      "text/plain": [
       "<module 'model_training' from '/Users/Maxos/Desktop/Insight_stuff/bigsnippyrepo/maqro/notebooks/../source/model_training.py'>"
      ]
     },
     "execution_count": 2,
     "metadata": {},
     "output_type": "execute_result"
    }
   ],
   "source": [
    "#importing our nlp proprocessing module, the reload command is for development\n",
    "import nlp_preprocessing as nlpp\n",
    "importlib.reload(nlpp)\n",
    "#importing our model training module, the reload command is for development\n",
    "import model_training as mdlt\n",
    "importlib.reload(mdlt)"
   ]
  },
  {
   "cell_type": "markdown",
   "metadata": {},
   "source": [
    "## The nlp-preprocessing module\n",
    "\n",
    "The module has two classes for now: one deals with the nlp preprocessing of Google News articles, which are talked about in much more depth in another notebook; the other is the analog for GDELT url data.\n",
    "\n",
    "Let's explore these classes and their contents."
   ]
  },
  {
   "cell_type": "markdown",
   "metadata": {},
   "source": [
    "### The CorpusGoogleNews class"
   ]
  },
  {
   "cell_type": "code",
   "execution_count": 3,
   "metadata": {
    "collapsed": false
   },
   "outputs": [],
   "source": [
    "#del datagnews\n",
    "datagnews=nlpp.CorpusGoogleNews() # nlpp.CorpusGoogleNews('some/data/directory') "
   ]
  },
  {
   "cell_type": "markdown",
   "metadata": {},
   "source": [
    "These are the attributes of the initialized class"
   ]
  },
  {
   "cell_type": "code",
   "execution_count": 6,
   "metadata": {
    "collapsed": false
   },
   "outputs": [
    {
     "name": "stdout",
     "output_type": "stream",
     "text": [
      "{}\n",
      "../data/\n"
     ]
    }
   ],
   "source": [
    "print(datagnews.raw_articles)\n",
    "print(datagnews.datadirectory)"
   ]
  },
  {
   "cell_type": "markdown",
   "metadata": {},
   "source": [
    "There is one public method for now: it loads files from the data folder"
   ]
  },
  {
   "cell_type": "code",
   "execution_count": 7,
   "metadata": {
    "collapsed": false
   },
   "outputs": [
    {
     "name": "stdout",
     "output_type": "stream",
     "text": [
      "Apple Inc\n",
      "Apple Inc 1-26-17\n",
      "Apple Inc 1-27-17\n",
      "Apple Inc 1-30-17\n",
      "Apple Inc 1-31-17\n",
      "Apple Inc 2-1-17\n"
     ]
    }
   ],
   "source": [
    "datagnews.data_directory_crawl('AAPL',verbose=1)"
   ]
  },
  {
   "cell_type": "markdown",
   "metadata": {},
   "source": [
    "which populates datagnews.raw_articles with dataframes like this:"
   ]
  },
  {
   "cell_type": "code",
   "execution_count": 8,
   "metadata": {
    "collapsed": false
   },
   "outputs": [
    {
     "data": {
      "text/html": [
       "<div>\n",
       "<table border=\"1\" class=\"dataframe\">\n",
       "  <thead>\n",
       "    <tr style=\"text-align: right;\">\n",
       "      <th></th>\n",
       "      <th>body</th>\n",
       "      <th>title</th>\n",
       "      <th>category</th>\n",
       "    </tr>\n",
       "  </thead>\n",
       "  <tbody>\n",
       "    <tr>\n",
       "      <th>0</th>\n",
       "      <td>The first day of public trading with President...</td>\n",
       "      <td>3 Stocks to Watch on Tuesday: Apple Inc. (AAPL...</td>\n",
       "      <td>Apple Inc</td>\n",
       "    </tr>\n",
       "    <tr>\n",
       "      <th>1</th>\n",
       "      <td>The first day of public trading with President...</td>\n",
       "      <td>3 Stocks to Watch on Tuesday: Apple Inc. (AAPL...</td>\n",
       "      <td>Apple Inc</td>\n",
       "    </tr>\n",
       "    <tr>\n",
       "      <th>2</th>\n",
       "      <td>The smart home market continues to heat up, an...</td>\n",
       "      <td>Alphabet Inc (GOOGL) Steals AI Expert Back Fro...</td>\n",
       "      <td>Apple Inc</td>\n",
       "    </tr>\n",
       "    <tr>\n",
       "      <th>3</th>\n",
       "      <td>Reportedly, Apple Inc.’s AAPL management is sc...</td>\n",
       "      <td>Apple (AAPL) Set to Meet Government Officials ...</td>\n",
       "      <td>Apple Inc</td>\n",
       "    </tr>\n",
       "    <tr>\n",
       "      <th>4</th>\n",
       "      <td>Apple Inc. (AAPL) executives were in India tod...</td>\n",
       "      <td>Apple Close to Signing Deal With Indian Govern...</td>\n",
       "      <td>Apple Inc</td>\n",
       "    </tr>\n",
       "  </tbody>\n",
       "</table>\n",
       "</div>"
      ],
      "text/plain": [
       "                                                body  \\\n",
       "0  The first day of public trading with President...   \n",
       "1  The first day of public trading with President...   \n",
       "2  The smart home market continues to heat up, an...   \n",
       "3  Reportedly, Apple Inc.’s AAPL management is sc...   \n",
       "4  Apple Inc. (AAPL) executives were in India tod...   \n",
       "\n",
       "                                               title   category  \n",
       "0  3 Stocks to Watch on Tuesday: Apple Inc. (AAPL...  Apple Inc  \n",
       "1  3 Stocks to Watch on Tuesday: Apple Inc. (AAPL...  Apple Inc  \n",
       "2  Alphabet Inc (GOOGL) Steals AI Expert Back Fro...  Apple Inc  \n",
       "3  Apple (AAPL) Set to Meet Government Officials ...  Apple Inc  \n",
       "4  Apple Close to Signing Deal With Indian Govern...  Apple Inc  "
      ]
     },
     "execution_count": 8,
     "metadata": {},
     "output_type": "execute_result"
    }
   ],
   "source": [
    "datagnews.raw_articles['Apple Inc 1-30-17'].head()"
   ]
  },
  {
   "cell_type": "markdown",
   "metadata": {},
   "source": [
    "### The CorpusGDELT class"
   ]
  },
  {
   "cell_type": "markdown",
   "metadata": {},
   "source": [
    "Let's initialize the class"
   ]
  },
  {
   "cell_type": "code",
   "execution_count": 3,
   "metadata": {
    "collapsed": false
   },
   "outputs": [],
   "source": [
    "#del datagdelt\n",
    "datagdelt=nlpp.CorpusGDELT(min_ment=500) # min_ment defaults to 1 and cuts off events that have a low number of mentions"
   ]
  },
  {
   "cell_type": "markdown",
   "metadata": {},
   "source": [
    "Let's have a look at the several attributes that the class contains."
   ]
  },
  {
   "cell_type": "code",
   "execution_count": 10,
   "metadata": {
    "collapsed": false
   },
   "outputs": [
    {
     "name": "stdout",
     "output_type": "stream",
     "text": [
      "Minimum number of mentions: 500\n",
      "Current directory: ../data/GDELT_1.0/\n",
      "Dates loaded so far: []\n",
      "Corpus of raw urls []\n",
      "Corpus of tfidf-vectorized docs:\n",
      "Empty DataFrame\n",
      "Columns: []\n",
      "Index: []\n"
     ]
    }
   ],
   "source": [
    "#minimum number of mentions for one event to be used\n",
    "print('Minimum number of mentions:',datagdelt.minimum_ment)\n",
    "print('Current directory:',datagdelt.currentdir) # current directory\n",
    "print('Dates loaded so far:',datagdelt.dates) # dates for which data has been loaded so far\n",
    "print('Corpus of raw urls',datagdelt.url_corpus)\n",
    "print('Corpus of tfidf-vectorized docs:')\n",
    "print(datagdelt.vect_corpus_tfidf)"
   ]
  },
  {
   "cell_type": "code",
   "execution_count": 11,
   "metadata": {
    "collapsed": false
   },
   "outputs": [
    {
     "name": "stdout",
     "output_type": "stream",
     "text": [
      "Vowels: ['a', 'e', 'i', 'o', 'u', 'y']\n",
      "Consonants: ['b', 'c', 'd', 'f', 'g', 'h', 'j', 'k', 'l', 'm', 'n', 'p', 'q', 'r', 's', 't', 'v', 'w', 'x', 'z'] \n",
      "Stemmer: <PorterStemmer>\n",
      "Punctuation: re.compile('[-.?!,\":;()|0-9]')\n",
      "Tokenizer: RegexpTokenizer(pattern='\\\\w+', gaps=False, discard_empty=True, flags=56)\n",
      "Filter for spurious url beginnings: re.compile('idind.|idus.|iduk.')\n",
      "Filter for stop words: {'', 'during', 'which', 've', 'than', 'this', 'yourself', 'few', 'both', 'do', 'then', 'themselves', 'doing', 'how', 'aren', 'off', 'whom', 'own', 'had', 'very', 'why', 'doesn', 'myself', 'hadn', 'by', 'but', 'those', 'mustn', 'shouldn', 'don', 'you', 'my', 'hasn', 'wouldn', 'shan', 'to', 'only', 'that', 'ma', 'again', 'such', 'are', 'any', 'its', 'will', 'has', 'mightn', 'o', 'above', 'theirs', 'below', 'against', 'these', 'he', 'them', 'too', 'and', 'more', 'couldn', 'did', 'down', 'does', 'other', 'there', 'yourselves', 'your', 'd', 'on', 'll', 'just', 'into', 'some', 'didn', 'after', 'him', 'of', 't', 'before', 'with', 'out', 'while', 'here', 'most', 'who', 'y', 'as', 'when', 'his', 'am', 'because', 'the', 'until', 'same', 'through', 'or', 'from', 'further', 'me', 'she', 'should', 'itself', 'herself', 'being', 'i', 'weren', 'been', 'can', 'hers', 'isn', 'it', 'wasn', 'their', 'having', 'ours', 'a', 'all', 'yours', 'needn', 'her', 'have', 'were', 'our', 'ourselves', 'no', 'over', 'ain', 'be', 'so', 'at', 'in', 's', 'about', 'nor', 'himself', 'between', 'for', 're', 'once', 'if', 'haven', 'under', 'm', 'won', 'an', 'now', 'what', 'they', 'not', 'was', 'each', 'we', 'where', 'is', 'up'}\n"
     ]
    }
   ],
   "source": [
    "#vowels and consonants\n",
    "print('Vowels:',datagdelt.vowels)\n",
    "print('Consonants:',datagdelt.consonants,end=' ')\n",
    "print()\n",
    "print('Stemmer:',datagdelt.porter) #stemmer of choice\n",
    "print('Punctuation:',datagdelt.punctuation) #punctuation regular expression\n",
    "print('Tokenizer:',datagdelt.re_tokenizer) \n",
    "print('Filter for spurious url beginnings:',datagdelt.spurious_beginnings)\n",
    "print('Filter for stop words:',datagdelt.stop_words)"
   ]
  },
  {
   "cell_type": "code",
   "execution_count": 12,
   "metadata": {
    "collapsed": false,
    "scrolled": true
   },
   "outputs": [
    {
     "name": "stdout",
     "output_type": "stream",
     "text": [
      "['GLOBALEVENTID', 'SQLDATE', 'MonthYear', 'Year', 'FractionDate', 'Actor1Code', 'Actor1Name', 'Actor1CountryCode', 'Actor1KnownGroupCode', 'Actor1EthnicCode', 'Actor1Religion1Code', 'Actor1Religion2Code', 'Actor1Type1Code', 'Actor1Type2Code', 'Actor1Type3Code', 'Actor2Code', 'Actor2Name', 'Actor2CountryCode', 'Actor2KnownGroupCode', 'Actor2EthnicCode', 'Actor2Religion1Code', 'Actor2Religion2Code', 'Actor2Type1Code', 'Actor2Type2Code', 'Actor2Type3Code', 'IsRootEvent', 'EventCode', 'EventBaseCode', 'EventRootCode', 'QuadClass', 'GoldsteinScale', 'NumMentions', 'NumSources', 'NumArticles', 'AvgTone', 'Actor1Geo_Type', 'Actor1Geo_FullName', 'Actor1Geo_CountryCode', 'Actor1Geo_ADM1Code', 'Actor1Geo_Lat', 'Actor1Geo_Long', 'Actor1Geo_FeatureID', 'Actor2Geo_Type', 'Actor2Geo_FullName', 'Actor2Geo_CountryCode', 'Actor2Geo_ADM1Code', 'Actor2Geo_Lat', 'Actor2Geo_Long', 'Actor2Geo_FeatureID', 'ActionGeo_Type', 'ActionGeo_FullName', 'ActionGeo_CountryCode', 'ActionGeo_ADM1Code', 'ActionGeo_Lat', 'ActionGeo_Long', 'ActionGeo_FeatureID', 'DATEADDED', 'SOURCEURL'] "
     ]
    }
   ],
   "source": [
    "print(datagdelt.header,end=' ') #GDELT csv files header, notice the last field has the urls"
   ]
  },
  {
   "cell_type": "markdown",
   "metadata": {},
   "source": [
    "Now let's see what methods are available and what the pipeline is like.\n",
    "\n",
    "First we load the urls."
   ]
  },
  {
   "cell_type": "code",
   "execution_count": 4,
   "metadata": {
    "collapsed": false,
    "scrolled": true
   },
   "outputs": [
    {
     "name": "stdout",
     "output_type": "stream",
     "text": [
      " Done!"
     ]
    }
   ],
   "source": [
    "datagdelt.load_urls('20161101','20170222') #the earliest available date is April 1st 2013 = 20130401"
   ]
  },
  {
   "cell_type": "markdown",
   "metadata": {},
   "source": [
    "Now let's look at what the url_corpus attribute looks like"
   ]
  },
  {
   "cell_type": "code",
   "execution_count": 5,
   "metadata": {
    "collapsed": false
   },
   "outputs": [
    {
     "name": "stdout",
     "output_type": "stream",
     "text": [
      "There are 114 elements in it, because we loaded 114 days!\n",
      "The loaded day n. 5 had 481 events in it that were mentioned more than 500 times:\n",
      " [[825, 'http://wtvr.com/2016/11/04/shockoe-bottom-bar-under-scrutiny-for-alleged-racist-dress-code/'], [720, 'http://wtnh.com/2016/11/04/crash-report-school-bus-driver-took-seizure-meds-wife-said/'], [945, 'http://www.kristv.com/story/33633549/drunk-wrong-way-driver-gets-prison-time-for-causing-deadly-crash'], [540, 'http://poststar.com/ap/national/questions-on-christie-role-swirl-after-ex-allies-conviction/article_7704f727-41e3-5cb5-aa4d-e94c07c4aba3.html'], [756, 'http://www.kristv.com/story/33635695/final-push-by-presidential-candidates-targets-2-different-americas'], [609, 'http://www.middevonstar.co.uk/news/national/14845374.Charles_and_Camilla_begin_official_tour_of_the_Middle_East/'], [520, 'http://gwdtoday.com/main.asp?SectionID=64&SubSectionID=239&TM=71114.41'], [504, 'https://www.buzzfeed.com/tanyachen/people-are-outraged-after-glamour-brazil-did-slanty-eyes'], [1651, 'http://www.middevonstar.co.uk/news/national/14845374.Charles_and_Camilla_begin_official_tour_of_the_Middle_East/'], [778, 'http://santamariatimes.com/news/national/the-latest-officer-testifies-about-scene-of-police-shooting/article_5052ecb7-c8b6-5c67-9d98-3aeccf4b44d8.html']] \n",
      " etc...\n",
      "The first event was mentioned 825 times, the second 720 times, etc...\n"
     ]
    }
   ],
   "source": [
    "day=5 #select one day\n",
    "print('There are',len(datagdelt.url_corpus),'elements in it, because we loaded',len(datagdelt.dates),'days!')\n",
    "print('The loaded day n.',day,'had',len(datagdelt.url_corpus[day-1]) ,'events in it that were mentioned more than',datagdelt.minimum_ment,'times:\\n', datagdelt.url_corpus[day-1][:10],'\\n etc...')\n",
    "print('The first event was mentioned',datagdelt.url_corpus[day-1][0][0],'times, the second',datagdelt.url_corpus[day-1][1][0],'times, etc...')"
   ]
  },
  {
   "cell_type": "markdown",
   "metadata": {},
   "source": [
    "We see that many of those urls contain wordings that can be very informative on what's happening in the world and therefore might tell us something about the near future of the markets!!"
   ]
  },
  {
   "cell_type": "markdown",
   "metadata": {},
   "source": [
    "Now, let's process these messy raw urls! Let's use word2vec:"
   ]
  },
  {
   "cell_type": "code",
   "execution_count": 5,
   "metadata": {
    "collapsed": false,
    "scrolled": true
   },
   "outputs": [
    {
     "name": "stdout",
     "output_type": "stream",
     "text": [
      "Using word2vec vectorization procedure\n"
     ]
    },
    {
     "name": "stderr",
     "output_type": "stream",
     "text": [
      "2017-02-23 15:55:37,484 : INFO : collecting all words and their counts\n",
      "2017-02-23 15:55:37,554 : INFO : PROGRESS: at sentence #0, processed 0 words, keeping 0 word types\n",
      "2017-02-23 15:55:37,651 : INFO : collected 18286 word types from a corpus of 402413 raw words and 114 sentences\n",
      "2017-02-23 15:55:37,652 : INFO : Loading a fresh vocabulary\n",
      "2017-02-23 15:56:12,556 : INFO : min_count=1 retains 18286 unique words (100% of original 18286, drops 0)\n",
      "2017-02-23 15:56:12,557 : INFO : min_count=1 leaves 402413 word corpus (100% of original 402413, drops 0)\n",
      "2017-02-23 15:56:12,675 : INFO : deleting the raw counts dictionary of 18286 items\n",
      "2017-02-23 15:56:12,677 : INFO : sample=0.001 downsamples 26 most-common words\n",
      "2017-02-23 15:56:12,677 : INFO : downsampling leaves estimated 380477 word corpus (94.5% of prior 402413)\n",
      "2017-02-23 15:56:12,678 : INFO : estimated required memory for 18286 words and 16 dimensions: 11483608 bytes\n",
      "2017-02-23 15:56:12,770 : INFO : resetting layer weights\n",
      "2017-02-23 15:56:13,172 : INFO : training model with 3 workers on 18286 vocabulary and 16 features, using sg=0 hs=0 sample=0.001 negative=5 window=5\n",
      "2017-02-23 15:56:13,173 : INFO : expecting 114 sentences, matching count from corpus used for vocabulary survey\n",
      "2017-02-23 15:56:14,222 : INFO : PROGRESS: at 65.26% examples, 1225549 words/s, in_qsize 5, out_qsize 0\n",
      "2017-02-23 15:56:14,595 : INFO : worker thread finished; awaiting finish of 2 more threads\n",
      "2017-02-23 15:56:14,599 : INFO : worker thread finished; awaiting finish of 1 more threads\n",
      "2017-02-23 15:56:14,603 : INFO : worker thread finished; awaiting finish of 0 more threads\n",
      "2017-02-23 15:56:14,604 : INFO : training on 2012065 raw words (1902722 effective words) took 1.4s, 1368097 effective words/s\n"
     ]
    }
   ],
   "source": [
    "datagdelt.gdelt_preprocess(vectrz='word2vec',size_w2v=16)"
   ]
  },
  {
   "cell_type": "markdown",
   "metadata": {},
   "source": [
    "which gives"
   ]
  },
  {
   "cell_type": "code",
   "execution_count": 7,
   "metadata": {
    "collapsed": false
   },
   "outputs": [
    {
     "data": {
      "text/html": [
       "<div>\n",
       "<table border=\"1\" class=\"dataframe\">\n",
       "  <thead>\n",
       "    <tr style=\"text-align: right;\">\n",
       "      <th></th>\n",
       "      <th>w2v_1</th>\n",
       "      <th>w2v_10</th>\n",
       "      <th>w2v_11</th>\n",
       "      <th>w2v_12</th>\n",
       "      <th>w2v_13</th>\n",
       "      <th>w2v_14</th>\n",
       "      <th>w2v_15</th>\n",
       "      <th>w2v_16</th>\n",
       "      <th>w2v_2</th>\n",
       "      <th>w2v_3</th>\n",
       "      <th>w2v_4</th>\n",
       "      <th>w2v_5</th>\n",
       "      <th>w2v_6</th>\n",
       "      <th>w2v_7</th>\n",
       "      <th>w2v_8</th>\n",
       "      <th>w2v_9</th>\n",
       "    </tr>\n",
       "    <tr>\n",
       "      <th>news_date</th>\n",
       "      <th></th>\n",
       "      <th></th>\n",
       "      <th></th>\n",
       "      <th></th>\n",
       "      <th></th>\n",
       "      <th></th>\n",
       "      <th></th>\n",
       "      <th></th>\n",
       "      <th></th>\n",
       "      <th></th>\n",
       "      <th></th>\n",
       "      <th></th>\n",
       "      <th></th>\n",
       "      <th></th>\n",
       "      <th></th>\n",
       "      <th></th>\n",
       "    </tr>\n",
       "  </thead>\n",
       "  <tbody>\n",
       "    <tr>\n",
       "      <th>20161101</th>\n",
       "      <td>0.165087</td>\n",
       "      <td>0.468019</td>\n",
       "      <td>-0.010375</td>\n",
       "      <td>-0.176782</td>\n",
       "      <td>-0.166323</td>\n",
       "      <td>0.359283</td>\n",
       "      <td>-0.344207</td>\n",
       "      <td>-0.183213</td>\n",
       "      <td>0.009851</td>\n",
       "      <td>0.291588</td>\n",
       "      <td>-0.046167</td>\n",
       "      <td>-0.074839</td>\n",
       "      <td>-0.504264</td>\n",
       "      <td>0.169356</td>\n",
       "      <td>0.130914</td>\n",
       "      <td>0.143513</td>\n",
       "    </tr>\n",
       "    <tr>\n",
       "      <th>20161102</th>\n",
       "      <td>0.102542</td>\n",
       "      <td>0.442412</td>\n",
       "      <td>-0.099021</td>\n",
       "      <td>-0.182619</td>\n",
       "      <td>-0.141894</td>\n",
       "      <td>0.341978</td>\n",
       "      <td>-0.385311</td>\n",
       "      <td>-0.234497</td>\n",
       "      <td>0.016997</td>\n",
       "      <td>0.293796</td>\n",
       "      <td>-0.056177</td>\n",
       "      <td>-0.029937</td>\n",
       "      <td>-0.515226</td>\n",
       "      <td>0.178492</td>\n",
       "      <td>0.090224</td>\n",
       "      <td>0.118111</td>\n",
       "    </tr>\n",
       "    <tr>\n",
       "      <th>20161103</th>\n",
       "      <td>0.135619</td>\n",
       "      <td>0.452530</td>\n",
       "      <td>-0.066780</td>\n",
       "      <td>-0.158268</td>\n",
       "      <td>-0.164568</td>\n",
       "      <td>0.326634</td>\n",
       "      <td>-0.360228</td>\n",
       "      <td>-0.215594</td>\n",
       "      <td>0.016726</td>\n",
       "      <td>0.292170</td>\n",
       "      <td>-0.046462</td>\n",
       "      <td>-0.057232</td>\n",
       "      <td>-0.519043</td>\n",
       "      <td>0.204743</td>\n",
       "      <td>0.124830</td>\n",
       "      <td>0.138971</td>\n",
       "    </tr>\n",
       "    <tr>\n",
       "      <th>20161104</th>\n",
       "      <td>0.109827</td>\n",
       "      <td>0.449690</td>\n",
       "      <td>-0.060406</td>\n",
       "      <td>-0.184516</td>\n",
       "      <td>-0.143363</td>\n",
       "      <td>0.341008</td>\n",
       "      <td>-0.369758</td>\n",
       "      <td>-0.205175</td>\n",
       "      <td>0.007495</td>\n",
       "      <td>0.313282</td>\n",
       "      <td>-0.055131</td>\n",
       "      <td>-0.029349</td>\n",
       "      <td>-0.520874</td>\n",
       "      <td>0.189917</td>\n",
       "      <td>0.095501</td>\n",
       "      <td>0.117317</td>\n",
       "    </tr>\n",
       "    <tr>\n",
       "      <th>20161105</th>\n",
       "      <td>0.143273</td>\n",
       "      <td>0.477831</td>\n",
       "      <td>-0.044463</td>\n",
       "      <td>-0.177028</td>\n",
       "      <td>-0.171535</td>\n",
       "      <td>0.328301</td>\n",
       "      <td>-0.338856</td>\n",
       "      <td>-0.190211</td>\n",
       "      <td>-0.026833</td>\n",
       "      <td>0.311630</td>\n",
       "      <td>-0.058200</td>\n",
       "      <td>-0.047064</td>\n",
       "      <td>-0.500675</td>\n",
       "      <td>0.204456</td>\n",
       "      <td>0.140284</td>\n",
       "      <td>0.118461</td>\n",
       "    </tr>\n",
       "    <tr>\n",
       "      <th>20161106</th>\n",
       "      <td>0.105819</td>\n",
       "      <td>0.416706</td>\n",
       "      <td>-0.092857</td>\n",
       "      <td>-0.164963</td>\n",
       "      <td>-0.165827</td>\n",
       "      <td>0.316391</td>\n",
       "      <td>-0.358254</td>\n",
       "      <td>-0.204483</td>\n",
       "      <td>0.012215</td>\n",
       "      <td>0.328438</td>\n",
       "      <td>-0.020067</td>\n",
       "      <td>-0.032634</td>\n",
       "      <td>-0.542135</td>\n",
       "      <td>0.231038</td>\n",
       "      <td>0.100778</td>\n",
       "      <td>0.120946</td>\n",
       "    </tr>\n",
       "    <tr>\n",
       "      <th>20161107</th>\n",
       "      <td>0.148476</td>\n",
       "      <td>0.490989</td>\n",
       "      <td>-0.045819</td>\n",
       "      <td>-0.173995</td>\n",
       "      <td>-0.185121</td>\n",
       "      <td>0.326168</td>\n",
       "      <td>-0.326672</td>\n",
       "      <td>-0.186845</td>\n",
       "      <td>-0.000539</td>\n",
       "      <td>0.310929</td>\n",
       "      <td>-0.077235</td>\n",
       "      <td>-0.011078</td>\n",
       "      <td>-0.496442</td>\n",
       "      <td>0.195048</td>\n",
       "      <td>0.157476</td>\n",
       "      <td>0.100835</td>\n",
       "    </tr>\n",
       "    <tr>\n",
       "      <th>20161108</th>\n",
       "      <td>0.179701</td>\n",
       "      <td>0.507083</td>\n",
       "      <td>0.000172</td>\n",
       "      <td>-0.172458</td>\n",
       "      <td>-0.188758</td>\n",
       "      <td>0.338139</td>\n",
       "      <td>-0.317917</td>\n",
       "      <td>-0.156479</td>\n",
       "      <td>-0.013063</td>\n",
       "      <td>0.289262</td>\n",
       "      <td>-0.070929</td>\n",
       "      <td>-0.038262</td>\n",
       "      <td>-0.493247</td>\n",
       "      <td>0.170664</td>\n",
       "      <td>0.168409</td>\n",
       "      <td>0.119121</td>\n",
       "    </tr>\n",
       "    <tr>\n",
       "      <th>20161109</th>\n",
       "      <td>0.282015</td>\n",
       "      <td>0.510554</td>\n",
       "      <td>0.028032</td>\n",
       "      <td>-0.115850</td>\n",
       "      <td>-0.262162</td>\n",
       "      <td>0.300052</td>\n",
       "      <td>-0.260741</td>\n",
       "      <td>-0.091417</td>\n",
       "      <td>-0.020058</td>\n",
       "      <td>0.218182</td>\n",
       "      <td>-0.052073</td>\n",
       "      <td>-0.089851</td>\n",
       "      <td>-0.449390</td>\n",
       "      <td>0.201576</td>\n",
       "      <td>0.279772</td>\n",
       "      <td>0.175627</td>\n",
       "    </tr>\n",
       "    <tr>\n",
       "      <th>20161110</th>\n",
       "      <td>0.257072</td>\n",
       "      <td>0.484531</td>\n",
       "      <td>0.015611</td>\n",
       "      <td>-0.157838</td>\n",
       "      <td>-0.235902</td>\n",
       "      <td>0.334076</td>\n",
       "      <td>-0.302346</td>\n",
       "      <td>-0.149850</td>\n",
       "      <td>-0.028389</td>\n",
       "      <td>0.244481</td>\n",
       "      <td>-0.039484</td>\n",
       "      <td>-0.106270</td>\n",
       "      <td>-0.456861</td>\n",
       "      <td>0.183023</td>\n",
       "      <td>0.214147</td>\n",
       "      <td>0.177076</td>\n",
       "    </tr>\n",
       "  </tbody>\n",
       "</table>\n",
       "</div>"
      ],
      "text/plain": [
       "              w2v_1    w2v_10    w2v_11    w2v_12    w2v_13    w2v_14  \\\n",
       "news_date                                                               \n",
       "20161101   0.165087  0.468019 -0.010375 -0.176782 -0.166323  0.359283   \n",
       "20161102   0.102542  0.442412 -0.099021 -0.182619 -0.141894  0.341978   \n",
       "20161103   0.135619  0.452530 -0.066780 -0.158268 -0.164568  0.326634   \n",
       "20161104   0.109827  0.449690 -0.060406 -0.184516 -0.143363  0.341008   \n",
       "20161105   0.143273  0.477831 -0.044463 -0.177028 -0.171535  0.328301   \n",
       "20161106   0.105819  0.416706 -0.092857 -0.164963 -0.165827  0.316391   \n",
       "20161107   0.148476  0.490989 -0.045819 -0.173995 -0.185121  0.326168   \n",
       "20161108   0.179701  0.507083  0.000172 -0.172458 -0.188758  0.338139   \n",
       "20161109   0.282015  0.510554  0.028032 -0.115850 -0.262162  0.300052   \n",
       "20161110   0.257072  0.484531  0.015611 -0.157838 -0.235902  0.334076   \n",
       "\n",
       "             w2v_15    w2v_16     w2v_2     w2v_3     w2v_4     w2v_5  \\\n",
       "news_date                                                               \n",
       "20161101  -0.344207 -0.183213  0.009851  0.291588 -0.046167 -0.074839   \n",
       "20161102  -0.385311 -0.234497  0.016997  0.293796 -0.056177 -0.029937   \n",
       "20161103  -0.360228 -0.215594  0.016726  0.292170 -0.046462 -0.057232   \n",
       "20161104  -0.369758 -0.205175  0.007495  0.313282 -0.055131 -0.029349   \n",
       "20161105  -0.338856 -0.190211 -0.026833  0.311630 -0.058200 -0.047064   \n",
       "20161106  -0.358254 -0.204483  0.012215  0.328438 -0.020067 -0.032634   \n",
       "20161107  -0.326672 -0.186845 -0.000539  0.310929 -0.077235 -0.011078   \n",
       "20161108  -0.317917 -0.156479 -0.013063  0.289262 -0.070929 -0.038262   \n",
       "20161109  -0.260741 -0.091417 -0.020058  0.218182 -0.052073 -0.089851   \n",
       "20161110  -0.302346 -0.149850 -0.028389  0.244481 -0.039484 -0.106270   \n",
       "\n",
       "              w2v_6     w2v_7     w2v_8     w2v_9  \n",
       "news_date                                          \n",
       "20161101  -0.504264  0.169356  0.130914  0.143513  \n",
       "20161102  -0.515226  0.178492  0.090224  0.118111  \n",
       "20161103  -0.519043  0.204743  0.124830  0.138971  \n",
       "20161104  -0.520874  0.189917  0.095501  0.117317  \n",
       "20161105  -0.500675  0.204456  0.140284  0.118461  \n",
       "20161106  -0.542135  0.231038  0.100778  0.120946  \n",
       "20161107  -0.496442  0.195048  0.157476  0.100835  \n",
       "20161108  -0.493247  0.170664  0.168409  0.119121  \n",
       "20161109  -0.449390  0.201576  0.279772  0.175627  \n",
       "20161110  -0.456861  0.183023  0.214147  0.177076  "
      ]
     },
     "execution_count": 7,
     "metadata": {},
     "output_type": "execute_result"
    }
   ],
   "source": [
    "datagdelt.word2vec_corpus.head(10)"
   ]
  },
  {
   "cell_type": "markdown",
   "metadata": {},
   "source": [
    "BOOM! Now we have all of our datapoints with their nlp features neatly arranged in a pandas dataframe, ready for processing. Mission accomplished!"
   ]
  },
  {
   "cell_type": "markdown",
   "metadata": {},
   "source": [
    "If we try to run this expensive preprocessing again on the same exact data..."
   ]
  },
  {
   "cell_type": "code",
   "execution_count": 8,
   "metadata": {
    "collapsed": false
   },
   "outputs": [
    {
     "name": "stdout",
     "output_type": "stream",
     "text": [
      "Using word2vec vectorization procedure\n",
      "Nothing to be done, dataframes are up to date\n"
     ]
    }
   ],
   "source": [
    "datagdelt.gdelt_preprocess(vectrz='word2vec',size_w2v=16)"
   ]
  },
  {
   "cell_type": "markdown",
   "metadata": {},
   "source": [
    "Yay for savings!"
   ]
  },
  {
   "cell_type": "markdown",
   "metadata": {},
   "source": [
    "If you would like to see the time-series evolution of these features, here you go:"
   ]
  },
  {
   "cell_type": "code",
   "execution_count": 18,
   "metadata": {
    "collapsed": false
   },
   "outputs": [
    {
     "data": {
      "text/plain": [
       "<matplotlib.axes._subplots.AxesSubplot at 0x1e7bf4160>"
      ]
     },
     "execution_count": 18,
     "metadata": {},
     "output_type": "execute_result"
    },
    {
     "data": {
      "image/png": "[encoded data removed]",
      "text/plain": [
       "<matplotlib.figure.Figure at 0x1e7bf0a20>"
      ]
     },
     "metadata": {},
     "output_type": "display_data"
    }
   ],
   "source": [
    "import pandas as pd\n",
    "%matplotlib inline\n",
    "#datagdelt.word2vec_corpus.plot()\n",
    "datagdelt.word2vec_corpus.rolling(window=5,center=False).mean().plot(legend=False)"
   ]
  },
  {
   "cell_type": "markdown",
   "metadata": {},
   "source": [
    "Now we initialize the model training class, feeding it the dataframe from the nlp processing"
   ]
  },
  {
   "cell_type": "markdown",
   "metadata": {
    "collapsed": false
   },
   "source": [
    "## The model training module\n",
    "This section covers model training, validation, and testing, from our model_training module"
   ]
  },
  {
   "cell_type": "markdown",
   "metadata": {},
   "source": [
    "We initialize a class instance by loading into it two lists: one of names of your choosing and one of dataframes, which in this case is the output form the previous module above, datagdelt.vect_corpus_tfidf."
   ]
  },
  {
   "cell_type": "code",
   "execution_count": 6,
   "metadata": {
    "collapsed": false
   },
   "outputs": [],
   "source": [
    "import model_training as mdlt\n",
    "importlib.reload(mdlt)\n",
    "tet=mdlt.StockPrediction([['word2vec'],[datagdelt.word2vec_corpus],[datagdelt.w2vec_model]],update=True)"
   ]
  },
  {
   "cell_type": "markdown",
   "metadata": {},
   "source": [
    "And now, for the real deal: training and validation!\n",
    "The following two methods perform that in a very general manner. You are free to decide what regression/classification model to choose, as well as the values of the hyperparameters (please see the module documentation in model_training.py for details on how to pass the hyperparameters). In short, automated tuning will consist of choosing the values for the hyperparameters that minimize the average root mean squared on the validation datasets)"
   ]
  },
  {
   "cell_type": "markdown",
   "metadata": {},
   "source": [
    "Let's try an L1 linear regressor which is trying to predict the increase/decrease of tomorrow's S&P index over today's. We test on the last 20 days and validate/tune, for each test case, over the previous 20 more days, training over yet 30 earlier dates. As for the hyperparameters, we are letting our regularization parameter be searched for in the 0.001-7000 range and we allow for 50 iterations of the optimal parameter search."
   ]
  },
  {
   "cell_type": "code",
   "execution_count": 7,
   "metadata": {
    "collapsed": false
   },
   "outputs": [
    {
     "name": "stderr",
     "output_type": "stream",
     "text": [
      "//anaconda/envs/py3k/lib/python3.5/site-packages/sklearn/linear_model/coordinate_descent.py:484: ConvergenceWarning: Objective did not converge. You might want to increase the number of iterations. Fitting data with very small alpha may cause precision problems.\n",
      "  ConvergenceWarning)\n"
     ]
    },
    {
     "name": "stdout",
     "output_type": "stream",
     "text": [
      "best parameter choices: (26.43679869829576,)\n",
      "model_test_rmse: 18.885 benchmark_test_rmse: 15.294\n",
      "best parameter choices: (2.928670189300411,)\n",
      "model_test_rmse: 1.430 benchmark_test_rmse: 4.965\n",
      "best parameter choices: (0.9664510467126172,)\n",
      "model_test_rmse: 1.786 benchmark_test_rmse: 5.179\n",
      "best parameter choices: (0.43209981481481485,)\n",
      "model_test_rmse: 14.341 benchmark_test_rmse: 16.891\n",
      "best parameter choices: (1.3131004705761313,)\n",
      "model_test_rmse: 1.973 benchmark_test_rmse: 4.849\n",
      "best parameter choices: (1.3131004705761313,)\n",
      "model_test_rmse: 0.692 benchmark_test_rmse: 2.060\n",
      "best parameter choices: (1.3131004705761313,)\n",
      "model_test_rmse: 1.328 benchmark_test_rmse: 1.407\n",
      "best parameter choices: (0.38888903333333336,)\n",
      "model_test_rmse: 16.611 benchmark_test_rmse: 13.885\n",
      "best parameter choices: (0.38888903333333336,)\n",
      "model_test_rmse: 4.512 benchmark_test_rmse: 7.761\n",
      "best parameter choices: (0.38888903333333336,)\n",
      "model_test_rmse: 0.800 benchmark_test_rmse: 2.262\n",
      "best parameter choices: (0.43209981481481485,)\n",
      "model_test_rmse: 1.870 benchmark_test_rmse: 1.158\n",
      "best parameter choices: (0.43209981481481485,)\n",
      "model_test_rmse: 13.496 benchmark_test_rmse: 10.470\n",
      "best parameter choices: (0.43209981481481485,)\n",
      "model_test_rmse: 8.671 benchmark_test_rmse: 5.345\n",
      "best parameter choices: (0.3254081938728852,)\n",
      "model_test_rmse: 12.584 benchmark_test_rmse: 9.188\n",
      "best parameter choices: (1.1720028310470965,)\n",
      "model_test_rmse: 9.685 benchmark_test_rmse: 6.237\n",
      "best parameter choices: (0.3254081938728852,)\n",
      "model_test_rmse: 11.815 benchmark_test_rmse: 8.489\n",
      "best parameter choices: (0.3254081938728852,)\n",
      "model_test_rmse: 2.216 benchmark_test_rmse: 5.329\n",
      "best parameter choices: (0.3254081938728852,)\n",
      "model_test_rmse: 3.833 benchmark_test_rmse: 0.714\n",
      "best parameter choices: (2.582993893004115,)\n",
      "model_test_rmse: 14.074 benchmark_test_rmse: 10.984\n",
      "best parameter choices: (1.541688228166438,)\n",
      "model_test_rmse: 3.219 benchmark_test_rmse: 5.942\n"
     ]
    },
    {
     "data": {
      "text/plain": [
       "[(7.1910088895790976, 5.9874440495127965),\n",
       " (6.9204902668871906, 4.5852421643687409)]"
      ]
     },
     "execution_count": 7,
     "metadata": {},
     "output_type": "execute_result"
    }
   ],
   "source": [
    "tet.auto_ts_val_test_reg('word2vec','lasso',[['alpha',[0.001,7000.,60.]]],parm_search_iter=50,n_folds_val=20,\n",
    "                         past_depth=30,n_folds_test=20,scaling=False,differential=False,notest=False,verbose=False,\n",
    "                         eqdiff=False)"
   ]
  },
  {
   "cell_type": "markdown",
   "metadata": {},
   "source": [
    "Well, doing worse than benchmark... The model coefficients are:"
   ]
  },
  {
   "cell_type": "code",
   "execution_count": 8,
   "metadata": {
    "collapsed": false
   },
   "outputs": [
    {
     "data": {
      "text/plain": [
       "array([ 0.        , -0.        , -0.        ,  0.        , -0.        ,\n",
       "       -0.        ,  0.        , -0.        , -0.        ,  0.        ,\n",
       "       -0.        , -0.        ,  0.        , -0.        , -0.        ,\n",
       "       -0.        ,  0.        ,  0.97775417])"
      ]
     },
     "execution_count": 8,
     "metadata": {},
     "output_type": "execute_result"
    }
   ],
   "source": [
    "feat_imp=tet.models['word2vec'].coef_\n",
    "feat_imp\n",
    "#these are the feature importances for the lasso classifier"
   ]
  },
  {
   "cell_type": "markdown",
   "metadata": {},
   "source": [
    "...which isn't surprising. As we said at the beginning, the most important feature should have been today's closing, and it was, entirely offuscating everything else. Also, remember that the features aren't scaled so the large coefficients of two of the word2vec features are of little significance."
   ]
  },
  {
   "cell_type": "markdown",
   "metadata": {},
   "source": [
    "If one had gotten a reasonable result, they might want to play with feature importances to try and see which stems actually were the most significant. It can be done as follows"
   ]
  },
  {
   "cell_type": "code",
   "execution_count": 13,
   "metadata": {
    "collapsed": false
   },
   "outputs": [
    {
     "name": "stderr",
     "output_type": "stream",
     "text": [
      "2017-02-23 09:57:57,285 : INFO : precomputing L2-norms of word weight vectors\n"
     ]
    },
    {
     "data": {
      "text/plain": [
       "[('groveland', 0.0),\n",
       " ('smokn', 0.0),\n",
       " ('hayborough', 0.0),\n",
       " ('werk', 0.0),\n",
       " ('silverwat', 0.0),\n",
       " ('sutter', 0.0),\n",
       " ('strychnin', 0.0),\n",
       " ('blythevil', 0.0),\n",
       " ('lesion', 0.0),\n",
       " ('firstev', 0.0)]"
      ]
     },
     "execution_count": 13,
     "metadata": {},
     "output_type": "execute_result"
    }
   ],
   "source": [
    "model=tet.w2v_models['word2vec']\n",
    "model.wv.similar_by_vector(feat_imp[:-2])"
   ]
  },
  {
   "cell_type": "markdown",
   "metadata": {},
   "source": [
    "which is supposed to show the words that are most positively correlated with the S&P500 index"
   ]
  },
  {
   "cell_type": "code",
   "execution_count": 9,
   "metadata": {
    "collapsed": false
   },
   "outputs": [
    {
     "name": "stdout",
     "output_type": "stream",
     "text": [
      "best parameter choices: (1784997550.0,)\n",
      "model_test_rmse: 15.294 benchmark_test_rmse: 15.294\n",
      "best parameter choices: (1784997550.0,)\n",
      "model_test_rmse: 4.965 benchmark_test_rmse: 4.965\n",
      "best parameter choices: (1784997550.0,)\n",
      "model_test_rmse: 5.179 benchmark_test_rmse: 5.179\n",
      "best parameter choices: (1784997550.0,)\n",
      "model_test_rmse: 16.891 benchmark_test_rmse: 16.891\n",
      "best parameter choices: (1784997550.0,)\n",
      "model_test_rmse: 4.849 benchmark_test_rmse: 4.849\n",
      "best parameter choices: (1784997550.0,)\n",
      "model_test_rmse: 2.060 benchmark_test_rmse: 2.060\n",
      "best parameter choices: (1784997550.0,)\n",
      "model_test_rmse: 1.407 benchmark_test_rmse: 1.407\n",
      "best parameter choices: (1784997550.0,)\n",
      "model_test_rmse: 13.885 benchmark_test_rmse: 13.885\n",
      "best parameter choices: (1784997550.0,)\n",
      "model_test_rmse: 7.761 benchmark_test_rmse: 7.761\n",
      "best parameter choices: (1784997550.0,)\n",
      "model_test_rmse: 2.262 benchmark_test_rmse: 2.262\n",
      "best parameter choices: (1784997550.0,)\n",
      "model_test_rmse: 1.158 benchmark_test_rmse: 1.158\n",
      "best parameter choices: (1784997550.0,)\n",
      "model_test_rmse: 10.470 benchmark_test_rmse: 10.470\n",
      "best parameter choices: (1784997550.0,)\n",
      "model_test_rmse: 5.345 benchmark_test_rmse: 5.345\n",
      "best parameter choices: (1784997550.0,)\n",
      "model_test_rmse: 9.188 benchmark_test_rmse: 9.188\n",
      "best parameter choices: (1784997550.0,)\n",
      "model_test_rmse: 6.237 benchmark_test_rmse: 6.237\n",
      "best parameter choices: (1784997550.0,)\n",
      "model_test_rmse: 8.489 benchmark_test_rmse: 8.489\n",
      "best parameter choices: (1784997550.0,)\n",
      "model_test_rmse: 5.329 benchmark_test_rmse: 5.329\n",
      "best parameter choices: (1784997550.0,)\n",
      "model_test_rmse: 0.714 benchmark_test_rmse: 0.714\n",
      "best parameter choices: (1784997550.0,)\n",
      "model_test_rmse: 10.984 benchmark_test_rmse: 10.984\n",
      "best parameter choices: (1784997550.0,)\n",
      "model_test_rmse: 5.942 benchmark_test_rmse: 5.942\n"
     ]
    },
    {
     "data": {
      "text/plain": [
       "[(6.9204901155136209, 4.5852424301990213),\n",
       " (6.9204902668871906, 4.5852421643687409)]"
      ]
     },
     "execution_count": 9,
     "metadata": {},
     "output_type": "execute_result"
    }
   ],
   "source": [
    "tet.auto_ts_val_test_reg('word2vec','ridge',[['alpha',[100.,70000000.,600.]]],parm_search_iter=50,n_folds_val=20,\n",
    "                         past_depth=30,n_folds_test=20,scaling=True,differential=True,notest=False,verbose=False,\n",
    "                         eqdiff=False)"
   ]
  },
  {
   "cell_type": "markdown",
   "metadata": {},
   "source": [
    "which basically falls back on the benchmark, due to heavy L2 regularization"
   ]
  },
  {
   "cell_type": "markdown",
   "metadata": {},
   "source": [
    "How about we try a random forest regressor instead? We are letting our tuning select any combination among 1 value for the number of estimators, 6 for the maximum number of features used for splitting, and we allow a maximum depth from 4 to 7."
   ]
  },
  {
   "cell_type": "code",
   "execution_count": 53,
   "metadata": {
    "collapsed": false
   },
   "outputs": [
    {
     "name": "stdout",
     "output_type": "stream",
     "text": [
      "best parameter choices: (20, 17, 6)\n",
      "model_test_rmse: 18.420 benchmark_test_rmse: 12.080\n",
      "best parameter choices: (20, 16, 6)\n",
      "model_test_rmse: 23.476 benchmark_test_rmse: 15.294\n",
      "best parameter choices: (20, 9, 4)\n",
      "model_test_rmse: 4.733 benchmark_test_rmse: 4.965\n",
      "best parameter choices: (20, 15, 5)\n",
      "model_test_rmse: 4.237 benchmark_test_rmse: 5.179\n",
      "best parameter choices: (20, 18, 7)\n",
      "model_test_rmse: 8.183 benchmark_test_rmse: 16.891\n",
      "best parameter choices: (20, 9, 7)\n",
      "model_test_rmse: 1.483 benchmark_test_rmse: 4.849\n",
      "best parameter choices: (20, 10, 6)\n",
      "model_test_rmse: 5.363 benchmark_test_rmse: 2.060\n",
      "best parameter choices: (20, 9, 7)\n",
      "model_test_rmse: 7.205 benchmark_test_rmse: 1.407\n",
      "best parameter choices: (20, 15, 5)\n",
      "model_test_rmse: 17.773 benchmark_test_rmse: 13.885\n",
      "best parameter choices: (20, 18, 7)\n",
      "model_test_rmse: 2.921 benchmark_test_rmse: 7.761\n",
      "best parameter choices: (20, 17, 6)\n",
      "model_test_rmse: 3.904 benchmark_test_rmse: 2.262\n",
      "best parameter choices: (20, 18, 5)\n",
      "model_test_rmse: 0.440 benchmark_test_rmse: 1.158\n",
      "best parameter choices: (20, 9, 7)\n",
      "model_test_rmse: 11.181 benchmark_test_rmse: 10.470\n",
      "best parameter choices: (20, 16, 6)\n",
      "model_test_rmse: 3.943 benchmark_test_rmse: 5.345\n",
      "best parameter choices: (20, 10, 7)\n",
      "model_test_rmse: 13.269 benchmark_test_rmse: 9.188\n",
      "best parameter choices: (20, 9, 5)\n",
      "model_test_rmse: 3.270 benchmark_test_rmse: 6.237\n",
      "best parameter choices: (20, 15, 4)\n",
      "model_test_rmse: 13.050 benchmark_test_rmse: 8.489\n",
      "best parameter choices: (20, 10, 7)\n",
      "model_test_rmse: 7.127 benchmark_test_rmse: 5.329\n",
      "best parameter choices: (20, 16, 7)\n",
      "model_test_rmse: 0.734 benchmark_test_rmse: 0.714\n",
      "best parameter choices: (20, 18, 4)\n",
      "model_test_rmse: 10.803 benchmark_test_rmse: 10.984\n"
     ]
    },
    {
     "data": {
      "text/plain": [
       "[(8.0757377158441379, 6.2519882354033287),\n",
       " (7.2273715043417273, 4.7130879952476494)]"
      ]
     },
     "execution_count": 53,
     "metadata": {},
     "output_type": "execute_result"
    }
   ],
   "source": [
    "tet.auto_ts_val_test_reg('word2vec','rfreg',[['n_estim',{20,}],['max_feat',{9,10,15,16,17,18}],['max_depth',{4,5,6,7}]],\n",
    "                         parm_search_iter=1,n_folds_val=20,past_depth=30,n_folds_test=20,scaling=True,differential=True,\n",
    "                         verbose=False,notest=False,eqdiff=False)"
   ]
  },
  {
   "cell_type": "code",
   "execution_count": 54,
   "metadata": {
    "collapsed": false
   },
   "outputs": [
    {
     "data": {
      "text/plain": [
       "array([ 0.03137145,  0.05368506,  0.03035894,  0.39608781,  0.00229447,\n",
       "        0.04623422,  0.01598908,  0.03340178,  0.02829764,  0.06379287,\n",
       "        0.01956722,  0.0217689 ,  0.03534378,  0.08044819,  0.05350895,\n",
       "        0.01836402,  0.00138395,  0.06810169])"
      ]
     },
     "execution_count": 54,
     "metadata": {},
     "output_type": "execute_result"
    }
   ],
   "source": [
    "feat_imp=tet.models['word2vec'].feature_importances_\n",
    "feat_imp\n",
    "#these are the feature importances for a random forest classifier"
   ]
  },
  {
   "cell_type": "markdown",
   "metadata": {},
   "source": [
    "Ok... How about good old knn??"
   ]
  },
  {
   "cell_type": "code",
   "execution_count": 13,
   "metadata": {
    "collapsed": false
   },
   "outputs": [
    {
     "name": "stdout",
     "output_type": "stream",
     "text": [
      "best parameter choices: (13,)\n",
      "model_test_rmse: 17.562 benchmark_test_rmse: 15.294\n",
      "best parameter choices: (13,)\n",
      "model_test_rmse: 6.912 benchmark_test_rmse: 4.965\n",
      "best parameter choices: (13,)\n",
      "model_test_rmse: 4.015 benchmark_test_rmse: 5.179\n",
      "best parameter choices: (13,)\n",
      "model_test_rmse: 15.276 benchmark_test_rmse: 16.891\n",
      "best parameter choices: (12,)\n",
      "model_test_rmse: 4.105 benchmark_test_rmse: 4.849\n",
      "best parameter choices: (12,)\n",
      "model_test_rmse: 0.640 benchmark_test_rmse: 2.060\n",
      "best parameter choices: (12,)\n",
      "model_test_rmse: 1.226 benchmark_test_rmse: 1.407\n",
      "best parameter choices: (12,)\n",
      "model_test_rmse: 13.846 benchmark_test_rmse: 13.885\n",
      "best parameter choices: (12,)\n",
      "model_test_rmse: 5.096 benchmark_test_rmse: 7.761\n",
      "best parameter choices: (12,)\n",
      "model_test_rmse: 0.953 benchmark_test_rmse: 2.262\n",
      "best parameter choices: (11,)\n",
      "model_test_rmse: 1.954 benchmark_test_rmse: 1.158\n",
      "best parameter choices: (7,)\n",
      "model_test_rmse: 8.830 benchmark_test_rmse: 10.470\n",
      "best parameter choices: (7,)\n",
      "model_test_rmse: 3.721 benchmark_test_rmse: 5.345\n",
      "best parameter choices: (7,)\n",
      "model_test_rmse: 6.713 benchmark_test_rmse: 9.188\n",
      "best parameter choices: (7,)\n",
      "model_test_rmse: 3.066 benchmark_test_rmse: 6.237\n",
      "best parameter choices: (7,)\n",
      "model_test_rmse: 6.390 benchmark_test_rmse: 8.489\n",
      "best parameter choices: (5,)\n",
      "model_test_rmse: 4.826 benchmark_test_rmse: 5.329\n",
      "best parameter choices: (7,)\n",
      "model_test_rmse: 4.896 benchmark_test_rmse: 0.714\n",
      "best parameter choices: (7,)\n",
      "model_test_rmse: 8.547 benchmark_test_rmse: 10.984\n",
      "best parameter choices: (12,)\n",
      "model_test_rmse: 6.036 benchmark_test_rmse: 5.942\n"
     ]
    },
    {
     "data": {
      "text/plain": [
       "[(6.2304819331643326, 4.5515196868812735),\n",
       " (6.9204902668871906, 4.5852421643687409)]"
      ]
     },
     "execution_count": 13,
     "metadata": {},
     "output_type": "execute_result"
    }
   ],
   "source": [
    "tet.auto_ts_val_test_reg('word2vec','knnreg',[['numb_nn',{2,3,4,5,6,7,8,9,10,11,12,13}]],parm_search_iter=1,n_folds_val=20,\n",
    "                         n_folds_test=20,past_depth=30,scaling=True,differential=True,notest=False,verbose=False,\n",
    "                         eqdiff=False)"
   ]
  },
  {
   "cell_type": "markdown",
   "metadata": {},
   "source": [
    "Surprisingly not bad!"
   ]
  },
  {
   "cell_type": "markdown",
   "metadata": {},
   "source": [
    "Now, if we want to get a prediction for today, we toggle the 'notest' attribute to True"
   ]
  },
  {
   "cell_type": "code",
   "execution_count": 14,
   "metadata": {
    "collapsed": false
   },
   "outputs": [
    {
     "data": {
      "text/plain": [
       "array([ 2371.69004586])"
      ]
     },
     "execution_count": 14,
     "metadata": {},
     "output_type": "execute_result"
    }
   ],
   "source": [
    "tet.auto_ts_val_test_reg('word2vec','knnreg',[['numb_nn',{2,3,4,5,6,7,8,9,10,11,12,13}]],parm_search_iter=1,n_folds_val=20,\n",
    "                         n_folds_test=20,past_depth=30,scaling=True,differential=True,notest=True,verbose=False,\n",
    "                         eqdiff=False)"
   ]
  },
  {
   "cell_type": "markdown",
   "metadata": {},
   "source": [
    "Cool! En passant, here's the S&P500 behavior over the last 70+ days"
   ]
  },
  {
   "cell_type": "code",
   "execution_count": 43,
   "metadata": {
    "collapsed": false
   },
   "outputs": [
    {
     "data": {
      "text/plain": [
       "<matplotlib.axes._subplots.AxesSubplot at 0x1e6cf3208>"
      ]
     },
     "execution_count": 43,
     "metadata": {},
     "output_type": "execute_result"
    },
    {
     "data": {
      "image/png": "[encoded data removed]",
      "text/plain": [
       "<matplotlib.figure.Figure at 0x1e6ce9d30>"
      ]
     },
     "metadata": {},
     "output_type": "display_data"
    }
   ],
   "source": [
    "pd.DataFrame(tet.ydata['word2vec'][0][:,0]).rolling(window=1,center=False).mean().plot()"
   ]
  },
  {
   "cell_type": "markdown",
   "metadata": {},
   "source": [
    "Let's see if classifying tomorrow's value going up or down will do us any better..."
   ]
  },
  {
   "cell_type": "code",
   "execution_count": 35,
   "metadata": {
    "collapsed": false
   },
   "outputs": [
    {
     "name": "stderr",
     "output_type": "stream",
     "text": [
      "//anaconda/envs/py3k/lib/python3.5/site-packages/sklearn/neural_network/multilayer_perceptron.py:563: ConvergenceWarning: Stochastic Optimizer: Maximum iterations reached and the optimization hasn't converged yet.\n",
      "  % (), ConvergenceWarning)\n"
     ]
    },
    {
     "name": "stdout",
     "output_type": "stream",
     "text": [
      "best parameter choices: ('tanh', (10, 5, 5))\n",
      "model_test_rmse: 16.142 benchmark_test_rmse: 15.294\n",
      "best parameter choices: ('tanh', (10, 5))\n",
      "model_test_rmse: 3.950 benchmark_test_rmse: 4.965\n",
      "best parameter choices: ('tanh', (10, 5))\n",
      "model_test_rmse: 4.741 benchmark_test_rmse: 5.179\n",
      "best parameter choices: ('tanh', (10, 5))\n",
      "model_test_rmse: 16.685 benchmark_test_rmse: 16.891\n",
      "best parameter choices: ('tanh', (10, 5))\n",
      "model_test_rmse: 4.040 benchmark_test_rmse: 4.849\n",
      "best parameter choices: ('tanh', (10, 5, 5))\n",
      "model_test_rmse: 1.920 benchmark_test_rmse: 2.060\n",
      "best parameter choices: ('tanh', (10, 5, 5))\n",
      "model_test_rmse: 1.386 benchmark_test_rmse: 1.407\n",
      "best parameter choices: ('tanh', (10, 5))\n",
      "model_test_rmse: 14.543 benchmark_test_rmse: 13.885\n",
      "best parameter choices: ('tanh', (10, 5))\n",
      "model_test_rmse: 7.208 benchmark_test_rmse: 7.761\n",
      "best parameter choices: ('tanh', (10, 5))\n",
      "model_test_rmse: 2.270 benchmark_test_rmse: 2.262\n",
      "best parameter choices: ('tanh', (10, 5))\n",
      "model_test_rmse: 1.016 benchmark_test_rmse: 1.158\n",
      "best parameter choices: ('tanh', (10, 5))\n",
      "model_test_rmse: 10.990 benchmark_test_rmse: 10.470\n",
      "best parameter choices: ('tanh', (10, 5, 5))\n",
      "model_test_rmse: 5.493 benchmark_test_rmse: 5.345\n",
      "best parameter choices: ('tanh', (10, 5, 5))\n",
      "model_test_rmse: 10.438 benchmark_test_rmse: 9.188\n",
      "best parameter choices: ('tanh', (10, 5))\n",
      "model_test_rmse: 7.071 benchmark_test_rmse: 6.237\n",
      "best parameter choices: ('tanh', (10, 5))\n",
      "model_test_rmse: 9.231 benchmark_test_rmse: 8.489\n",
      "best parameter choices: ('tanh', (10, 5))\n",
      "model_test_rmse: 4.262 benchmark_test_rmse: 5.329\n",
      "best parameter choices: ('tanh', (20, 5))\n",
      "model_test_rmse: 0.884 benchmark_test_rmse: 0.714\n",
      "best parameter choices: ('tanh', (10, 5, 5))\n",
      "model_test_rmse: 11.878 benchmark_test_rmse: 10.984\n",
      "best parameter choices: ('tanh', (20, 5))\n",
      "model_test_rmse: 5.331 benchmark_test_rmse: 5.942\n"
     ]
    },
    {
     "data": {
      "text/plain": [
       "[(6.9740931433457716, 4.8961619848329079),\n",
       " (6.9204902668871906, 4.5852421643687409)]"
      ]
     },
     "execution_count": 35,
     "metadata": {},
     "output_type": "execute_result"
    }
   ],
   "source": [
    "tet.auto_ts_val_test_reg('word2vec','mlpreg',[['activation',{'relu','tanh'}],['layers_size',{(10,5),(20,5),(10,5,5)}]],\n",
    "                           parm_search_iter=1,past_depth=30,n_folds_val=20,n_folds_test=20,scaling=False,notest=False,\n",
    "                           verbose=False,eqdiff=False,differential=True)"
   ]
  },
  {
   "cell_type": "code",
   "execution_count": 15,
   "metadata": {
    "collapsed": false
   },
   "outputs": [
    {
     "name": "stdout",
     "output_type": "stream",
     "text": [
      "best parameter choices: ('l1', 0.0001)\n",
      "test_rec,prec,F1: [0.0, 1.0, 0.0] benchmark_rec,prec,F1: [1.0, 1.0, 1.0]\n",
      "best parameter choices: ('l1', 0.0001)\n",
      "test_rec,prec,F1: [1.0, 1.0, 1.0] benchmark_rec,prec,F1: [1.0, 0.0, 0.0]\n",
      "best parameter choices: ('l1', 0.0001)\n",
      "test_rec,prec,F1: [1.0, 1.0, 1.0] benchmark_rec,prec,F1: [1.0, 0.0, 0.0]\n",
      "best parameter choices: ('l1', 0.0001)\n",
      "test_rec,prec,F1: [1.0, 1.0, 1.0] benchmark_rec,prec,F1: [1.0, 0.0, 0.0]\n",
      "best parameter choices: ('l1', 0.0001)\n",
      "test_rec,prec,F1: [1.0, 1.0, 1.0] benchmark_rec,prec,F1: [1.0, 0.0, 0.0]\n",
      "best parameter choices: ('l1', 5.5555699999999995)\n",
      "test_rec,prec,F1: [0.0, 1.0, 0.0] benchmark_rec,prec,F1: [1.0, 1.0, 1.0]\n",
      "best parameter choices: ('l1', 0.0001)\n",
      "test_rec,prec,F1: [0.0, 1.0, 0.0] benchmark_rec,prec,F1: [1.0, 1.0, 1.0]\n",
      "best parameter choices: ('l1', 0.0001)\n",
      "test_rec,prec,F1: [0.0, 1.0, 0.0] benchmark_rec,prec,F1: [1.0, 1.0, 1.0]\n",
      "best parameter choices: ('l1', 0.0001)\n",
      "test_rec,prec,F1: [1.0, 1.0, 1.0] benchmark_rec,prec,F1: [1.0, 0.0, 0.0]\n",
      "best parameter choices: ('l1', 0.0001)\n",
      "test_rec,prec,F1: [0.0, 1.0, 0.0] benchmark_rec,prec,F1: [1.0, 1.0, 1.0]\n",
      "best parameter choices: ('l1', 5.5555699999999995)\n",
      "test_rec,prec,F1: [1.0, 1.0, 1.0] benchmark_rec,prec,F1: [1.0, 1.0, 1.0]\n",
      "best parameter choices: ('l1', 3.4568066666666666)\n",
      "test_rec,prec,F1: [1.0, 1.0, 1.0] benchmark_rec,prec,F1: [1.0, 1.0, 1.0]\n",
      "best parameter choices: ('l1', 33.3334)\n",
      "test_rec,prec,F1: [1.0, 1.0, 1.0] benchmark_rec,prec,F1: [1.0, 1.0, 1.0]\n",
      "best parameter choices: ('l1', 33.3334)\n",
      "test_rec,prec,F1: [1.0, 1.0, 1.0] benchmark_rec,prec,F1: [1.0, 1.0, 1.0]\n",
      "best parameter choices: ('l1', 11.1112)\n",
      "test_rec,prec,F1: [1.0, 1.0, 1.0] benchmark_rec,prec,F1: [1.0, 1.0, 1.0]\n",
      "best parameter choices: ('l1', 55.555600000000005)\n",
      "test_rec,prec,F1: [1.0, 1.0, 1.0] benchmark_rec,prec,F1: [1.0, 1.0, 1.0]\n",
      "best parameter choices: ('l1', 11.1112)\n",
      "test_rec,prec,F1: [1.0, 0.0, 0.0] benchmark_rec,prec,F1: [1.0, 0.0, 0.0]\n",
      "best parameter choices: ('l1', 11.1112)\n",
      "test_rec,prec,F1: [1.0, 1.0, 1.0] benchmark_rec,prec,F1: [1.0, 1.0, 1.0]\n",
      "best parameter choices: ('l1', 11.1112)\n",
      "test_rec,prec,F1: [1.0, 1.0, 1.0] benchmark_rec,prec,F1: [1.0, 1.0, 1.0]\n",
      "best parameter choices: ('l1', 11.1112)\n",
      "test_rec,prec,F1: [1.0, 0.0, 0.0] benchmark_rec,prec,F1: [1.0, 0.0, 0.0]\n"
     ]
    },
    {
     "data": {
      "text/plain": [
       "[(array([[ 0.75,  0.9 ,  0.65]]),\n",
       "  array([[ 0.4330127,  0.3      ,  0.4769696]])),\n",
       " (array([[ 1.  ,  0.65,  0.65]]),\n",
       "  array([[ 0.       ,  0.4769696,  0.4769696]]))]"
      ]
     },
     "execution_count": 15,
     "metadata": {},
     "output_type": "execute_result"
    }
   ],
   "source": [
    "tet.auto_ts_val_test_class('word2vec','logreg',[['l1orl2?',{'l1','l2'}],['C',[0.0001,100.,0.3]]],\n",
    "                           parm_search_iter=10,n_folds_val=20,n_folds_test=20,past_depth=30,scaling=False,notest=False,\n",
    "                           verbose=False)"
   ]
  },
  {
   "cell_type": "markdown",
   "metadata": {},
   "source": [
    "Hmm, not too bad. Our average accuracy (=F1 in this case) is ~0.65 against ~0.65 of the benchmark. However our precision is quite larger at ~0.9 vs ~0.65."
   ]
  },
  {
   "cell_type": "code",
   "execution_count": 16,
   "metadata": {
    "collapsed": false
   },
   "outputs": [
    {
     "name": "stdout",
     "output_type": "stream",
     "text": [
      "best parameter choices: ('l2', 0.0001)\n",
      "test_rec,prec,F1: [0.0, 1.0, 0.0] benchmark_rec,prec,F1: [1.0, 1.0, 1.0]\n",
      "best parameter choices: ('l1', 0.0001)\n",
      "test_rec,prec,F1: [1.0, 1.0, 1.0] benchmark_rec,prec,F1: [1.0, 0.0, 0.0]\n",
      "best parameter choices: ('l1', 0.0001)\n",
      "test_rec,prec,F1: [1.0, 1.0, 1.0] benchmark_rec,prec,F1: [1.0, 0.0, 0.0]\n",
      "best parameter choices: ('l1', 0.0001)\n",
      "test_rec,prec,F1: [1.0, 1.0, 1.0] benchmark_rec,prec,F1: [1.0, 0.0, 0.0]\n",
      "best parameter choices: ('l1', 0.0001)\n",
      "test_rec,prec,F1: [1.0, 1.0, 1.0] benchmark_rec,prec,F1: [1.0, 0.0, 0.0]\n",
      "best parameter choices: ('l1', 0.0001)\n",
      "test_rec,prec,F1: [0.0, 1.0, 0.0] benchmark_rec,prec,F1: [1.0, 1.0, 1.0]\n",
      "best parameter choices: ('l1', 0.0001)\n",
      "test_rec,prec,F1: [0.0, 1.0, 0.0] benchmark_rec,prec,F1: [1.0, 1.0, 1.0]\n",
      "best parameter choices: ('l1', 0.0001)\n",
      "test_rec,prec,F1: [0.0, 1.0, 0.0] benchmark_rec,prec,F1: [1.0, 1.0, 1.0]\n",
      "best parameter choices: ('l2', 22.2223)\n",
      "test_rec,prec,F1: [1.0, 0.0, 0.0] benchmark_rec,prec,F1: [1.0, 0.0, 0.0]\n",
      "best parameter choices: ('l1', 0.0001)\n",
      "test_rec,prec,F1: [0.0, 1.0, 0.0] benchmark_rec,prec,F1: [1.0, 1.0, 1.0]\n",
      "best parameter choices: ('l2', 5.802493333333333)\n",
      "test_rec,prec,F1: [1.0, 1.0, 1.0] benchmark_rec,prec,F1: [1.0, 1.0, 1.0]\n",
      "best parameter choices: ('l2', 5.802493333333333)\n",
      "test_rec,prec,F1: [1.0, 1.0, 1.0] benchmark_rec,prec,F1: [1.0, 1.0, 1.0]\n",
      "best parameter choices: ('l2', 5.020597777777778)\n",
      "test_rec,prec,F1: [1.0, 1.0, 1.0] benchmark_rec,prec,F1: [1.0, 1.0, 1.0]\n",
      "best parameter choices: ('l2', 11.1112)\n",
      "test_rec,prec,F1: [0.0, 1.0, 0.0] benchmark_rec,prec,F1: [1.0, 1.0, 1.0]\n",
      "best parameter choices: ('l2', 11.1112)\n",
      "test_rec,prec,F1: [1.0, 1.0, 1.0] benchmark_rec,prec,F1: [1.0, 1.0, 1.0]\n",
      "best parameter choices: ('l2', 11.1112)\n",
      "test_rec,prec,F1: [1.0, 1.0, 1.0] benchmark_rec,prec,F1: [1.0, 1.0, 1.0]\n",
      "best parameter choices: ('l1', 0.7134614156378599)\n",
      "test_rec,prec,F1: [1.0, 0.0, 0.0] benchmark_rec,prec,F1: [1.0, 0.0, 0.0]\n",
      "best parameter choices: ('l1', 13.580333333333334)\n",
      "test_rec,prec,F1: [1.0, 1.0, 1.0] benchmark_rec,prec,F1: [1.0, 1.0, 1.0]\n",
      "best parameter choices: ('l1', 13.580333333333334)\n",
      "test_rec,prec,F1: [0.0, 1.0, 0.0] benchmark_rec,prec,F1: [1.0, 1.0, 1.0]\n",
      "best parameter choices: ('l1', 13.580333333333334)\n",
      "test_rec,prec,F1: [1.0, 0.0, 0.0] benchmark_rec,prec,F1: [1.0, 0.0, 0.0]\n"
     ]
    },
    {
     "data": {
      "text/plain": [
       "[(array([[ 0.65,  0.85,  0.5 ]]),\n",
       "  array([[ 0.4769696 ,  0.35707142,  0.5       ]])),\n",
       " (array([[ 1.  ,  0.65,  0.65]]),\n",
       "  array([[ 0.       ,  0.4769696,  0.4769696]]))]"
      ]
     },
     "execution_count": 16,
     "metadata": {},
     "output_type": "execute_result"
    }
   ],
   "source": [
    "tet.auto_ts_val_test_class('word2vec','logreg',[['l1orl2?',{'l1','l2'}],['C',[0.0001,100.,0.3]]],\n",
    "                           parm_search_iter=30,n_folds_val=20,n_folds_test=20,past_depth=30,scaling=True,notest=False,\n",
    "                           verbose=False)"
   ]
  },
  {
   "cell_type": "code",
   "execution_count": 17,
   "metadata": {
    "collapsed": false
   },
   "outputs": [
    {
     "name": "stdout",
     "output_type": "stream",
     "text": [
      "best parameter choices: (20, 15, 7)\n",
      "test_rec,prec,F1: [0.0, 1.0, 0.0] benchmark_rec,prec,F1: [1.0, 1.0, 1.0]\n",
      "best parameter choices: (20, 9, 4)\n",
      "test_rec,prec,F1: [1.0, 1.0, 1.0] benchmark_rec,prec,F1: [1.0, 0.0, 0.0]\n",
      "best parameter choices: (20, 10, 4)\n",
      "test_rec,prec,F1: [1.0, 1.0, 1.0] benchmark_rec,prec,F1: [1.0, 0.0, 0.0]\n",
      "best parameter choices: (20, 10, 5)\n",
      "test_rec,prec,F1: [1.0, 1.0, 1.0] benchmark_rec,prec,F1: [1.0, 0.0, 0.0]\n",
      "best parameter choices: (20, 17, 4)\n",
      "test_rec,prec,F1: [1.0, 1.0, 1.0] benchmark_rec,prec,F1: [1.0, 0.0, 0.0]\n",
      "best parameter choices: (20, 10, 7)\n",
      "test_rec,prec,F1: [0.0, 1.0, 0.0] benchmark_rec,prec,F1: [1.0, 1.0, 1.0]\n",
      "best parameter choices: (20, 16, 5)\n",
      "test_rec,prec,F1: [0.0, 1.0, 0.0] benchmark_rec,prec,F1: [1.0, 1.0, 1.0]\n",
      "best parameter choices: (20, 16, 7)\n",
      "test_rec,prec,F1: [0.0, 1.0, 0.0] benchmark_rec,prec,F1: [1.0, 1.0, 1.0]\n",
      "best parameter choices: (20, 10, 4)\n",
      "test_rec,prec,F1: [1.0, 1.0, 1.0] benchmark_rec,prec,F1: [1.0, 0.0, 0.0]\n",
      "best parameter choices: (20, 16, 6)\n",
      "test_rec,prec,F1: [1.0, 1.0, 1.0] benchmark_rec,prec,F1: [1.0, 1.0, 1.0]\n",
      "best parameter choices: (20, 15, 7)\n",
      "test_rec,prec,F1: [1.0, 1.0, 1.0] benchmark_rec,prec,F1: [1.0, 1.0, 1.0]\n",
      "best parameter choices: (20, 16, 4)\n",
      "test_rec,prec,F1: [1.0, 1.0, 1.0] benchmark_rec,prec,F1: [1.0, 1.0, 1.0]\n",
      "best parameter choices: (20, 9, 6)\n",
      "test_rec,prec,F1: [1.0, 1.0, 1.0] benchmark_rec,prec,F1: [1.0, 1.0, 1.0]\n",
      "best parameter choices: (20, 9, 4)\n",
      "test_rec,prec,F1: [1.0, 1.0, 1.0] benchmark_rec,prec,F1: [1.0, 1.0, 1.0]\n",
      "best parameter choices: (20, 17, 6)\n",
      "test_rec,prec,F1: [1.0, 1.0, 1.0] benchmark_rec,prec,F1: [1.0, 1.0, 1.0]\n",
      "best parameter choices: (20, 16, 6)\n",
      "test_rec,prec,F1: [1.0, 1.0, 1.0] benchmark_rec,prec,F1: [1.0, 1.0, 1.0]\n",
      "best parameter choices: (20, 10, 7)\n",
      "test_rec,prec,F1: [1.0, 1.0, 1.0] benchmark_rec,prec,F1: [1.0, 0.0, 0.0]\n",
      "best parameter choices: (20, 10, 5)\n",
      "test_rec,prec,F1: [1.0, 1.0, 1.0] benchmark_rec,prec,F1: [1.0, 1.0, 1.0]\n",
      "best parameter choices: (20, 10, 6)\n",
      "test_rec,prec,F1: [1.0, 1.0, 1.0] benchmark_rec,prec,F1: [1.0, 1.0, 1.0]\n",
      "best parameter choices: (20, 10, 5)\n",
      "test_rec,prec,F1: [1.0, 0.0, 0.0] benchmark_rec,prec,F1: [1.0, 0.0, 0.0]\n"
     ]
    },
    {
     "data": {
      "text/plain": [
       "[(array([[ 0.8 ,  0.95,  0.75]]),\n",
       "  array([[ 0.4       ,  0.21794495,  0.4330127 ]])),\n",
       " (array([[ 1.  ,  0.65,  0.65]]),\n",
       "  array([[ 0.       ,  0.4769696,  0.4769696]]))]"
      ]
     },
     "execution_count": 17,
     "metadata": {},
     "output_type": "execute_result"
    }
   ],
   "source": [
    "tet.auto_ts_val_test_class('word2vec','rfclass',[['n_estim',{20,}],['max_feat',{9,10,15,16,17,18}],\n",
    "                                                 ['max_depth',{4,5,6,7}]],parm_search_iter=1,n_folds_val=20,\n",
    "                           past_depth=30,n_folds_test=20,scaling=False,verbose=False,notest=False)"
   ]
  },
  {
   "cell_type": "code",
   "execution_count": 18,
   "metadata": {
    "collapsed": false
   },
   "outputs": [
    {
     "data": {
      "text/plain": [
       "array([ 0.])"
      ]
     },
     "execution_count": 18,
     "metadata": {},
     "output_type": "execute_result"
    }
   ],
   "source": [
    "tet.auto_ts_val_test_class('word2vec','rfclass',[['n_estim',{20,}],['max_feat',{9,10,15,16,17,18}],\n",
    "                                                 ['max_depth',{4,5,6,7}]],parm_search_iter=1,n_folds_val=20,\n",
    "                           past_depth=30,n_folds_test=20,scaling=False,verbose=False,notest=True)"
   ]
  },
  {
   "cell_type": "code",
   "execution_count": 22,
   "metadata": {
    "collapsed": false
   },
   "outputs": [
    {
     "name": "stdout",
     "output_type": "stream",
     "text": [
      "best parameter choices: (4,)\n",
      "test_rec,prec,F1: [1.0, 1.0, 1.0] benchmark_rec,prec,F1: [1.0, 1.0, 1.0]\n",
      "best parameter choices: (4,)\n",
      "test_rec,prec,F1: [1.0, 0.0, 0.0] benchmark_rec,prec,F1: [1.0, 0.0, 0.0]\n",
      "best parameter choices: (4,)\n",
      "test_rec,prec,F1: [1.0, 1.0, 1.0] benchmark_rec,prec,F1: [1.0, 0.0, 0.0]\n",
      "best parameter choices: (4,)\n",
      "test_rec,prec,F1: [1.0, 1.0, 1.0] benchmark_rec,prec,F1: [1.0, 0.0, 0.0]\n",
      "best parameter choices: (4,)\n",
      "test_rec,prec,F1: [1.0, 1.0, 1.0] benchmark_rec,prec,F1: [1.0, 0.0, 0.0]\n",
      "best parameter choices: (4,)\n",
      "test_rec,prec,F1: [0.0, 1.0, 0.0] benchmark_rec,prec,F1: [1.0, 1.0, 1.0]\n",
      "best parameter choices: (4,)\n",
      "test_rec,prec,F1: [0.0, 1.0, 0.0] benchmark_rec,prec,F1: [1.0, 1.0, 1.0]\n",
      "best parameter choices: (1,)\n",
      "test_rec,prec,F1: [1.0, 1.0, 1.0] benchmark_rec,prec,F1: [1.0, 1.0, 1.0]\n",
      "best parameter choices: (1,)\n",
      "test_rec,prec,F1: [1.0, 1.0, 1.0] benchmark_rec,prec,F1: [1.0, 0.0, 0.0]\n",
      "best parameter choices: (1,)\n",
      "test_rec,prec,F1: [1.0, 1.0, 1.0] benchmark_rec,prec,F1: [1.0, 1.0, 1.0]\n",
      "best parameter choices: (1,)\n",
      "test_rec,prec,F1: [1.0, 1.0, 1.0] benchmark_rec,prec,F1: [1.0, 1.0, 1.0]\n",
      "best parameter choices: (1,)\n",
      "test_rec,prec,F1: [1.0, 1.0, 1.0] benchmark_rec,prec,F1: [1.0, 1.0, 1.0]\n",
      "best parameter choices: (1,)\n",
      "test_rec,prec,F1: [1.0, 1.0, 1.0] benchmark_rec,prec,F1: [1.0, 1.0, 1.0]\n",
      "best parameter choices: (1,)\n",
      "test_rec,prec,F1: [1.0, 1.0, 1.0] benchmark_rec,prec,F1: [1.0, 1.0, 1.0]\n",
      "best parameter choices: (1,)\n",
      "test_rec,prec,F1: [1.0, 1.0, 1.0] benchmark_rec,prec,F1: [1.0, 1.0, 1.0]\n",
      "best parameter choices: (1,)\n",
      "test_rec,prec,F1: [0.0, 1.0, 0.0] benchmark_rec,prec,F1: [1.0, 1.0, 1.0]\n",
      "best parameter choices: (1,)\n",
      "test_rec,prec,F1: [1.0, 0.0, 0.0] benchmark_rec,prec,F1: [1.0, 0.0, 0.0]\n",
      "best parameter choices: (1,)\n",
      "test_rec,prec,F1: [1.0, 1.0, 1.0] benchmark_rec,prec,F1: [1.0, 1.0, 1.0]\n",
      "best parameter choices: (1,)\n",
      "test_rec,prec,F1: [0.0, 1.0, 0.0] benchmark_rec,prec,F1: [1.0, 1.0, 1.0]\n",
      "best parameter choices: (1,)\n",
      "test_rec,prec,F1: [1.0, 0.0, 0.0] benchmark_rec,prec,F1: [1.0, 0.0, 0.0]\n"
     ]
    },
    {
     "data": {
      "text/plain": [
       "[(array([[ 0.8 ,  0.85,  0.65]]),\n",
       "  array([[ 0.4       ,  0.35707142,  0.4769696 ]])),\n",
       " (array([[ 1.  ,  0.65,  0.65]]),\n",
       "  array([[ 0.       ,  0.4769696,  0.4769696]]))]"
      ]
     },
     "execution_count": 22,
     "metadata": {},
     "output_type": "execute_result"
    }
   ],
   "source": [
    "tet.auto_ts_val_test_class('word2vec','knnclass',[['n_neighbor',{1,2,3,4,5,6,7,8,9,10,11}]],parm_search_iter=1,\n",
    "                           n_folds_val=20,past_depth=30,n_folds_test=20,scaling=True,verbose=False,notest=False)"
   ]
  },
  {
   "cell_type": "code",
   "execution_count": 23,
   "metadata": {
    "collapsed": false
   },
   "outputs": [
    {
     "data": {
      "text/plain": [
       "array([ 1.])"
      ]
     },
     "execution_count": 23,
     "metadata": {},
     "output_type": "execute_result"
    }
   ],
   "source": [
    "tet.auto_ts_val_test_class('word2vec','knnclass',[['n_neighbor',{1,2,3,4,5,6,7,8,9,10,11}]],parm_search_iter=1,\n",
    "                           n_folds_val=20,past_depth=30,n_folds_test=20,scaling=True,verbose=False,notest=True)"
   ]
  },
  {
   "cell_type": "markdown",
   "metadata": {},
   "source": [
    "Wow, that was bad... Maybe SVM? Stay tuned and feel free to play with our tool!"
   ]
  },
  {
   "cell_type": "code",
   "execution_count": 25,
   "metadata": {
    "collapsed": false
   },
   "outputs": [
    {
     "name": "stdout",
     "output_type": "stream",
     "text": [
      "best parameter choices: (9,)\n",
      "test_rec,prec,F1: [0.0, 1.0, 0.0] benchmark_rec,prec,F1: [1.0, 1.0, 1.0]\n",
      "best parameter choices: (8,)\n",
      "test_rec,prec,F1: [1.0, 1.0, 1.0] benchmark_rec,prec,F1: [1.0, 0.0, 0.0]\n",
      "best parameter choices: (8,)\n",
      "test_rec,prec,F1: [1.0, 1.0, 1.0] benchmark_rec,prec,F1: [1.0, 0.0, 0.0]\n",
      "best parameter choices: (8,)\n",
      "test_rec,prec,F1: [1.0, 0.0, 0.0] benchmark_rec,prec,F1: [1.0, 0.0, 0.0]\n",
      "best parameter choices: (8,)\n",
      "test_rec,prec,F1: [1.0, 1.0, 1.0] benchmark_rec,prec,F1: [1.0, 0.0, 0.0]\n",
      "best parameter choices: (8,)\n",
      "test_rec,prec,F1: [0.0, 1.0, 0.0] benchmark_rec,prec,F1: [1.0, 1.0, 1.0]\n",
      "best parameter choices: (8,)\n",
      "test_rec,prec,F1: [0.0, 1.0, 0.0] benchmark_rec,prec,F1: [1.0, 1.0, 1.0]\n",
      "best parameter choices: (12,)\n",
      "test_rec,prec,F1: [0.0, 1.0, 0.0] benchmark_rec,prec,F1: [1.0, 1.0, 1.0]\n",
      "best parameter choices: (8,)\n",
      "test_rec,prec,F1: [1.0, 1.0, 1.0] benchmark_rec,prec,F1: [1.0, 0.0, 0.0]\n",
      "best parameter choices: (12,)\n",
      "test_rec,prec,F1: [0.0, 1.0, 0.0] benchmark_rec,prec,F1: [1.0, 1.0, 1.0]\n",
      "best parameter choices: (12,)\n",
      "test_rec,prec,F1: [1.0, 1.0, 1.0] benchmark_rec,prec,F1: [1.0, 1.0, 1.0]\n",
      "best parameter choices: (12,)\n",
      "test_rec,prec,F1: [1.0, 1.0, 1.0] benchmark_rec,prec,F1: [1.0, 1.0, 1.0]\n",
      "best parameter choices: (12,)\n",
      "test_rec,prec,F1: [0.0, 1.0, 0.0] benchmark_rec,prec,F1: [1.0, 1.0, 1.0]\n",
      "best parameter choices: (12,)\n",
      "test_rec,prec,F1: [0.0, 1.0, 0.0] benchmark_rec,prec,F1: [1.0, 1.0, 1.0]\n",
      "best parameter choices: (12,)\n",
      "test_rec,prec,F1: [1.0, 1.0, 1.0] benchmark_rec,prec,F1: [1.0, 1.0, 1.0]\n",
      "best parameter choices: (12,)\n",
      "test_rec,prec,F1: [1.0, 1.0, 1.0] benchmark_rec,prec,F1: [1.0, 1.0, 1.0]\n",
      "best parameter choices: (12,)\n",
      "test_rec,prec,F1: [1.0, 1.0, 1.0] benchmark_rec,prec,F1: [1.0, 0.0, 0.0]\n",
      "best parameter choices: (12,)\n",
      "test_rec,prec,F1: [0.0, 1.0, 0.0] benchmark_rec,prec,F1: [1.0, 1.0, 1.0]\n",
      "best parameter choices: (12,)\n",
      "test_rec,prec,F1: [1.0, 1.0, 1.0] benchmark_rec,prec,F1: [1.0, 1.0, 1.0]\n",
      "best parameter choices: (12,)\n",
      "test_rec,prec,F1: [1.0, 1.0, 1.0] benchmark_rec,prec,F1: [1.0, 0.0, 0.0]\n"
     ]
    },
    {
     "data": {
      "text/plain": [
       "[(array([[ 0.6 ,  0.95,  0.55]]),\n",
       "  array([[ 0.48989795,  0.21794495,  0.49749372]])),\n",
       " (array([[ 1.  ,  0.65,  0.65]]),\n",
       "  array([[ 0.       ,  0.4769696,  0.4769696]]))]"
      ]
     },
     "execution_count": 25,
     "metadata": {},
     "output_type": "execute_result"
    }
   ],
   "source": [
    "tet.auto_ts_val_test_class('word2vec','adabclass',[['n_estimators',{6,7,8,9,10,11,12}]],\n",
    "                           parm_search_iter=2,past_depth=30,n_folds_val=20,n_folds_test=20,scaling=False,notest=False,\n",
    "                           verbose=False)"
   ]
  },
  {
   "cell_type": "code",
   "execution_count": null,
   "metadata": {
    "collapsed": true
   },
   "outputs": [],
   "source": [
    "tet.auto_ts_val_test_class('word2vec','adabclass',[['n_estimators',{6,7,8,9,10,11,12}]],\n",
    "                           parm_search_iter=2,past_depth=30,n_folds_val=20,n_folds_test=20,scaling=False,notest=False,\n",
    "                           verbose=False)"
   ]
  },
  {
   "cell_type": "code",
   "execution_count": 31,
   "metadata": {
    "collapsed": false
   },
   "outputs": [
    {
     "name": "stdout",
     "output_type": "stream",
     "text": [
      "best parameter choices: ('relu', (10, 5))\n",
      "test_rec,prec,F1: [1.0, 1.0, 1.0] benchmark_rec,prec,F1: [1.0, 1.0, 1.0]\n"
     ]
    },
    {
     "name": "stderr",
     "output_type": "stream",
     "text": [
      "//anaconda/envs/py3k/lib/python3.5/site-packages/sklearn/neural_network/multilayer_perceptron.py:563: ConvergenceWarning: Stochastic Optimizer: Maximum iterations reached and the optimization hasn't converged yet.\n",
      "  % (), ConvergenceWarning)\n"
     ]
    },
    {
     "name": "stdout",
     "output_type": "stream",
     "text": [
      "best parameter choices: ('relu', (10, 5))\n",
      "test_rec,prec,F1: [1.0, 0.0, 0.0] benchmark_rec,prec,F1: [1.0, 0.0, 0.0]\n",
      "best parameter choices: ('relu', (20, 5))\n",
      "test_rec,prec,F1: [1.0, 0.0, 0.0] benchmark_rec,prec,F1: [1.0, 0.0, 0.0]\n",
      "best parameter choices: ('relu', (20, 5))\n",
      "test_rec,prec,F1: [1.0, 1.0, 1.0] benchmark_rec,prec,F1: [1.0, 0.0, 0.0]\n",
      "best parameter choices: ('relu', (10, 5))\n",
      "test_rec,prec,F1: [1.0, 0.0, 0.0] benchmark_rec,prec,F1: [1.0, 0.0, 0.0]\n",
      "best parameter choices: ('relu', (10, 5, 5))\n",
      "test_rec,prec,F1: [1.0, 1.0, 1.0] benchmark_rec,prec,F1: [1.0, 1.0, 1.0]\n",
      "best parameter choices: ('relu', (10, 5, 5))\n",
      "test_rec,prec,F1: [1.0, 1.0, 1.0] benchmark_rec,prec,F1: [1.0, 1.0, 1.0]\n",
      "best parameter choices: ('relu', (20, 5))\n",
      "test_rec,prec,F1: [0.0, 1.0, 0.0] benchmark_rec,prec,F1: [1.0, 1.0, 1.0]\n",
      "best parameter choices: ('relu', (10, 5))\n",
      "test_rec,prec,F1: [1.0, 1.0, 1.0] benchmark_rec,prec,F1: [1.0, 0.0, 0.0]\n",
      "best parameter choices: ('relu', (10, 5, 5))\n",
      "test_rec,prec,F1: [1.0, 1.0, 1.0] benchmark_rec,prec,F1: [1.0, 1.0, 1.0]\n",
      "best parameter choices: ('relu', (20, 5))\n",
      "test_rec,prec,F1: [0.0, 1.0, 0.0] benchmark_rec,prec,F1: [1.0, 1.0, 1.0]\n",
      "best parameter choices: ('relu', (10, 5, 5))\n",
      "test_rec,prec,F1: [1.0, 1.0, 1.0] benchmark_rec,prec,F1: [1.0, 1.0, 1.0]\n",
      "best parameter choices: ('relu', (10, 5))\n",
      "test_rec,prec,F1: [0.0, 1.0, 0.0] benchmark_rec,prec,F1: [1.0, 1.0, 1.0]\n",
      "best parameter choices: ('relu', (20, 5))\n",
      "test_rec,prec,F1: [1.0, 1.0, 1.0] benchmark_rec,prec,F1: [1.0, 1.0, 1.0]\n",
      "best parameter choices: ('tanh', (10, 5))\n",
      "test_rec,prec,F1: [1.0, 1.0, 1.0] benchmark_rec,prec,F1: [1.0, 1.0, 1.0]\n",
      "best parameter choices: ('relu', (10, 5, 5))\n",
      "test_rec,prec,F1: [1.0, 1.0, 1.0] benchmark_rec,prec,F1: [1.0, 1.0, 1.0]\n",
      "best parameter choices: ('tanh', (10, 5))\n",
      "test_rec,prec,F1: [1.0, 0.0, 0.0] benchmark_rec,prec,F1: [1.0, 0.0, 0.0]\n",
      "best parameter choices: ('relu', (10, 5))\n",
      "test_rec,prec,F1: [1.0, 1.0, 1.0] benchmark_rec,prec,F1: [1.0, 1.0, 1.0]\n",
      "best parameter choices: ('relu', (10, 5))\n",
      "test_rec,prec,F1: [1.0, 1.0, 1.0] benchmark_rec,prec,F1: [1.0, 1.0, 1.0]\n",
      "best parameter choices: ('relu', (10, 5, 5))\n",
      "test_rec,prec,F1: [1.0, 1.0, 1.0] benchmark_rec,prec,F1: [1.0, 0.0, 0.0]\n"
     ]
    },
    {
     "data": {
      "text/plain": [
       "[(array([[ 0.85,  0.8 ,  0.65]]),\n",
       "  array([[ 0.35707142,  0.4       ,  0.4769696 ]])),\n",
       " (array([[ 1.  ,  0.65,  0.65]]),\n",
       "  array([[ 0.       ,  0.4769696,  0.4769696]]))]"
      ]
     },
     "execution_count": 31,
     "metadata": {},
     "output_type": "execute_result"
    }
   ],
   "source": [
    "tet.auto_ts_val_test_class('word2vec','mlpclass',[['activation',{'relu','tanh'}],['layers_size',{(10,5),(20,5),(10,5,5)}]],\n",
    "                           parm_search_iter=1,past_depth=30,n_folds_val=20,n_folds_test=20,scaling=False,notest=False,\n",
    "                           verbose=False)"
   ]
  },
  {
   "cell_type": "code",
   "execution_count": null,
   "metadata": {
    "collapsed": true
   },
   "outputs": [],
   "source": []
  },
  {
   "cell_type": "code",
   "execution_count": 32,
   "metadata": {
    "collapsed": false
   },
   "outputs": [
    {
     "name": "stdout",
     "output_type": "stream",
     "text": [
      "best parameter choices: (20, 17, 4)\n",
      "test_rec,prec,F1: [0.0, 1.0, 0.0] benchmark_rec,prec,F1: [1.0, 1.0, 1.0]\n",
      "best parameter choices: (20, 9, 4)\n",
      "test_rec,prec,F1: [1.0, 0.0, 0.0] benchmark_rec,prec,F1: [1.0, 0.0, 0.0]\n",
      "best parameter choices: (20, 15, 7)\n",
      "test_rec,prec,F1: [1.0, 1.0, 1.0] benchmark_rec,prec,F1: [1.0, 0.0, 0.0]\n",
      "best parameter choices: (20, 16, 6)\n",
      "test_rec,prec,F1: [1.0, 1.0, 1.0] benchmark_rec,prec,F1: [1.0, 0.0, 0.0]\n",
      "best parameter choices: (20, 16, 6)\n",
      "test_rec,prec,F1: [1.0, 1.0, 1.0] benchmark_rec,prec,F1: [1.0, 0.0, 0.0]\n",
      "best parameter choices: (20, 15, 4)\n",
      "test_rec,prec,F1: [0.0, 1.0, 0.0] benchmark_rec,prec,F1: [1.0, 1.0, 1.0]\n",
      "best parameter choices: (20, 10, 7)\n",
      "test_rec,prec,F1: [0.0, 1.0, 0.0] benchmark_rec,prec,F1: [1.0, 1.0, 1.0]\n",
      "best parameter choices: (20, 9, 7)\n",
      "test_rec,prec,F1: [0.0, 1.0, 0.0] benchmark_rec,prec,F1: [1.0, 1.0, 1.0]\n",
      "best parameter choices: (20, 9, 7)\n",
      "test_rec,prec,F1: [1.0, 1.0, 1.0] benchmark_rec,prec,F1: [1.0, 0.0, 0.0]\n",
      "best parameter choices: (20, 16, 6)\n",
      "test_rec,prec,F1: [0.0, 1.0, 0.0] benchmark_rec,prec,F1: [1.0, 1.0, 1.0]\n",
      "best parameter choices: (20, 17, 4)\n",
      "test_rec,prec,F1: [0.0, 1.0, 0.0] benchmark_rec,prec,F1: [1.0, 1.0, 1.0]\n",
      "best parameter choices: (20, 9, 5)\n",
      "test_rec,prec,F1: [1.0, 1.0, 1.0] benchmark_rec,prec,F1: [1.0, 1.0, 1.0]\n",
      "best parameter choices: (20, 9, 6)\n",
      "test_rec,prec,F1: [0.0, 1.0, 0.0] benchmark_rec,prec,F1: [1.0, 1.0, 1.0]\n",
      "best parameter choices: (20, 10, 6)\n",
      "test_rec,prec,F1: [1.0, 1.0, 1.0] benchmark_rec,prec,F1: [1.0, 1.0, 1.0]\n",
      "best parameter choices: (20, 16, 7)\n",
      "test_rec,prec,F1: [1.0, 1.0, 1.0] benchmark_rec,prec,F1: [1.0, 1.0, 1.0]\n",
      "best parameter choices: (20, 10, 5)\n",
      "test_rec,prec,F1: [1.0, 1.0, 1.0] benchmark_rec,prec,F1: [1.0, 1.0, 1.0]\n",
      "best parameter choices: (20, 10, 7)\n",
      "test_rec,prec,F1: [1.0, 0.0, 0.0] benchmark_rec,prec,F1: [1.0, 0.0, 0.0]\n",
      "best parameter choices: (20, 15, 4)\n",
      "test_rec,prec,F1: [1.0, 1.0, 1.0] benchmark_rec,prec,F1: [1.0, 1.0, 1.0]\n",
      "best parameter choices: (20, 17, 7)\n",
      "test_rec,prec,F1: [1.0, 1.0, 1.0] benchmark_rec,prec,F1: [1.0, 1.0, 1.0]\n",
      "best parameter choices: (20, 17, 4)\n",
      "test_rec,prec,F1: [1.0, 0.0, 0.0] benchmark_rec,prec,F1: [1.0, 0.0, 0.0]\n"
     ]
    },
    {
     "data": {
      "text/plain": [
       "[(array([[ 0.65,  0.85,  0.5 ]]),\n",
       "  array([[ 0.4769696 ,  0.35707142,  0.5       ]])),\n",
       " (array([[ 1.  ,  0.65,  0.65]]),\n",
       "  array([[ 0.       ,  0.4769696,  0.4769696]]))]"
      ]
     },
     "execution_count": 32,
     "metadata": {},
     "output_type": "execute_result"
    }
   ],
   "source": [
    "tet.auto_ts_val_test_class('word2vec','rfclass',[['n_estim',{20,}],['max_feat',{9,10,15,16,17,18}],\n",
    "                                                 ['max_depth',{4,5,6,7}]],parm_search_iter=1,n_folds_val=20,\n",
    "                           past_depth=30,n_folds_test=20,scaling=False,verbose=False,notest=False)"
   ]
  },
  {
   "cell_type": "code",
   "execution_count": null,
   "metadata": {
    "collapsed": true
   },
   "outputs": [],
   "source": []
  }
 ],
 "metadata": {
  "anaconda-cloud": {},
  "kernelspec": {
   "display_name": "Python [conda env:py3k]",
   "language": "python",
   "name": "conda-env-py3k-py"
  },
  "language_info": {
   "codemirror_mode": {
    "name": "ipython",
    "version": 3
   },
   "file_extension": ".py",
   "mimetype": "text/x-python",
   "name": "python",
   "nbconvert_exporter": "python",
   "pygments_lexer": "ipython3",
   "version": "3.5.2"
  }
 },
 "nbformat": 4,
 "nbformat_minor": 0
}
