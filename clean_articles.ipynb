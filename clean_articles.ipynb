{
 "cells": [
  {
   "cell_type": "markdown",
   "metadata": {},
   "source": [
    "# Turn Json files into pandas dataframe"
   ]
  },
  {
   "cell_type": "code",
   "execution_count": 101,
   "metadata": {
    "collapsed": false
   },
   "outputs": [],
   "source": [
    "import pandas as pd\n",
    "import ijson\n",
    "import json\n",
    "import gensim\n",
    "import re\n",
    "import nltk\n",
    "from nltk.corpus import stopwords"
   ]
  },
  {
   "cell_type": "code",
   "execution_count": 79,
   "metadata": {
    "collapsed": false,
    "scrolled": false
   },
   "outputs": [
    {
     "name": "stdout",
     "output_type": "stream",
     "text": [
      "{\"body\": \"Facebook, Inc. (NASDAQ:FB) is projected to declare fiscal fourth quarter financial results right after the stock market’s official close on February 01, 2017. The stock added about 1.4 percent in price since last results when it was at $127.17 a share. Based on the most relevant past-periods data, there is an 58.82 percent probability for this firm’s share price to go up following next quarterly results. Earnings reaction history tells us that the equity price moved up 10 times out of last 17 reported quarters. It has beaten earnings-per-share estimates 58.% of the time in its last 12 earnings reports. It fell short of earnings estimates on 4 occasions, and it has met expectations 1 time.\\n\\nHere’s how traders responded to FB earnings announcements over the past few quarters.\\n\\nGiven its history, the average earnings announcement surprise was 21.11 percent over the past four quarters. Back on November 2, 2016, it posted earnings per-share earnings at $0.88 which beat the consensus $0.77 projection (positive surprise of14.29%. For the quarter, revenue came in at 7.01B versus consensus estimate of 6.92B. The stock dropped -5.64 percent the session following the earnings reports were released, and on 7th day price change was -3.14 percent.\\n\\nOn July 27, 2016, it reported earnings at $0.76 a share compared with the consensus estimate of $0.62 per share (positive surprise of 22.58%). Revenue of 6.44B for that quarter was above the $6.02B analysts had expected. The stock climbed 1.35% the day following the earnings announcement, and on 7th day price change was -0.67%.\\n\\nOn April 27, 2016, it recorded $0.57 a share in earnings which topped the consensus estimate of $0.44 (positive surprise of 29.55%). Revenue for the quarter was $5.38B while analysts called for revenues to be $5.26B. The stock gained 7.2% the day following the earnings data was made public, and on 7th day price change was 8.42%.\\n\\nOn January 27, 2016, it announced earnings per share at $0.59 versus the consensus estimate of $0.5 per share (positive surprise of 18%). That came on revenues of $5.84B for that period. Analysts had expected $5.37B in revenue.\\n\\nAs Q4 earnings announcement date approaches, Wall Street is expecting earnings per share of $1.07. The analysts’ present consensus range is $0.89-$1.3 for EPS. The market consensus range for revenue is between $7.19B and $7.84B, with an average of $7.62B.\\n\\nFacebook, Inc. (NASDAQ:FB) last ended at $129.37, sending the company’s market cap near $372.87B. The consensus 12-month price target from analysts covering the stock is $153.72. The share price has declined -3.09% from its top level in 52 weeks and dropped 12.45% this year. It recently traded in a range of $128.38-$129.9 at a volume of 15136724 shares. The recent trading ended with the price nearly 1.17 higher for the last 5 trading days, rebounding 37.29% from its 52-week low.\", \"category\": \"Facebook\", \"title\": \"Earnings Preview: Facebook, Inc. (NASDAQ:FB) moved up 10 times out of last 17 quarters | The Independent Republic\"}"
     ]
    }
   ],
   "source": [
    "%%bash\n",
    "head './data/Facebook/Earnings_Preview_Facebook_Inc_NASDAQFB_moved_up_10_times_out_of_last_17_quarters__The_Independent_Republic.json'"
   ]
  },
  {
   "cell_type": "code",
   "execution_count": 74,
   "metadata": {
    "collapsed": false
   },
   "outputs": [],
   "source": [
    "filename = 'Earnings_Preview_Facebook_Inc_NASDAQFB_moved_up_10_times_out_of_last_17_quarters__The_Independent_Republic.json'\n",
    "\n",
    "fin = open(filename)\n",
    "mydict = json.load(fin)\n",
    "fin.close()"
   ]
  },
  {
   "cell_type": "code",
   "execution_count": 75,
   "metadata": {
    "collapsed": false
   },
   "outputs": [
    {
     "data": {
      "text/html": [
       "<div>\n",
       "<table border=\"1\" class=\"dataframe\">\n",
       "  <thead>\n",
       "    <tr style=\"text-align: right;\">\n",
       "      <th></th>\n",
       "      <th>0</th>\n",
       "    </tr>\n",
       "  </thead>\n",
       "  <tbody>\n",
       "    <tr>\n",
       "      <th>body</th>\n",
       "      <td>Facebook, Inc. (NASDAQ:FB) is projected to dec...</td>\n",
       "    </tr>\n",
       "    <tr>\n",
       "      <th>category</th>\n",
       "      <td>Facebook</td>\n",
       "    </tr>\n",
       "    <tr>\n",
       "      <th>title</th>\n",
       "      <td>Earnings Preview: Facebook, Inc. (NASDAQ:FB) m...</td>\n",
       "    </tr>\n",
       "  </tbody>\n",
       "</table>\n",
       "</div>"
      ],
      "text/plain": [
       "                                                          0\n",
       "body      Facebook, Inc. (NASDAQ:FB) is projected to dec...\n",
       "category                                           Facebook\n",
       "title     Earnings Preview: Facebook, Inc. (NASDAQ:FB) m..."
      ]
     },
     "execution_count": 75,
     "metadata": {},
     "output_type": "execute_result"
    }
   ],
   "source": [
    "mydf = pd.DataFrame.from_dict(mydict, orient = 'index')\n",
    "mydf"
   ]
  },
  {
   "cell_type": "code",
   "execution_count": 93,
   "metadata": {
    "collapsed": false
   },
   "outputs": [
    {
     "data": {
      "text/plain": [
       "u'Facebook, Inc. (NASDAQ:FB) is projected to declare fiscal fourth quarter financial results right after the stock market\\u2019s official close on February 01, 2017. The stock added about 1.4 percent in price since last results when it was at $127.17 a share. Based on the most relevant past-periods data, there is an 58.82 percent probability for this firm\\u2019s share price to go up following next quarterly results. Earnings reaction history tells us that the equity price moved up 10 times out of last 17 reported quarters. It has beaten earnings-per-share estimates 58.% of the time in its last 12 earnings reports. It fell short of earnings estimates on 4 occasions, and it has met expectations 1 time.\\n\\nHere\\u2019s how traders responded to FB earnings announcements over the past few quarters.\\n\\nGiven its history, the average earnings announcement surprise was 21.11 percent over the past four quarters. Back on November 2, 2016, it posted earnings per-share earnings at $0.88 which beat the consensus $0.77 projection (positive surprise of14.29%. For the quarter, revenue came in at 7.01B versus consensus estimate of 6.92B. The stock dropped -5.64 percent the session following the earnings reports were released, and on 7th day price change was -3.14 percent.\\n\\nOn July 27, 2016, it reported earnings at $0.76 a share compared with the consensus estimate of $0.62 per share (positive surprise of 22.58%). Revenue of 6.44B for that quarter was above the $6.02B analysts had expected. The stock climbed 1.35% the day following the earnings announcement, and on 7th day price change was -0.67%.\\n\\nOn April 27, 2016, it recorded $0.57 a share in earnings which topped the consensus estimate of $0.44 (positive surprise of 29.55%). Revenue for the quarter was $5.38B while analysts called for revenues to be $5.26B. The stock gained 7.2% the day following the earnings data was made public, and on 7th day price change was 8.42%.\\n\\nOn January 27, 2016, it announced earnings per share at $0.59 versus the consensus estimate of $0.5 per share (positive surprise of 18%). That came on revenues of $5.84B for that period. Analysts had expected $5.37B in revenue.\\n\\nAs Q4 earnings announcement date approaches, Wall Street is expecting earnings per share of $1.07. The analysts\\u2019 present consensus range is $0.89-$1.3 for EPS. The market consensus range for revenue is between $7.19B and $7.84B, with an average of $7.62B.\\n\\nFacebook, Inc. (NASDAQ:FB) last ended at $129.37, sending the company\\u2019s market cap near $372.87B. The consensus 12-month price target from analysts covering the stock is $153.72. The share price has declined -3.09% from its top level in 52 weeks and dropped 12.45% this year. It recently traded in a range of $128.38-$129.9 at a volume of 15136724 shares. The recent trading ended with the price nearly 1.17 higher for the last 5 trading days, rebounding 37.29% from its 52-week low.'"
      ]
     },
     "execution_count": 93,
     "metadata": {},
     "output_type": "execute_result"
    }
   ],
   "source": [
    "mydf.iloc[0][0]"
   ]
  },
  {
   "cell_type": "markdown",
   "metadata": {},
   "source": [
    "## Now clean the body\n",
    "#### some things are not cleaned (such as B for billion and s after 2019. Clean later"
   ]
  },
  {
   "cell_type": "code",
   "execution_count": 95,
   "metadata": {
    "collapsed": false
   },
   "outputs": [
    {
     "data": {
      "text/plain": [
       "u'Facebook  Inc   NASDAQ FB  is projected to declare fiscal fourth quarter financial results right after the stock market s official close on February           The stock added about     percent in price since last results when it was at         a share  Based on the most relevant past periods data  there is an       percent probability for this firm s share price to go up following next quarterly results  Earnings reaction history tells us that the equity price moved up    times out of last    reported quarters  It has beaten earnings per share estimates      of the time in its last    earnings reports  It fell short of earnings estimates on   occasions  and it has met expectations   time   Here s how traders responded to FB earnings announcements over the past few quarters   Given its history  the average earnings announcement surprise was       percent over the past four quarters  Back on November          it posted earnings per share earnings at       which beat the consensus       projection  positive surprise of        For the quarter  revenue came in at     B versus consensus estimate of     B  The stock dropped       percent the session following the earnings reports were released  and on  th day price change was       percent   On July           it reported earnings at       a share compared with the consensus estimate of       per share  positive surprise of          Revenue of     B for that quarter was above the      B analysts had expected  The stock climbed       the day following the earnings announcement  and on  th day price change was          On April           it recorded       a share in earnings which topped the consensus estimate of        positive surprise of          Revenue for the quarter was      B while analysts called for revenues to be      B  The stock gained      the day following the earnings data was made public  and on  th day price change was         On January           it announced earnings per share at       versus the consensus estimate of      per share  positive surprise of       That came on revenues of      B for that period  Analysts had expected      B in revenue   As Q  earnings announcement date approaches  Wall Street is expecting earnings per share of        The analysts  present consensus range is            for EPS  The market consensus range for revenue is between      B and      B  with an average of      B   Facebook  Inc   NASDAQ FB  last ended at          sending the company s market cap near        B  The consensus    month price target from analysts covering the stock is          The share price has declined        from its top level in    weeks and dropped        this year  It recently traded in a range of                at a volume of          shares  The recent trading ended with the price nearly      higher for the last   trading days  rebounding        from its    week low '"
      ]
     },
     "execution_count": 95,
     "metadata": {},
     "output_type": "execute_result"
    }
   ],
   "source": [
    "letters_only = re.sub(\"[^a-zA-Z]\", \" \", mydf.iloc[0][0])\n",
    "letters_only"
   ]
  },
  {
   "cell_type": "markdown",
   "metadata": {},
   "source": [
    "# Tokenization\n",
    "## convert to lower case and split into individual words"
   ]
  },
  {
   "cell_type": "code",
   "execution_count": 111,
   "metadata": {
    "collapsed": false
   },
   "outputs": [
    {
     "data": {
      "text/plain": [
       "432"
      ]
     },
     "execution_count": 111,
     "metadata": {},
     "output_type": "execute_result"
    }
   ],
   "source": [
    "lower_case = letters_only.lower()\n",
    "words = lower_case.split()\n",
    "len(words)"
   ]
  },
  {
   "cell_type": "code",
   "execution_count": 102,
   "metadata": {
    "collapsed": false
   },
   "outputs": [],
   "source": [
    "#nltk.download() #download text data sets, incl stop words"
   ]
  },
  {
   "cell_type": "code",
   "execution_count": 103,
   "metadata": {
    "collapsed": false
   },
   "outputs": [
    {
     "name": "stdout",
     "output_type": "stream",
     "text": [
      "[u'i', u'me', u'my', u'myself', u'we', u'our', u'ours', u'ourselves', u'you', u'your', u'yours', u'yourself', u'yourselves', u'he', u'him', u'his', u'himself', u'she', u'her', u'hers', u'herself', u'it', u'its', u'itself', u'they', u'them', u'their', u'theirs', u'themselves', u'what', u'which', u'who', u'whom', u'this', u'that', u'these', u'those', u'am', u'is', u'are', u'was', u'were', u'be', u'been', u'being', u'have', u'has', u'had', u'having', u'do', u'does', u'did', u'doing', u'a', u'an', u'the', u'and', u'but', u'if', u'or', u'because', u'as', u'until', u'while', u'of', u'at', u'by', u'for', u'with', u'about', u'against', u'between', u'into', u'through', u'during', u'before', u'after', u'above', u'below', u'to', u'from', u'up', u'down', u'in', u'out', u'on', u'off', u'over', u'under', u'again', u'further', u'then', u'once', u'here', u'there', u'when', u'where', u'why', u'how', u'all', u'any', u'both', u'each', u'few', u'more', u'most', u'other', u'some', u'such', u'no', u'nor', u'not', u'only', u'own', u'same', u'so', u'than', u'too', u'very', u's', u't', u'can', u'will', u'just', u'don', u'should', u'now', u'd', u'll', u'm', u'o', u're', u've', u'y', u'ain', u'aren', u'couldn', u'didn', u'doesn', u'hadn', u'hasn', u'haven', u'isn', u'ma', u'mightn', u'mustn', u'needn', u'shan', u'shouldn', u'wasn', u'weren', u'won', u'wouldn']\n"
     ]
    }
   ],
   "source": [
    "print stopwords.words(\"english\")"
   ]
  },
  {
   "cell_type": "code",
   "execution_count": 110,
   "metadata": {
    "collapsed": false
   },
   "outputs": [
    {
     "data": {
      "text/plain": [
       "262"
      ]
     },
     "execution_count": 110,
     "metadata": {},
     "output_type": "execute_result"
    }
   ],
   "source": [
    "# Remove stopwords\n",
    "words = [w for w in words if not w in stopwords.words(\"english\")]\n",
    "len(words)"
   ]
  },
  {
   "cell_type": "code",
   "execution_count": null,
   "metadata": {
    "collapsed": true
   },
   "outputs": [],
   "source": []
  }
 ],
 "metadata": {
  "anaconda-cloud": {},
  "kernelspec": {
   "display_name": "Python [conda root]",
   "language": "python",
   "name": "conda-root-py"
  },
  "language_info": {
   "codemirror_mode": {
    "name": "ipython",
    "version": 2
   },
   "file_extension": ".py",
   "mimetype": "text/x-python",
   "name": "python",
   "nbconvert_exporter": "python",
   "pygments_lexer": "ipython2",
   "version": "2.7.12"
  }
 },
 "nbformat": 4,
 "nbformat_minor": 1
}
